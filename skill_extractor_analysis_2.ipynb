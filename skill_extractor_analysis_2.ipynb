{
  "cells": [
    {
      "cell_type": "markdown",
      "metadata": {
        "id": "view-in-github",
        "colab_type": "text"
      },
      "source": [
        "<a href=\"https://colab.research.google.com/github/schmcklr/skill_extractor/blob/main/skill_extractor_analysis_2.ipynb\" target=\"_parent\"><img src=\"https://colab.research.google.com/assets/colab-badge.svg\" alt=\"Open In Colab\"/></a>"
      ]
    },
    {
      "cell_type": "markdown",
      "metadata": {
        "id": "Ka_nthOwHsFc"
      },
      "source": [
        "# 1. Load data & define functions\n"
      ]
    },
    {
      "cell_type": "markdown",
      "metadata": {
        "id": "6f9P7qAOOu42"
      },
      "source": [
        "1.1 Defining function for stopword removal \n",
        "\n",
        "\n",
        "*   uses nltk library, extended by custom stopwords\n",
        "\n",
        "\n"
      ]
    },
    {
      "cell_type": "code",
      "execution_count": 11,
      "metadata": {
        "id": "G8iPQYp00Obi",
        "colab": {
          "base_uri": "https://localhost:8080/"
        },
        "outputId": "2b59a6cb-f266-490f-a0ea-aae77217c670"
      },
      "outputs": [
        {
          "output_type": "stream",
          "name": "stderr",
          "text": [
            "/usr/local/lib/python3.9/dist-packages/ipykernel/ipkernel.py:283: DeprecationWarning: `should_run_async` will not call `transform_cell` automatically in the future. Please pass the result to `transformed_cell` argument and any exception that happen during thetransform in `preprocessing_exc_tuple` in IPython 7.17 and above.\n",
            "  and should_run_async(code)\n"
          ]
        }
      ],
      "source": [
        "from nltk import word_tokenize, pos_tag, ne_chunk\n",
        "\n",
        "# Defining other stop words\n",
        "other_stop_words = ['genetics','financial', 'go', 'public', 'transport']\n",
        "\n",
        "# Function for removing stopwords from dataframe\n",
        "def remove_stopwords(df_column):\n",
        "  df_column = df_column.apply(lambda x: \" \".join(x for x in x.split() if x not in other_stop_words))\n",
        "  return df_column"
      ]
    },
    {
      "cell_type": "markdown",
      "source": [
        "1.2 Defining function for topic visualization\n",
        "*   uses pyLDAvis to display gensim topic models"
      ],
      "metadata": {
        "id": "hB4vPDmBmwAy"
      }
    },
    {
      "cell_type": "code",
      "source": [
        "# Needed for topic visualization\n",
        "!pip install --upgrade pyldavis        \n",
        "import pyLDAvis\n",
        "import pyLDAvis.gensim_models\n",
        "import webbrowser  \n",
        "\n",
        "# Function which allows visualization of topic modeling\n",
        "def visualization_with_vis(lda_model, corpus, dictionary, name):\n",
        "  vis = pyLDAvis.gensim_models.prepare(lda_model, corpus, dictionary, mds='mmds')\n",
        "  pyLDAvis.enable_notebook()\n",
        "  pyLDAvis.display(vis)\n",
        "  pyLDAvis.save_html(vis, name + '.html')"
      ],
      "metadata": {
        "colab": {
          "base_uri": "https://localhost:8080/"
        },
        "id": "ppzBpwTPmwPo",
        "outputId": "7aca9414-ce5d-4e73-d985-5c7b5ac156a2"
      },
      "execution_count": 12,
      "outputs": [
        {
          "output_type": "stream",
          "name": "stderr",
          "text": [
            "/usr/local/lib/python3.9/dist-packages/ipykernel/ipkernel.py:283: DeprecationWarning: `should_run_async` will not call `transform_cell` automatically in the future. Please pass the result to `transformed_cell` argument and any exception that happen during thetransform in `preprocessing_exc_tuple` in IPython 7.17 and above.\n",
            "  and should_run_async(code)\n"
          ]
        },
        {
          "output_type": "stream",
          "name": "stdout",
          "text": [
            "Looking in indexes: https://pypi.org/simple, https://us-python.pkg.dev/colab-wheels/public/simple/\n",
            "Requirement already satisfied: pyldavis in /usr/local/lib/python3.9/dist-packages (3.4.0)\n",
            "Requirement already satisfied: setuptools in /usr/local/lib/python3.9/dist-packages (from pyldavis) (67.6.1)\n",
            "Requirement already satisfied: numpy>=1.22.0 in /usr/local/lib/python3.9/dist-packages (from pyldavis) (1.22.4)\n",
            "Requirement already satisfied: funcy in /usr/local/lib/python3.9/dist-packages (from pyldavis) (2.0)\n",
            "Requirement already satisfied: scipy in /usr/local/lib/python3.9/dist-packages (from pyldavis) (1.10.1)\n",
            "Requirement already satisfied: gensim in /usr/local/lib/python3.9/dist-packages (from pyldavis) (4.3.1)\n",
            "Requirement already satisfied: pandas>=1.3.4 in /usr/local/lib/python3.9/dist-packages (from pyldavis) (1.4.4)\n",
            "Requirement already satisfied: joblib>=1.2.0 in /usr/local/lib/python3.9/dist-packages (from pyldavis) (1.2.0)\n",
            "Requirement already satisfied: numexpr in /usr/local/lib/python3.9/dist-packages (from pyldavis) (2.8.4)\n",
            "Requirement already satisfied: scikit-learn>=1.0.0 in /usr/local/lib/python3.9/dist-packages (from pyldavis) (1.2.2)\n",
            "Requirement already satisfied: jinja2 in /usr/local/lib/python3.9/dist-packages (from pyldavis) (3.1.2)\n",
            "Requirement already satisfied: python-dateutil>=2.8.1 in /usr/local/lib/python3.9/dist-packages (from pandas>=1.3.4->pyldavis) (2.8.2)\n",
            "Requirement already satisfied: pytz>=2020.1 in /usr/local/lib/python3.9/dist-packages (from pandas>=1.3.4->pyldavis) (2022.7.1)\n",
            "Requirement already satisfied: threadpoolctl>=2.0.0 in /usr/local/lib/python3.9/dist-packages (from scikit-learn>=1.0.0->pyldavis) (3.1.0)\n",
            "Requirement already satisfied: smart-open>=1.8.1 in /usr/local/lib/python3.9/dist-packages (from gensim->pyldavis) (6.3.0)\n",
            "Requirement already satisfied: MarkupSafe>=2.0 in /usr/local/lib/python3.9/dist-packages (from jinja2->pyldavis) (2.1.2)\n",
            "Requirement already satisfied: six>=1.5 in /usr/local/lib/python3.9/dist-packages (from python-dateutil>=2.8.1->pandas>=1.3.4->pyldavis) (1.16.0)\n"
          ]
        }
      ]
    },
    {
      "cell_type": "markdown",
      "source": [
        "# 2. Create skill list and skill extract function\n",
        "\n",
        "\n",
        "*   Get skills from API (emsicloud)\n",
        "*   Import of O*NET technology skills\n",
        "*   Add list with custom skills\n",
        "*   Create skill extract function\n",
        "\n"
      ],
      "metadata": {
        "id": "rL4Tus8J-ELA"
      }
    },
    {
      "cell_type": "markdown",
      "metadata": {
        "id": "8j_ITuKlRSP6"
      },
      "source": [
        "2.1 Connecting to API (emsicloud)\n",
        "\n",
        "\n"
      ]
    },
    {
      "cell_type": "code",
      "execution_count": 13,
      "metadata": {
        "id": "aW9OdJQGav-q",
        "colab": {
          "base_uri": "https://localhost:8080/"
        },
        "outputId": "ff9e053e-91ce-4941-cdd1-5ba7ec805c0a"
      },
      "outputs": [
        {
          "output_type": "stream",
          "name": "stderr",
          "text": [
            "/usr/local/lib/python3.9/dist-packages/ipykernel/ipkernel.py:283: DeprecationWarning: `should_run_async` will not call `transform_cell` automatically in the future. Please pass the result to `transformed_cell` argument and any exception that happen during thetransform in `preprocessing_exc_tuple` in IPython 7.17 and above.\n",
            "  and should_run_async(code)\n",
            "[nltk_data] Downloading package wordnet to /root/nltk_data...\n",
            "[nltk_data]   Package wordnet is already up-to-date!\n"
          ]
        }
      ],
      "source": [
        "import nltk\n",
        "import requests\n",
        "from nltk.stem.wordnet import WordNetLemmatizer\n",
        "nltk.download('wordnet')\n",
        "\n",
        "# Lemmatize the skills\n",
        "lemmatizer = WordNetLemmatizer()\n",
        "\n",
        "# Requesting access token\n",
        "url = \"https://auth.emsicloud.com/connect/token\"\n",
        "payload = \"client_id=lwtnyxiuohd90aqc&client_secret=ZqV4d9LQ&grant_type=client_credentials&scope=emsi_open\"\n",
        "headers = {'Content-Type': 'application/x-www-form-urlencoded'}\n",
        "response = requests.request(\"POST\", url, data=payload, headers=headers)\n",
        "url = \"https://emsiservices.com/skills/versions/latest/skills\"\n",
        "\n",
        "# Storing access token\n",
        "access_token = response.json()[\"access_token\"]\n",
        "\n",
        "# Requesting skill list\n",
        "querystring = {\"fields\": \"name,type,category,subcategory\", \"limit\": \"100000\"}\n",
        "headers = {'Authorization': 'Bearer ' + access_token}\n",
        "response = requests.request(\"GET\", url, headers=headers, params=querystring)\n",
        "data = response.json()\n",
        "\n",
        "# Initialise skill array\n",
        "skills = []\n",
        "\n",
        "# Initialise skill dict\n",
        "skills_dict = {}\n",
        "\n",
        "# Add skills to skills_dict\n",
        "for entry in data[\"data\"]:\n",
        "    if entry['category'] is None:\n",
        "        category = 'other'\n",
        "    elif entry['category'][\"name\"] == 'NULL':\n",
        "        category = 'other'\n",
        "    else:\n",
        "        category = entry['category'][\"name\"]\n",
        "    if entry['subcategory'] is None:\n",
        "        subcategory = 'other'\n",
        "    elif entry['subcategory'][\"name\"] == 'NULL':\n",
        "        subcategory = 'other'\n",
        "    else:\n",
        "        subcategory = entry['subcategory'][\"name\"]\n",
        "    skills_dict[lemmatizer.lemmatize(entry[\"name\"].lower().replace(' ', '_').replace('(','').replace(')','').replace('.',''))] = {\n",
        "        'name':  lemmatizer.lemmatize(entry[\"name\"].lower().replace(' ', '_').replace('(','').replace(')','').replace('.','')),\n",
        "        'category': category,\n",
        "        'subcategory': subcategory\n",
        "    }\n",
        "\n",
        "# Add skills to array\n",
        "for entry in data[\"data\"]:\n",
        "    skills.append(lemmatizer.lemmatize(entry[\"name\"].lower()))\n",
        "\n",
        "# Store categories & subcategories\n",
        "categories = {}\n",
        "sub_categories = {}\n",
        "\n",
        "for skill in skills_dict.values():\n",
        "    category = skill['category']\n",
        "    if category not in categories:\n",
        "        categories[category] = []\n",
        "    categories[category].append(skill['name'])\n",
        "\n",
        "for skill in skills_dict.values():\n",
        "    subcategory = skill['subcategory']\n",
        "    if subcategory not in sub_categories:\n",
        "        sub_categories[subcategory] = []\n",
        "    sub_categories[subcategory].append(skill['name'])"
      ]
    },
    {
      "cell_type": "markdown",
      "source": [
        "2.2 Import of O*NET technology skills"
      ],
      "metadata": {
        "id": "ShvzJ8_kc9aR"
      }
    },
    {
      "cell_type": "code",
      "source": [
        "import pandas as pd\n",
        "\n",
        "# Import technology skills raw data\n",
        "onet_skills_workbook = 'https://github.com/schmcklr/skill_extractor/blob/main/job_data/technology_skills.xlsx?raw=true'\n",
        "\n",
        "# Import of tabs\n",
        "onet_skills = pd.read_excel(onet_skills_workbook, sheet_name=\"Technology Skills\")\n",
        "\n",
        "# Convert to list\n",
        "onet_skills = onet_skills['Example'].str.lower().tolist()\n",
        "\n",
        "# Append to skill list\n",
        "skills += onet_skills"
      ],
      "metadata": {
        "colab": {
          "base_uri": "https://localhost:8080/"
        },
        "id": "A3bcfHkUc9JC",
        "outputId": "21d1554f-4ab6-40e8-ffd9-1fbf06b36f90"
      },
      "execution_count": 14,
      "outputs": [
        {
          "output_type": "stream",
          "name": "stderr",
          "text": [
            "/usr/local/lib/python3.9/dist-packages/ipykernel/ipkernel.py:283: DeprecationWarning: `should_run_async` will not call `transform_cell` automatically in the future. Please pass the result to `transformed_cell` argument and any exception that happen during thetransform in `preprocessing_exc_tuple` in IPython 7.17 and above.\n",
            "  and should_run_async(code)\n"
          ]
        }
      ]
    },
    {
      "cell_type": "markdown",
      "metadata": {
        "id": "HDj0s9ZhR8Wc"
      },
      "source": [
        "2.3 Adding list with custom skills and preprocess skills\n",
        "\n",
        "*   Creating own skill list\n",
        "*   Creating list with skill synonyms\n",
        "*   Replace blanks in compound skills with '_' to recognise them as one token \n",
        "*   Convert to set remove duplicates and get faster access\n",
        "\n",
        "\n"
      ]
    },
    {
      "cell_type": "code",
      "execution_count": 15,
      "metadata": {
        "id": "M55tJ04Kazpy",
        "colab": {
          "base_uri": "https://localhost:8080/"
        },
        "outputId": "99c96f06-44e2-411b-a784-f5843067acd8"
      },
      "outputs": [
        {
          "output_type": "stream",
          "name": "stderr",
          "text": [
            "/usr/local/lib/python3.9/dist-packages/ipykernel/ipkernel.py:283: DeprecationWarning: `should_run_async` will not call `transform_cell` automatically in the future. Please pass the result to `transformed_cell` argument and any exception that happen during thetransform in `preprocessing_exc_tuple` in IPython 7.17 and above.\n",
            "  and should_run_async(code)\n"
          ]
        }
      ],
      "source": [
        "from re import U\n",
        "# Creating own skill list\n",
        "other_skills = ['python', 'c++', 'c', 'r', 'java', 'hadoop', 'scala', 'flask', 'pandas', 'spark', 'scikit-learn',\n",
        "                'numpy', 'php', 'sql', 'mysql', 'css', 'mongdb', 'nltk', 'fastai', 'keras', 'pytorch', 'tensorflow',\n",
        "                'ruby', 'javascript', 'django', 'react', 'reactjs', 'ai', 'ui', 'tableau', 'crm', 'modeling',\n",
        "                'bpm', 'vision', 'communication', 'analysis', 'design',\n",
        "                'governance', 'police', 'simulation', 'automation', 'kpi', 'erp', 'statistic', 'sap', 'german', 'english', 'kafka', 'api', 'rest', 'database', 'metrics', 'autonomy']\n",
        "\n",
        "# Creating composed skills (needed for lemmatization that words considered as one word)\n",
        "composite_skills = ['process_modeling', 'application_development', 'change_techniques', 'business_case',\n",
        "                    'business_process_improvement', 'business_process', 'team_player']\n",
        "\n",
        "# Custom list for BPM Gartner skill set\n",
        "gartner_skill_set = ['business_case', 'project_management', 'organizational', 'communication',\n",
        "                     'change_management', 'process_discovery', 'process_modeling', 'governance',\n",
        "                     'performance_management', 'methodology_toolbox',\n",
        "                     'architecture', 'bpmn', 'bpm', 'agile_development', 'optimization', 'user_experience', 'ui'\n",
        "                     ]\n",
        "\n",
        "# List with skill synonyms                   \n",
        "skill_synonyms = {\n",
        "    'artificial_intelligence' : ['ai', 'artifical_intelligence'],\n",
        "    'user_interface': ['ui'], \n",
        "    'business_process_management': ['bpmn', 'bpm'], \n",
        "    'english_language': ['english'],\n",
        "    'german_language': ['german']\n",
        "}\n",
        "\n",
        "# Extending skill list fetched from Emsi and O*NET\n",
        "skills += other_skills\n",
        "skills += composite_skills\n",
        "skills += gartner_skill_set\n",
        "\n",
        "# Replace the blanks with '_' to recognise compound skills \n",
        "for i in range(len(skills)):\n",
        "    skills[i] = skills[i].replace(\" \", \"_\")\n",
        "\n",
        "# Convert to set remove duplicates and get faster access\n",
        "skills = set(skills)\n",
        "\n",
        "# Create filtered skill set to match recognized skills with emsi skill list\n",
        "filtered_skills = set()\n",
        "for skill in skills:\n",
        "    if \"_(\" in skill:\n",
        "        filtered_skills.add(skill)"
      ]
    },
    {
      "cell_type": "markdown",
      "source": [
        "2.4 Define function for skill extraction"
      ],
      "metadata": {
        "id": "QGND9Qfb5m3x"
      }
    },
    {
      "cell_type": "code",
      "source": [
        "# Function for skill extraction\n",
        "def extract_skills(df_column):\n",
        "  df_column = df_column.apply(lambda x: \" \".join(x for x in x.split() if x in skills))\n",
        "  return df_column"
      ],
      "metadata": {
        "colab": {
          "base_uri": "https://localhost:8080/"
        },
        "id": "QDia48tl5jJe",
        "outputId": "515cfe79-8745-4928-a66e-ced55359fcca"
      },
      "execution_count": 16,
      "outputs": [
        {
          "output_type": "stream",
          "name": "stderr",
          "text": [
            "/usr/local/lib/python3.9/dist-packages/ipykernel/ipkernel.py:283: DeprecationWarning: `should_run_async` will not call `transform_cell` automatically in the future. Please pass the result to `transformed_cell` argument and any exception that happen during thetransform in `preprocessing_exc_tuple` in IPython 7.17 and above.\n",
            "  and should_run_async(code)\n"
          ]
        }
      ]
    },
    {
      "cell_type": "markdown",
      "metadata": {
        "id": "ypqW45JTPZfJ"
      },
      "source": [
        "# 3. Filtering and second preprocessing\n",
        "\n",
        "\n",
        "*  Filter job advertisements for job keywords in job description\n",
        "*  Group data by year and visualize\n",
        "*  General Preprossesing\n",
        "*  Compute bigrams, trigrams with gensim phraser (does not create all possible bigrams)\n",
        "\n"
      ]
    },
    {
      "cell_type": "markdown",
      "metadata": {
        "id": "cfb6QK5zRUNK"
      },
      "source": [
        "3.1 Keyword filtering job description\n",
        "\n",
        "\n"
      ]
    },
    {
      "cell_type": "code",
      "execution_count": 18,
      "metadata": {
        "colab": {
          "base_uri": "https://localhost:8080/"
        },
        "id": "K57yAzcN0JQ1",
        "outputId": "e4c4fb98-d2b4-4759-d3b9-15db2fc0e89d"
      },
      "outputs": [
        {
          "output_type": "stream",
          "name": "stderr",
          "text": [
            "/usr/local/lib/python3.9/dist-packages/ipykernel/ipkernel.py:283: DeprecationWarning: `should_run_async` will not call `transform_cell` automatically in the future. Please pass the result to `transformed_cell` argument and any exception that happen during thetransform in `preprocessing_exc_tuple` in IPython 7.17 and above.\n",
            "  and should_run_async(code)\n"
          ]
        },
        {
          "output_type": "stream",
          "name": "stdout",
          "text": [
            "Preprocessing job advertisements (2694)...\n",
            "Filtering successfull! 2654 Job advertisements are left.\n"
          ]
        }
      ],
      "source": [
        "import pandas as pd\n",
        "\n",
        "# Fetching preprocessed data\n",
        "workbook = 'https://github.com/schmcklr/skill_extractor/blob/main/job_data/job_data_preprocessed_description_filtered.xlsx?raw=true'\n",
        "\n",
        "# Import of tabs\n",
        "job_data = pd.read_excel(workbook, sheet_name=\"Sheet1\")\n",
        "\n",
        "# User info (Number of job advertisements)\n",
        "print('Preprocessing job advertisements (' + str(len(job_data['description'])) + ')...')\n",
        "\n",
        "# Specifies job keywords\n",
        "jobKeywords = [\"bpm\", \"process\"]\n",
        "\n",
        "# Filter dataframe by keywords in column 'description' (ignores case)\n",
        "job_data = job_data[job_data['rawDescription'].str.contains('|'.join(jobKeywords), case=False)]\n",
        "\n",
        "print('Filtering successfull! ' + str(len(job_data['description'])) + ' Job advertisements are left.')"
      ]
    },
    {
      "cell_type": "markdown",
      "metadata": {
        "id": "dyVh8NMBSMxP"
      },
      "source": [
        "3.2 Group job data by year"
      ]
    },
    {
      "cell_type": "code",
      "execution_count": 19,
      "metadata": {
        "colab": {
          "base_uri": "https://localhost:8080/"
        },
        "id": "t04B3popEUmn",
        "outputId": "1e965aa2-cef6-4d68-f209-101662fa3458"
      },
      "outputs": [
        {
          "output_type": "stream",
          "name": "stdout",
          "text": [
            "{2015: 122, 2016: 37, 2017: 35, 2018: 240, 2019: 647, 2020: 694, 2021: 704, 2022: 175}\n"
          ]
        },
        {
          "output_type": "stream",
          "name": "stderr",
          "text": [
            "/usr/local/lib/python3.9/dist-packages/ipykernel/ipkernel.py:283: DeprecationWarning: `should_run_async` will not call `transform_cell` automatically in the future. Please pass the result to `transformed_cell` argument and any exception that happen during thetransform in `preprocessing_exc_tuple` in IPython 7.17 and above.\n",
            "  and should_run_async(code)\n"
          ]
        }
      ],
      "source": [
        "# Group the DataFrame by year\n",
        "grouped = job_data.groupby(job_data['created_at'].dt.year)\n",
        "\n",
        "# Create a dictionary to store the new DataFrames\n",
        "year_dfs = {}\n",
        "\n",
        "# Split groups into separate dataframes and store them in a dictionary\n",
        "for year, group in grouped:\n",
        "    year_dfs[year] = group.copy()\n",
        "\n",
        "# Number of jobs ads per year\n",
        "number_of_ads_per_year = {}\n",
        "for year in year_dfs:\n",
        "  number_of_ads_per_year[year] = len(year_dfs[year]['descriptionTokenized'])\n",
        "\n",
        "# User Info (Number of job ads per year)\n",
        "print(number_of_ads_per_year)"
      ]
    },
    {
      "cell_type": "markdown",
      "source": [
        "3.3 Visualisation of job postings by year"
      ],
      "metadata": {
        "id": "kxGP6A1wn9Fx"
      }
    },
    {
      "cell_type": "code",
      "source": [
        "import matplotlib.pyplot as plt\n",
        "\n",
        "# Set color\n",
        "color = '#334d5c'\n",
        "\n",
        "# Sort the data by years\n",
        "sorted_data = sorted(number_of_ads_per_year.items())\n",
        "\n",
        "# Creating a figure object\n",
        "fig = plt.figure(figsize=(10,5))\n",
        "fig, ax = plt.subplots(figsize=(10,5))\n",
        "\n",
        "# Creating bar plot with job data\n",
        "years = [x[0] for x in sorted_data]\n",
        "counts = [x[1] for x in sorted_data]\n",
        "bars = ax.bar(years, counts, color=color)\n",
        "\n",
        "# Set lable for number of postings\n",
        "for bar in bars:\n",
        "    height = bar.get_height()\n",
        "    ax.text(bar.get_x() + bar.get_width()/2., height/2, int(height),\n",
        "            ha='center', va='center', color='white', fontweight='bold', fontsize=10)\n",
        "\n",
        "# Set axis, labels and title\n",
        "ax.set_xlabel('Year', fontsize=10)\n",
        "ax.set_ylabel('Number of job postings', fontsize=10)\n",
        "plt.title(\"Number of job postings by year\", fontsize=16)\n",
        "\n",
        "# Calculate the average\n",
        "mean = sum(counts) / len(counts)\n",
        "line = plt.axhline(y=mean, xmin=0, xmax=1, ls='--', color=color)\n",
        "mean_text = f\"{mean:.0f} postings on average\"\n",
        "plt.text (2016, mean+20, mean_text,fontsize=12,color=color, rotation='horizontal')\n",
        "# Display chart\n",
        "plt.show()"
      ],
      "metadata": {
        "colab": {
          "base_uri": "https://localhost:8080/",
          "height": 561
        },
        "id": "EOr7MEOBn9dl",
        "outputId": "f4c9d809-d7e4-40e7-9d4f-cc9166d206da"
      },
      "execution_count": 20,
      "outputs": [
        {
          "output_type": "stream",
          "name": "stderr",
          "text": [
            "/usr/local/lib/python3.9/dist-packages/ipykernel/ipkernel.py:283: DeprecationWarning: `should_run_async` will not call `transform_cell` automatically in the future. Please pass the result to `transformed_cell` argument and any exception that happen during thetransform in `preprocessing_exc_tuple` in IPython 7.17 and above.\n",
            "  and should_run_async(code)\n"
          ]
        },
        {
          "output_type": "display_data",
          "data": {
            "text/plain": [
              "<Figure size 1000x500 with 0 Axes>"
            ]
          },
          "metadata": {}
        },
        {
          "output_type": "display_data",
          "data": {
            "text/plain": [
              "<Figure size 1000x500 with 1 Axes>"
            ],
            "image/png": "[encoded data removed]"
          },
          "metadata": {}
        }
      ]
    },
    {
      "cell_type": "markdown",
      "metadata": {
        "id": "Ad8gg5X4EV4M"
      },
      "source": [
        "3.4 General Preprossesing\n",
        "*   Tokenize documents\n",
        "*   Remove numbers, but not words that contain numbers\n",
        "*   Remove words that are only one character\n",
        "*   Lemmatization"
      ]
    },
    {
      "cell_type": "code",
      "execution_count": 21,
      "metadata": {
        "colab": {
          "base_uri": "https://localhost:8080/"
        },
        "id": "X68eAGSYaWXU",
        "outputId": "fb192c4a-0af9-414c-a8ba-e688ea3637b0"
      },
      "outputs": [
        {
          "output_type": "stream",
          "name": "stderr",
          "text": [
            "/usr/local/lib/python3.9/dist-packages/ipykernel/ipkernel.py:283: DeprecationWarning: `should_run_async` will not call `transform_cell` automatically in the future. Please pass the result to `transformed_cell` argument and any exception that happen during thetransform in `preprocessing_exc_tuple` in IPython 7.17 and above.\n",
            "  and should_run_async(code)\n"
          ]
        },
        {
          "output_type": "stream",
          "name": "stdout",
          "text": [
            "Looking in indexes: https://pypi.org/simple, https://us-python.pkg.dev/colab-wheels/public/simple/\n",
            "Requirement already satisfied: spacy in /usr/local/lib/python3.9/dist-packages (3.5.1)\n",
            "Requirement already satisfied: pydantic!=1.8,!=1.8.1,<1.11.0,>=1.7.4 in /usr/local/lib/python3.9/dist-packages (from spacy) (1.10.7)\n",
            "Requirement already satisfied: catalogue<2.1.0,>=2.0.6 in /usr/local/lib/python3.9/dist-packages (from spacy) (2.0.8)\n",
            "Requirement already satisfied: thinc<8.2.0,>=8.1.8 in /usr/local/lib/python3.9/dist-packages (from spacy) (8.1.9)\n",
            "Requirement already satisfied: packaging>=20.0 in /usr/local/lib/python3.9/dist-packages (from spacy) (23.0)\n",
            "Requirement already satisfied: typer<0.8.0,>=0.3.0 in /usr/local/lib/python3.9/dist-packages (from spacy) (0.7.0)\n",
            "Requirement already satisfied: numpy>=1.15.0 in /usr/local/lib/python3.9/dist-packages (from spacy) (1.22.4)\n",
            "Requirement already satisfied: spacy-legacy<3.1.0,>=3.0.11 in /usr/local/lib/python3.9/dist-packages (from spacy) (3.0.12)\n",
            "Requirement already satisfied: wasabi<1.2.0,>=0.9.1 in /usr/local/lib/python3.9/dist-packages (from spacy) (1.1.1)\n",
            "Requirement already satisfied: smart-open<7.0.0,>=5.2.1 in /usr/local/lib/python3.9/dist-packages (from spacy) (6.3.0)\n",
            "Requirement already satisfied: langcodes<4.0.0,>=3.2.0 in /usr/local/lib/python3.9/dist-packages (from spacy) (3.3.0)\n",
            "Requirement already satisfied: setuptools in /usr/local/lib/python3.9/dist-packages (from spacy) (67.6.1)\n",
            "Requirement already satisfied: pathy>=0.10.0 in /usr/local/lib/python3.9/dist-packages (from spacy) (0.10.1)\n",
            "Requirement already satisfied: spacy-loggers<2.0.0,>=1.0.0 in /usr/local/lib/python3.9/dist-packages (from spacy) (1.0.4)\n",
            "Requirement already satisfied: murmurhash<1.1.0,>=0.28.0 in /usr/local/lib/python3.9/dist-packages (from spacy) (1.0.9)\n",
            "Requirement already satisfied: preshed<3.1.0,>=3.0.2 in /usr/local/lib/python3.9/dist-packages (from spacy) (3.0.8)\n",
            "Requirement already satisfied: cymem<2.1.0,>=2.0.2 in /usr/local/lib/python3.9/dist-packages (from spacy) (2.0.7)\n",
            "Requirement already satisfied: requests<3.0.0,>=2.13.0 in /usr/local/lib/python3.9/dist-packages (from spacy) (2.27.1)\n",
            "Requirement already satisfied: tqdm<5.0.0,>=4.38.0 in /usr/local/lib/python3.9/dist-packages (from spacy) (4.65.0)\n",
            "Requirement already satisfied: srsly<3.0.0,>=2.4.3 in /usr/local/lib/python3.9/dist-packages (from spacy) (2.4.6)\n",
            "Requirement already satisfied: jinja2 in /usr/local/lib/python3.9/dist-packages (from spacy) (3.1.2)\n",
            "Requirement already satisfied: typing-extensions>=4.2.0 in /usr/local/lib/python3.9/dist-packages (from pydantic!=1.8,!=1.8.1,<1.11.0,>=1.7.4->spacy) (4.5.0)\n",
            "Requirement already satisfied: charset-normalizer~=2.0.0 in /usr/local/lib/python3.9/dist-packages (from requests<3.0.0,>=2.13.0->spacy) (2.0.12)\n",
            "Requirement already satisfied: idna<4,>=2.5 in /usr/local/lib/python3.9/dist-packages (from requests<3.0.0,>=2.13.0->spacy) (3.4)\n",
            "Requirement already satisfied: urllib3<1.27,>=1.21.1 in /usr/local/lib/python3.9/dist-packages (from requests<3.0.0,>=2.13.0->spacy) (1.26.15)\n",
            "Requirement already satisfied: certifi>=2017.4.17 in /usr/local/lib/python3.9/dist-packages (from requests<3.0.0,>=2.13.0->spacy) (2022.12.7)\n",
            "Requirement already satisfied: confection<1.0.0,>=0.0.1 in /usr/local/lib/python3.9/dist-packages (from thinc<8.2.0,>=8.1.8->spacy) (0.0.4)\n",
            "Requirement already satisfied: blis<0.8.0,>=0.7.8 in /usr/local/lib/python3.9/dist-packages (from thinc<8.2.0,>=8.1.8->spacy) (0.7.9)\n",
            "Requirement already satisfied: click<9.0.0,>=7.1.1 in /usr/local/lib/python3.9/dist-packages (from typer<0.8.0,>=0.3.0->spacy) (8.1.3)\n",
            "Requirement already satisfied: MarkupSafe>=2.0 in /usr/local/lib/python3.9/dist-packages (from jinja2->spacy) (2.1.2)\n"
          ]
        },
        {
          "output_type": "stream",
          "name": "stderr",
          "text": [
            "[nltk_data] Downloading package omw-1.4 to /root/nltk_data...\n",
            "[nltk_data] Downloading package wordnet to /root/nltk_data...\n",
            "[nltk_data]   Package wordnet is already up-to-date!\n",
            "[nltk_data] Downloading package punkt to /root/nltk_data...\n",
            "[nltk_data]   Unzipping tokenizers/punkt.zip.\n"
          ]
        }
      ],
      "source": [
        "!pip install spacy\n",
        "nltk.download('omw-1.4')\n",
        "nltk.download('wordnet')\n",
        "nltk.download('punkt')\n",
        "import nltk\n",
        "from nltk.stem.wordnet import WordNetLemmatizer\n",
        "from matplotlib import pyplot as plt\n",
        "from nltk.tokenize import RegexpTokenizer\n",
        "from nltk.util import ngrams\n",
        "from nltk.tokenize import word_tokenize\n",
        "\n",
        "# Create list whith all documents for tasks like computing bigrams/trigrams\n",
        "docs_all = []\n",
        "filtered_docs_all = []\n",
        "docs_by_year = {}\n",
        "new_doc_complete_all = []\n",
        "\n",
        "# Preprossesing based on year\n",
        "for year in year_dfs:\n",
        "\n",
        "  docs = list(year_dfs[year]['descriptionTokenized'])\n",
        "\n",
        "  # Tokenize the documents\n",
        "  tokenizer = RegexpTokenizer(r'[\\w#+]+')\n",
        "  for idx in range(len(docs)):\n",
        "      docs[idx] = docs[idx].lower()  # Convert to lowercase\n",
        "      docs[idx] = tokenizer.tokenize(docs[idx])  # Split into words\n",
        "\n",
        "  # Remove numbers, but not words that contain numbers\n",
        "  docs = [[token for token in doc if not token.isnumeric()] for doc in docs]\n",
        "\n",
        "  # Remove words that are only one character\n",
        "  docs = [[token for token in doc if len(token) > 1] for doc in docs]\n",
        "\n",
        "  # Innizialise lemmatizer\n",
        "  lemmatizer = WordNetLemmatizer()\n",
        "\n",
        "  # Lemmatize the documents\n",
        "  docs = [[lemmatizer.lemmatize(token) for token in doc] for doc in docs]\n",
        "\n",
        "  # Add processed docs to docs_by_year dict \n",
        "  docs_by_year[year] = docs\n",
        "  # Add processed docs to docs_all list (used for overall lda model and bigram/trigram calculation)\n",
        "  docs_all += docs"
      ]
    },
    {
      "cell_type": "markdown",
      "source": [
        "3.5 Compute bigrams, trigrams with gensim phraser (does not create all possible bigrams)\n"
      ],
      "metadata": {
        "id": "PDmaMcbdr-tf"
      }
    },
    {
      "cell_type": "code",
      "source": [
        "from gensim.utils import simple_preprocess\n",
        "from gensim.models.phrases import Phrases, Phraser\n",
        "\n",
        "# Compute bigrams\n",
        "bigram = Phrases(docs_all, min_count=1)\n",
        "# Compute trigrams\n",
        "trigram = Phrases(docs_all, min_count=1)"
      ],
      "metadata": {
        "colab": {
          "base_uri": "https://localhost:8080/"
        },
        "id": "-9WrcQhfr9FO",
        "outputId": "c11ee0e3-9fb9-40b4-ccee-15bc5f9bfeeb"
      },
      "execution_count": 23,
      "outputs": [
        {
          "output_type": "stream",
          "name": "stderr",
          "text": [
            "/usr/local/lib/python3.9/dist-packages/ipykernel/ipkernel.py:283: DeprecationWarning: `should_run_async` will not call `transform_cell` automatically in the future. Please pass the result to `transformed_cell` argument and any exception that happen during thetransform in `preprocessing_exc_tuple` in IPython 7.17 and above.\n",
            "  and should_run_async(code)\n",
            "/usr/local/lib/python3.9/dist-packages/google/rpc/__init__.py:20: DeprecationWarning: Deprecated call to `pkg_resources.declare_namespace('google.rpc')`.\n",
            "Implementing implicit namespace packages (as specified in PEP 420) is preferred to `pkg_resources.declare_namespace`. See https://setuptools.pypa.io/en/latest/references/keywords.html#keyword-namespace-packages\n",
            "  pkg_resources.declare_namespace(__name__)\n",
            "/usr/local/lib/python3.9/dist-packages/pkg_resources/__init__.py:2349: DeprecationWarning: Deprecated call to `pkg_resources.declare_namespace('google')`.\n",
            "Implementing implicit namespace packages (as specified in PEP 420) is preferred to `pkg_resources.declare_namespace`. See https://setuptools.pypa.io/en/latest/references/keywords.html#keyword-namespace-packages\n",
            "  declare_namespace(parent)\n"
          ]
        }
      ]
    },
    {
      "cell_type": "markdown",
      "source": [
        "3.6 Extract skills from job description\n",
        "\n",
        "\n",
        "*   compute bigrams, trigram with nltk (get all possible bigrams)\n",
        "*   extract skills from job description\n",
        "*   replace synonym skills\n",
        "*   normalize skill wording\n",
        "\n",
        "\n"
      ],
      "metadata": {
        "id": "mmdEkox7sqg2"
      }
    },
    {
      "cell_type": "code",
      "source": [
        "from gensim.utils import simple_preprocess\n",
        "from gensim.models.phrases import Phrases, Phraser\n",
        "\n",
        "# Preprossesing based on year\n",
        "for year in docs_by_year:\n",
        "\n",
        "  # Load docs for year\n",
        "  docs = docs_by_year[year]\n",
        "\n",
        "  # Going through the documents and adding bigrams and trigrams\n",
        "  for idx in range(len(docs)):\n",
        "      ############################################\n",
        "      # Creating bigrams with nltk\n",
        "      bigrams = ngrams(docs[idx], 2)\n",
        "      bigram_strings = [\"_\".join(bigram) for bigram in bigrams]\n",
        "      docs[idx].extend(bigram_strings)\n",
        "      #############################################\n",
        "      # Adding bigrams/trigrams calculated by gensim phraser\n",
        "      for token in bigram[docs[idx]]:\n",
        "          if '_' in token:\n",
        "            # If token is a bigram or trigram, add to document\n",
        "            docs[idx].append(token)\n",
        "      for token in trigram[docs[idx]]:\n",
        "          if '_' in token:\n",
        "            # If token is a bigram or trigram, add to document\n",
        "            docs[idx].append(token)\n",
        "\n",
        "  # Filter docs for tokens which are in skill list\n",
        "  filtered_docs = []\n",
        "  for doc in docs:\n",
        "      # Split text into tokens\n",
        "      tokens = doc\n",
        "      # OPTION #1: Keep only tokens that are included in the skills list (could take some time)\n",
        "      new_tokens = [token for token in tokens if token in skills]\n",
        "      # OPTION #2: Use all words\n",
        "      #new_tokens = [token.replace(' ', '_') for token in tokens]\n",
        "\n",
        "      # Convert new list of tokens into a string and add it to the new list of documents\n",
        "      filtered_docs.append(new_tokens)\n",
        "\n",
        "  # Replace synonym skills\n",
        "  for doc in filtered_docs:\n",
        "    for i in range(len(doc)):\n",
        "        for key in skill_synonyms.keys():\n",
        "            if doc[i] in skill_synonyms[key]:\n",
        "                doc[i] = key\n",
        "                break\n",
        "\n",
        "  # Replace skill terms with emsi skill list wording\n",
        "  for doc in filtered_docs:\n",
        "    for i in range(len(doc)):\n",
        "      for skill in filtered_skills:\n",
        "        if doc[i] == skill.split(\"_(\")[0]:\n",
        "          replaced_term = skill.replace('(', '').replace(')', '')\n",
        "          doc[i] = replaced_term\n",
        "          break\n",
        "\n",
        "  # Store extracted skills by year\n",
        "  docs_by_year[year] = filtered_docs\n",
        "\n",
        "  # Store extracted skills for all documents\n",
        "  filtered_docs_all += filtered_docs"
      ],
      "metadata": {
        "colab": {
          "base_uri": "https://localhost:8080/"
        },
        "id": "buC13v_-sqy5",
        "outputId": "120d2394-935c-4947-b997-de03b26829ed"
      },
      "execution_count": null,
      "outputs": [
        {
          "output_type": "stream",
          "name": "stderr",
          "text": [
            "/usr/local/lib/python3.9/dist-packages/ipykernel/ipkernel.py:283: DeprecationWarning: `should_run_async` will not call `transform_cell` automatically in the future. Please pass the result to `transformed_cell` argument and any exception that happen during thetransform in `preprocessing_exc_tuple` in IPython 7.17 and above.\n",
            "  and should_run_async(code)\n"
          ]
        }
      ]
    },
    {
      "cell_type": "markdown",
      "metadata": {
        "id": "OjWPJfgJdGSL"
      },
      "source": [
        "# 4. Topic Modeling (LDA model)\n",
        "\n",
        "\n",
        "*   Train LDA model (all data)\n",
        "*   Extract token frequencies (all data)\n",
        "*   Train lda model (by year)\n",
        "*   Extract token frequencies (by year)\n",
        "*   Export topic visualisation (all data, by year)"
      ]
    },
    {
      "cell_type": "markdown",
      "metadata": {
        "id": "syI-8TjpiAgh"
      },
      "source": [
        "4.1 Train LDA model (all data)\n",
        "\n",
        "\n",
        "*   used gensim for lda topic modeling, bag of words approach\n",
        "\n",
        "\n"
      ]
    },
    {
      "cell_type": "code",
      "execution_count": null,
      "metadata": {
        "id": "Od7RwluT8I_m"
      },
      "outputs": [],
      "source": [
        "!pip install gensim\n",
        "from gensim.models import LdaModel\n",
        "from gensim import corpora, models\n",
        "from gensim.corpora import Dictionary\n",
        "\n",
        "# Create dictionary representation of the documents\n",
        "dictionary = Dictionary(filtered_docs_all)\n",
        "\n",
        "# Filter out words that occur less than 10 documents\n",
        "#dictionary.filter_extremes(no_below=5)\n",
        "\n",
        "# Bag-of-words representation of the documents\n",
        "corpus = [dictionary.doc2bow(doc) for doc in filtered_docs_all] ####################### switch back to filtered_docs_all\n",
        "\n",
        "# Set training parameters\n",
        "num_topics = 30 # Specifies the number of topics to be extracted from the corpus\n",
        "chunksize = 2000 # Sets the number of documents used in each chunk during training to avoid memory issues\n",
        "passes = 20 # Sets the number of training passes to improve the model accuracy\n",
        "iterations = 400 # Sets the maximum number of iterations during the inference process for each document, which determines the accuracy of the model\n",
        "\n",
        "# Make an index to word dictionary\n",
        "temp = dictionary[0]  # Used only to \"load\" the dictionary\n",
        "id2word = dictionary.id2token\n",
        "\n",
        "# Lda model\n",
        "model = LdaModel(\n",
        "    corpus=corpus,\n",
        "    id2word=id2word,\n",
        "    chunksize=chunksize,\n",
        "    alpha='auto',\n",
        "    eta='auto',\n",
        "    iterations=iterations,\n",
        "    num_topics=num_topics,\n",
        "    passes=passes,\n",
        ")"
      ]
    },
    {
      "cell_type": "markdown",
      "source": [
        "4.2 Export topic visualisation (all data)"
      ],
      "metadata": {
        "id": "XUjvj6M94drW"
      }
    },
    {
      "cell_type": "code",
      "source": [
        "# Visualization of topics\n",
        "visualization_with_vis(model, corpus, dictionary,'overall')"
      ],
      "metadata": {
        "id": "AfrtwCrGcPbn"
      },
      "execution_count": null,
      "outputs": []
    },
    {
      "cell_type": "markdown",
      "metadata": {
        "id": "_QE3D2gvh2JR"
      },
      "source": [
        "4.3 Output top topics and average coherence (all data)"
      ]
    },
    {
      "cell_type": "code",
      "execution_count": null,
      "metadata": {
        "id": "mqv7-1en8Njx"
      },
      "outputs": [],
      "source": [
        "# Get top topics\n",
        "top_topics = model.top_topics(corpus)\n",
        "\n",
        "# Average topic coherence is the sum of topic coherences of all topics, divided by the number of topics.\n",
        "avg_topic_coherence = sum([t[1] for t in top_topics]) / num_topics\n",
        "print('Average topic coherence: %.4f.' % avg_topic_coherence)"
      ]
    },
    {
      "cell_type": "markdown",
      "metadata": {
        "id": "QH_1EMWJi7bX"
      },
      "source": [
        "4.4 Output topics and token frequencies (all data)"
      ]
    },
    {
      "cell_type": "code",
      "execution_count": null,
      "metadata": {
        "id": "Lit-nXN9Bic2"
      },
      "outputs": [],
      "source": [
        "# Print topics\n",
        "for idx, topic in model.print_topics(-1):\n",
        "    print(f'Topic: {idx} \\nWords: {topic}\\n')\n",
        "\n",
        "# Extract the frequency of each token from the corpus\n",
        "token_frequencies = {}\n",
        "for doc in corpus:\n",
        "    for token_id, freq in doc:\n",
        "        token = dictionary[token_id]\n",
        "        if token in token_frequencies:\n",
        "            token_frequencies[token] += freq\n",
        "        else:\n",
        "            token_frequencies[token] = freq\n",
        "\n",
        "# Sort tokens by descending frequency\n",
        "sorted_tokens = sorted(token_frequencies.items(), key=lambda x: x[1], reverse=True)"
      ]
    },
    {
      "cell_type": "markdown",
      "metadata": {
        "id": "Ry7vsOUXj0JP"
      },
      "source": [
        "4.5 Output token frequencies (token counted only once per doc, all data)"
      ]
    },
    {
      "cell_type": "code",
      "execution_count": null,
      "metadata": {
        "id": "b0a5EPnqAv-1"
      },
      "outputs": [],
      "source": [
        "# Extract the frequency of each token from the corpus\n",
        "token_frequencies = {}\n",
        "for doc in corpus:\n",
        "    tokens_in_doc = set()\n",
        "    for token_id, freq in doc:\n",
        "        token = dictionary[token_id]\n",
        "        if token not in tokens_in_doc:\n",
        "            tokens_in_doc.add(token)\n",
        "            if token in token_frequencies:\n",
        "                token_frequencies[token] += 1\n",
        "            else:\n",
        "                token_frequencies[token] = 1\n",
        "\n",
        "# Sort the tokens by descending frequency\n",
        "sorted_tokens = sorted(token_frequencies.items(), key=lambda x: x[1], reverse=True)"
      ]
    },
    {
      "cell_type": "markdown",
      "metadata": {
        "id": "JEv8L11OJvue"
      },
      "source": [
        "4.6 Store lda models & token frequencies"
      ]
    },
    {
      "cell_type": "code",
      "execution_count": null,
      "metadata": {
        "id": "lWSusYtqJePD"
      },
      "outputs": [],
      "source": [
        "# Store lda model, token frequencies for each year\n",
        "lda_models = {}\n",
        "token_freqs = {}\n",
        "lda_model_overall = []\n",
        "token_freqs_overall = []\n",
        "token_freqs_overall_dict = {}\n",
        "\n",
        "# Add model to lda_model list\n",
        "lda_model_overall = model\n",
        "token_freqs_overall = sorted_tokens\n",
        "token_freqs_overall_dict = {tup[0]: tup[1] for tup in sorted_tokens}"
      ]
    },
    {
      "cell_type": "markdown",
      "metadata": {
        "id": "FtV9PyV-HkJM"
      },
      "source": [
        "4.7 Train LDA model & export token frequencies (by year)"
      ]
    },
    {
      "cell_type": "code",
      "execution_count": null,
      "metadata": {
        "id": "Vjj7c0GjHvT2"
      },
      "outputs": [],
      "source": [
        "import warnings\n",
        "from gensim.models import LdaModel\n",
        "from gensim.models.phrases import Phrases\n",
        "\n",
        "# Ignore warning caused by gensim library, improve readability\n",
        "warnings.filterwarnings(\"ignore\", category=DeprecationWarning)\n",
        "\n",
        "# Analysis based on year\n",
        "for year in docs_by_year:\n",
        "\n",
        "  # User info\n",
        "  print('Analysing job advertisement data of ' + str(year) + ' (' + str(len(docs_by_year[year])) + ')...')\n",
        "\n",
        "  docs = docs_by_year[year]\n",
        "\n",
        "  # Create a dictionary representation of the documents\n",
        "  dictionary = Dictionary(filtered_docs_all)\n",
        "\n",
        "  # Filter out words that occur less than 10 documents\n",
        "  #dictionary.filter_extremes(no_below=10)\n",
        "  \n",
        "  # Bag-of-words representation of the documents\n",
        "  corpus = [dictionary.doc2bow(doc) for doc in docs]\n",
        "\n",
        "  # Set training parameters\n",
        "  num_topics = 30 # Specifies the number of topics to be extracted from the corpus\n",
        "  chunksize = 2000 # Sets the number of documents used in each chunk during training to avoid memory issues\n",
        "  passes = 20 # Sets the number of training passes to improve the model accuracy\n",
        "  iterations = 400 # Sets the maximum number of iterations during the inference process for each document, which determines the accuracy of the model\n",
        "\n",
        "  # Make an index to word dictionary.\n",
        "  temp = dictionary[0]  # Used only to \"load\" the dictionary\n",
        "  id2word = dictionary.id2token\n",
        "\n",
        "  # Train lda model\n",
        "  model = LdaModel(\n",
        "      corpus=corpus,\n",
        "      id2word=id2word,\n",
        "      chunksize=chunksize,\n",
        "      alpha='auto',\n",
        "      eta='auto',\n",
        "      iterations=iterations,\n",
        "      num_topics=num_topics,\n",
        "      passes=passes\n",
        "  )\n",
        "\n",
        "  # Print topics\n",
        "  for idx, topic in model.print_topics(-1):\n",
        "      print(f'Topic: {idx} \\nWords: {topic}\\n')\n",
        "\n",
        "\n",
        "  # Extract the frequency of each token from the corpus (only counted once per doc)\n",
        "  token_frequencies = {}\n",
        "  for doc in corpus:\n",
        "      tokens_in_doc = []\n",
        "      tokens_in_doc = set()\n",
        "      for token_id, freq in doc:\n",
        "          token = dictionary[token_id]\n",
        "          if token not in tokens_in_doc:\n",
        "              tokens_in_doc.add(token)\n",
        "              if token in token_frequencies:\n",
        "                  token_frequencies[token] += 1\n",
        "              else:\n",
        "                  token_frequencies[token] = 1\n",
        "\n",
        "\n",
        "  # Sort the tokens by descending frequency\n",
        "  sorted_tokens = []\n",
        "  sorted_tokens = sorted(token_frequencies.items(), key=lambda x: x[1], reverse=True)\n",
        "\n",
        "  # Add model to lda_model list\n",
        "  lda_models[year] = model\n",
        "  token_freqs[year] = sorted_tokens\n",
        "\n",
        "  # Topic Visualisation\n",
        "  visualization_with_vis(model, corpus, dictionary, str(year))"
      ]
    },
    {
      "cell_type": "markdown",
      "metadata": {
        "id": "GPoaCTGhjZVJ"
      },
      "source": [
        "# 5. Visualization"
      ]
    },
    {
      "cell_type": "markdown",
      "metadata": {
        "id": "Qjhxre79Oste"
      },
      "source": [
        "5.1 Prepare data for plotting"
      ]
    },
    {
      "cell_type": "code",
      "execution_count": null,
      "metadata": {
        "id": "kUKdQYToOxaf"
      },
      "outputs": [],
      "source": [
        "# Create list to store all extracted skills\n",
        "most_mentioned_skills = []\n",
        "for token, freq in token_freqs_overall:\n",
        "  most_mentioned_skills.append(token)\n",
        "\n",
        "# Create dict to store the calculated value by year (in which percentage of advertisements is the skill required)\n",
        "most_mentioned_skills_per_year = {}\n",
        "\n",
        "# Calculate percentage for each skill in each year\n",
        "for skill in most_mentioned_skills:\n",
        "  for year in token_freqs:\n",
        "    value = 0\n",
        "    for term, count in token_freqs[year]:\n",
        "      if skill == term:\n",
        "        value = count/number_of_ads_per_year[year]\n",
        "        break\n",
        "    if skill in most_mentioned_skills_per_year:\n",
        "      most_mentioned_skills_per_year[skill].append(value)\n",
        "    else:\n",
        "      most_mentioned_skills_per_year[skill] = []\n",
        "      most_mentioned_skills_per_year[skill].append(value)"
      ]
    },
    {
      "cell_type": "markdown",
      "source": [
        "5.2.1 Visualisation the development of skill requirements over time"
      ],
      "metadata": {
        "id": "sWGjrEtcQoEZ"
      }
    },
    {
      "cell_type": "code",
      "source": [
        "import matplotlib.pyplot as plt\n",
        "import numpy as np\n",
        "import ipywidgets as widgets\n",
        "from IPython.display import display\n",
        "from matplotlib.ticker import FormatStrFormatter\n",
        "\n",
        "# X axis\n",
        "years = np.array(list(token_freqs.keys()))\n",
        "\n",
        "# Create checkbox list for skills\n",
        "skills_list = list(most_mentioned_skills_per_year.keys())\n",
        "skills_checkboxes = widgets.SelectMultiple(\n",
        "    options=skills_list,\n",
        "    value=[skills_list[0]],  # Default value for initial selection\n",
        "    rows=10,\n",
        "    description='Skills:',\n",
        "    disabled=False,\n",
        "    layout=widgets.Layout(height='200px')\n",
        ")\n",
        "\n",
        "# Create plot function\n",
        "def plot_skills(skills):\n",
        "    plt.clf() # Clear old plot\n",
        "\n",
        "    fig = plt.figure(figsize=(10,5))\n",
        "    fig, ax = plt.subplots(figsize=(10,5))\n",
        "    plt.gca().xaxis.set_major_formatter(FormatStrFormatter('%d'))\n",
        "\n",
        "    # Plot selected skills\n",
        "    for skill in skills:\n",
        "        plt.plot(years, np.array(most_mentioned_skills_per_year[skill]), label=skill)\n",
        "\n",
        "    # Set the x-axis ticks to correspond to the year values\n",
        "    ax.set_xticks(years)\n",
        "\n",
        "    # Add axis labels\n",
        "    plt.xlabel(\"Year\")\n",
        "    plt.ylabel(\"Number of job advertisements\")\n",
        "\n",
        "    # Add title\n",
        "    plt.title(\"Development of skill requirements over time\", fontsize=16)\n",
        "\n",
        "    # Add legend and show plot\n",
        "    plt.legend()\n",
        "    plt.show()\n",
        "\n",
        "# Link checkbox list to plot function\n",
        "widgets.interactive(plot_skills, skills=skills_checkboxes)"
      ],
      "metadata": {
        "id": "0LqYOM7-V7HB"
      },
      "execution_count": null,
      "outputs": []
    },
    {
      "cell_type": "markdown",
      "source": [
        "5.2.2 Visualisation the development of skill requirements over time (with percentage in plot)"
      ],
      "metadata": {
        "id": "21mtV2jCUSlw"
      }
    },
    {
      "cell_type": "code",
      "source": [
        "import matplotlib.pyplot as plt\n",
        "import numpy as np\n",
        "import ipywidgets as widgets\n",
        "from IPython.display import display\n",
        "from matplotlib.ticker import FormatStrFormatter\n",
        "\n",
        "# X-axis\n",
        "years = np.array(list(token_freqs.keys()))\n",
        "\n",
        "# Create a checkbox list for skills\n",
        "skills_list = list(most_mentioned_skills_per_year.keys())\n",
        "skills_checkboxes = widgets.SelectMultiple(\n",
        "    options=skills_list,\n",
        "    value=[skills_list[0]],  # Default value for initial selection\n",
        "    rows=10,\n",
        "    description='Skills:',\n",
        "    disabled=False,\n",
        "    layout=widgets.Layout(height='200px')\n",
        ")\n",
        "\n",
        "\n",
        "# Create a function to plot the selected skills\n",
        "def plot_skills(skills):\n",
        "    plt.clf() # clear the old plot\n",
        "\n",
        "    fig = plt.figure(figsize=(10,5))\n",
        "    fig, ax = plt.subplots(figsize=(10,5))\n",
        "    plt.gca().xaxis.set_major_formatter(FormatStrFormatter('%d'))\n",
        "\n",
        "    for skill in skills:\n",
        "        skill_data = np.array(most_mentioned_skills_per_year[skill])\n",
        "        plt.plot(years, skill_data, label=skill)\n",
        "        \n",
        "        # Add the percentage as a label for each data point\n",
        "        for i, data_point in enumerate(skill_data):\n",
        "            plt.text(years[i], data_point, f\"{data_point:.1%}\", ha='center', va='bottom', fontsize=10)\n",
        "\n",
        "    # Set the x-axis ticks to correspond to the year values\n",
        "    ax.set_xticks(years)\n",
        "\n",
        "    # Label the axes\n",
        "    plt.xlabel(\"Year\")\n",
        "    plt.ylabel(\"Number of job advertisements\")\n",
        "\n",
        "    # Add title\n",
        "    plt.title(\"Development of skill requirements over time\", fontsize=16)\n",
        "\n",
        "    # Add legend and show plot\n",
        "    plt.legend()\n",
        "    plt.show()\n",
        "\n",
        "# Link the checkbox list to the plot function\n",
        "widgets.interactive(plot_skills, skills=skills_checkboxes)"
      ],
      "metadata": {
        "id": "VRs0gaSLqPQI"
      },
      "execution_count": null,
      "outputs": []
    },
    {
      "cell_type": "markdown",
      "metadata": {
        "id": "0a_l0aDnbRzR"
      },
      "source": [
        "5.3 Prepare data for category plotting"
      ]
    },
    {
      "cell_type": "code",
      "execution_count": null,
      "metadata": {
        "id": "kLirIQuYbPd0"
      },
      "outputs": [],
      "source": [
        "# Used to store skill count per category\n",
        "skills_per_category = {}\n",
        "skills_per_sub_category = {}\n",
        "token_without_category = []\n",
        "token_without_sub_category = []\n",
        "\n",
        "# Adjusting some key values\n",
        "for i, tup in enumerate(token_freqs_overall):\n",
        "    if tup[0] == 'communications':\n",
        "        token_freqs_overall[i] = ('communication', tup[1])\n",
        "    if tup[0] == 'bpmn':\n",
        "        token_freqs_overall[i] = ('business_process_management', tup[1])\n",
        "    if tup[0] == 'bpm':\n",
        "        token_freqs_overall[i] = ('business_process_management', tup[1])\n",
        "  \n",
        "# Prepare categories\n",
        "for token, freq in token_freqs_overall:\n",
        "  if token in skills_dict:\n",
        "    category = skills_dict[token]['category']\n",
        "    if skills_dict[token]['category'] == 'none':\n",
        "      category = 'other'\n",
        "  else:\n",
        "    token_without_category.append(token)\n",
        "    category = 'other'\n",
        "  \n",
        "  if category not in skills_per_category:\n",
        "    skills_per_category[category] = freq\n",
        "  else:\n",
        "    skills_per_category[category] += freq\n",
        "\n",
        "# Prepare subcategories\n",
        "for token, freq in token_freqs_overall:\n",
        "  if token in skills_dict:\n",
        "    subcategory = skills_dict[token]['subcategory']\n",
        "    if skills_dict[token]['subcategory'] == 'none':\n",
        "      subcategory = 'other'\n",
        "  else:\n",
        "    token_without_sub_category.append(token)\n",
        "    subcategory = 'other'\n",
        "  \n",
        "  if subcategory not in skills_per_sub_category:\n",
        "    skills_per_sub_category[subcategory] = freq\n",
        "  else:\n",
        "    skills_per_sub_category[subcategory] += freq"
      ]
    },
    {
      "cell_type": "markdown",
      "source": [
        "5.4 Plot skills per category"
      ],
      "metadata": {
        "id": "UIaEDpFRQN_O"
      }
    },
    {
      "cell_type": "code",
      "execution_count": null,
      "metadata": {
        "id": "LcaiBNOe7GiO"
      },
      "outputs": [],
      "source": [
        "import matplotlib.pyplot as plt\n",
        "import numpy as np\n",
        "\n",
        "# Calculate total number of skills\n",
        "total_skills = sum(skills_per_category.values())\n",
        "\n",
        "# Define colours\n",
        "colors = ['#334d5c', '#b7c5bb', '#d1e1ca', '#7fb685', '#43655a', '#f7cac9', '#e5989b', '#f5b7b1', '#d7bde2', '#e6bbcf',\n",
        "          '#a9cce3', '#a3e4d7', '#d5f5e3', '#f9e79f', '#f5cba7', '#e8daef', '#d2b4de', '#f0b27a', '#e74c3c', '#ecf0f1',\n",
        "          '#95a5a6', '#bdc3c7', '#ffeaa7', '#ffcdab', '#d5f5e3', '#a2d9ce', '#a9cce3', '#aec6cf', '#e6b0aa', '#d7bde2',\n",
        "          '#c39bd3', '#f1948a', '#f7dc6f', '#f0e68c', '#c8b487', '#b6b6b6', '#f9c74f', '#90e0ef', '#a7c5eb', '#d8e2dc',\n",
        "          '#ffe8d6', '#ffbdbd', '#ffb6c1', '#e59866', '#f5d7b5', '#fbeee6', '#eaffd0', '#d4ebd3', '#add8e6', '#c9c9ff',\n",
        "          '#ffdead', '#e6e6e6', '#fff1e6', '#f0fff0', '#e6e6fa', '#f08080', '#ff69b4', '#fa8072', '#ffc0cb', '#ff6347',\n",
        "          '#d1ccc0', '#ff7f50', '#ffb347', '#ffdab9', '#8c7ae6', '#f5e6ca', '#ffefd5', '#b19cd9', '#7f8c8d', '#f8c291',\n",
        "          '#f6ddcc', '#dfe6e9', '#00cec9', '#ffda79', '#ff6b6b', '#95afc0', '#ffeaa7', '#b8e994', '#78e08f', '#60a3bc',\n",
        "          '#f6e58d', '#ff9ff3', '#341f97', '#ffbe76', '#e55039', '#70a1ff', '#a29bfe', '#fab1a0', '#ff9f43', '#ff6b81',\n",
        "          '#badc58', '#e056fd', '#686de0', '#4834d4', '#ffbe0b', '#ff7979', '#6ab04c', '#eb4d4b', '#1e272e', '#8c7ae6']\n",
        "\n",
        "# Create Pie Chart\n",
        "sorted_values = sorted(skills_per_category.values(), reverse=True)\n",
        "sorted_categories = [list(skills_per_category.keys())[list(skills_per_category.values()).index(v)] for v in sorted_values]\n",
        "fig, ax = plt.subplots(figsize=(15,7.5))\n",
        "ax.axis('equal')\n",
        "pie = ax.pie(sorted_values, colors=colors, startangle=90, counterclock=False, wedgeprops={'linewidth': 1, 'edgecolor': 'white'})\n",
        "\n",
        "# Add inner circle\n",
        "circle = plt.Circle((0,0), 0.7, color='white')\n",
        "fig.gca().add_artist(circle)\n",
        "\n",
        "# Add labels and percentages\n",
        "labels = []\n",
        "categories = []\n",
        "for i, category in enumerate(sorted_categories):\n",
        "    count = skills_per_category[category]\n",
        "    percentage = count/total_skills*100\n",
        "    if round(percentage, 1) > 0:\n",
        "      if category not in categories:\n",
        "        labels.append(f\"{category} ({percentage:.1f}%)\")\n",
        "      categories.append(category)\n",
        "    if percentage >= 2:\n",
        "        angle = pie[0][i].theta1 + 0.5 * (pie[0][i].theta2 - pie[0][i].theta1)\n",
        "        x = np.cos(np.deg2rad(angle))\n",
        "        y = np.sin(np.deg2rad(angle))\n",
        "        plt.text(x*0.85, y*0.85, f\"{percentage:.1f}%\", ha='center', va='center', fontsize=8, fontweight='bold')\n",
        "\n",
        "# Add legend       \n",
        "plt.legend(pie[0], labels, loc=\"right\", fontsize=8)\n",
        "\n",
        "# Set title\n",
        "plt.title('Skills by Category', fontsize=15)\n",
        "\n",
        "# Show diagram\n",
        "plt.show()"
      ]
    },
    {
      "cell_type": "markdown",
      "source": [
        "5.5 Plot skills per Subcategory"
      ],
      "metadata": {
        "id": "OIiGFGuCQHDV"
      }
    },
    {
      "cell_type": "code",
      "source": [
        "import matplotlib.pyplot as plt\n",
        "import numpy as np\n",
        "\n",
        "# Calculate total number of skills\n",
        "total_skills = sum(skills_per_sub_category.values())\n",
        "\n",
        "# Define colours\n",
        "colors = ['#334d5c', '#b7c5bb', '#d1e1ca', '#7fb685', '#43655a', '#f7cac9', '#e5989b', '#f5b7b1', '#d7bde2', '#e6bbcf',\n",
        "          '#a9cce3', '#a3e4d7', '#d5f5e3', '#f9e79f', '#f5cba7', '#e8daef', '#d2b4de', '#f0b27a', '#e74c3c', '#ecf0f1',\n",
        "          '#95a5a6', '#bdc3c7', '#ffeaa7', '#ffcdab', '#d5f5e3', '#a2d9ce', '#a9cce3', '#aec6cf', '#e6b0aa', '#d7bde2',\n",
        "          '#c39bd3', '#f1948a', '#f7dc6f', '#f0e68c', '#c8b487', '#b6b6b6', '#f9c74f', '#90e0ef', '#a7c5eb', '#d8e2dc',\n",
        "          '#ffe8d6', '#ffbdbd', '#ffb6c1', '#e59866', '#f5d7b5', '#fbeee6', '#eaffd0', '#d4ebd3', '#add8e6', '#c9c9ff',\n",
        "          '#ffdead', '#e6e6e6', '#fff1e6', '#f0fff0', '#e6e6fa', '#f08080', '#ff69b4', '#fa8072', '#ffc0cb', '#ff6347',\n",
        "          '#d1ccc0', '#ff7f50', '#ffb347', '#ffdab9', '#8c7ae6', '#f5e6ca', '#ffefd5', '#b19cd9', '#7f8c8d', '#f8c291',\n",
        "          '#f6ddcc', '#dfe6e9', '#00cec9', '#ffda79', '#ff6b6b', '#95afc0', '#ffeaa7', '#b8e994', '#78e08f', '#60a3bc',\n",
        "          '#f6e58d', '#ff9ff3', '#341f97', '#ffbe76', '#e55039', '#70a1ff', '#a29bfe', '#fab1a0', '#ff9f43', '#ff6b81',\n",
        "          '#badc58', '#e056fd', '#686de0', '#4834d4', '#ffbe0b', '#ff7979', '#6ab04c', '#eb4d4b', '#1e272e', '#8c7ae6']\n",
        "\n",
        "\n",
        "# Create Pie Chart\n",
        "sorted_values = sorted(skills_per_sub_category.values(), reverse=True)\n",
        "sorted_subcategories = [list(skills_per_sub_category.keys())[list(skills_per_sub_category.values()).index(v)] for v in sorted_values]\n",
        "fig, ax = plt.subplots(figsize=(15,7.5))\n",
        "ax.axis('equal')\n",
        "pie = ax.pie(sorted_values, colors=colors, startangle=90, counterclock=False, wedgeprops={'linewidth': 0, 'edgecolor': 'white'})\n",
        "\n",
        "# Add inner circle\n",
        "circle = plt.Circle((0,0), 0.7, color='white')\n",
        "fig.gca().add_artist(circle)\n",
        "\n",
        "# Add labels and percentages\n",
        "labels = []\n",
        "categories = []\n",
        "\n",
        "for i, category in enumerate(sorted_subcategories):\n",
        "    count = skills_per_sub_category[category]\n",
        "    percentage = count/total_skills*100\n",
        "    if percentage >= 0.4:\n",
        "      if category not in categories:\n",
        "        labels.append(f\"{category} ({percentage:.1f}%)\")\n",
        "    categories.append(category)\n",
        "    if percentage >= 2:\n",
        "        angle = pie[0][i].theta1 + 0.5 * (pie[0][i].theta2 - pie[0][i].theta1)\n",
        "        x = np.cos(np.deg2rad(angle))\n",
        "        y = np.sin(np.deg2rad(angle))\n",
        "        plt.text(x*0.85, y*0.85, f\"{percentage:.1f}%\", ha='center', va='center', fontsize=8, fontweight='bold')\n",
        "\n",
        "# Add legend\n",
        "plt.legend(pie[0], labels, loc=\"lower right\", fontsize=7)\n",
        "\n",
        "# Set title\n",
        "plt.title('Skills by Subcategory', fontsize=15)\n",
        "text = '*not all labels are displayed'\n",
        "plt.text(0.10, 0.005, text, ha='right', va='bottom', transform=plt.gca().transAxes)\n",
        "\n",
        "# Show diagram\n",
        "plt.show()"
      ],
      "metadata": {
        "id": "qKwRbFYCQDOS"
      },
      "execution_count": null,
      "outputs": []
    },
    {
      "cell_type": "markdown",
      "metadata": {
        "id": "X03agKHbJkr9"
      },
      "source": [
        "5.6 Percentage share of categories in all identified skills over time\n"
      ]
    },
    {
      "cell_type": "code",
      "execution_count": null,
      "metadata": {
        "id": "ZrdagGLfJkM8"
      },
      "outputs": [],
      "source": [
        "import matplotlib.pyplot as plt\n",
        "import numpy as np\n",
        "import ipywidgets as widgets\n",
        "from IPython.display import display\n",
        "from matplotlib.ticker import FormatStrFormatter\n",
        "\n",
        "# X-axis\n",
        "years = np.array(list(token_freqs.keys()))\n",
        "\n",
        "# Dict to store the number of skills per category for each year\n",
        "skills_per_category_by_year = {}\n",
        "skills_per_sub_category_by_year = {}\n",
        "\n",
        "# Store the number of skills per category for each year\n",
        "for year in token_freqs.keys():\n",
        "\n",
        "  skills_per_category_by_year[year] = {}\n",
        "  skills_per_sub_category_by_year[year] = {}\n",
        "\n",
        "  # Adjusting some key values to match Api skills\n",
        "  for i, tup in enumerate(token_freqs[year]):\n",
        "    if tup[0] == 'communications':\n",
        "        token_freqs_overall[i] = ('communication', tup[1])\n",
        "    if tup[0] == 'bpmn':\n",
        "        token_freqs_overall[i] = ('business_process_management', tup[1])\n",
        "    if tup[0] == 'bpm':\n",
        "        token_freqs_overall[i] = ('business_process_management', tup[1])\n",
        "\n",
        "  # Assigning skills to categories, counting skill per category\n",
        "  for token, freq in token_freqs[year]:\n",
        "    # Assigning category if skill is in skill_dict\n",
        "    if token in skills_dict:\n",
        "      category = skills_dict[token]['category']\n",
        "      if skills_dict[token]['category'] == 'none':\n",
        "        category = 'other'\n",
        "    else:\n",
        "      category = 'other'\n",
        "    if category not in skills_per_category_by_year[year]:\n",
        "      skills_per_category_by_year[year][category] = freq\n",
        "    else:\n",
        "      skills_per_category_by_year[year][category] += freq\n",
        "\n",
        "# Number of skills per year\n",
        "number_of_skills_per_year = {}\n",
        "for year in token_freqs:\n",
        "  number_of_skills = 0\n",
        "  for skill, count in token_freqs[year]:\n",
        "    number_of_skills += count\n",
        "  number_of_skills_per_year[year] = number_of_skills\n",
        "\n",
        "# List to store categories\n",
        "categories = []\n",
        "for token in skills_per_category:\n",
        "  categories.append(token)\n",
        "\n",
        "# Dict to store value for each category in each year\n",
        "categories_per_year = {}\n",
        "\n",
        "# Calculate percentage for each categorie in each year\n",
        "for category in categories:\n",
        "  for year in skills_per_category_by_year:\n",
        "    value = 0\n",
        "    for term, count in skills_per_category_by_year[year].items():\n",
        "      if term == category:\n",
        "        value = count/number_of_skills_per_year[year]\n",
        "        break\n",
        "    if category in categories_per_year:\n",
        "      categories_per_year[category].append(value)\n",
        "    else:\n",
        "      categories_per_year[category] = []\n",
        "      categories_per_year[category].append(value)\n",
        "\n",
        "# Create a checkbox list for the categories\n",
        "categories_list = list(filter_duplicates_keep_order(sorted_categories))\n",
        "categories_checkboxes = widgets.SelectMultiple(\n",
        "    options=categories_list,\n",
        "    value=[categories_list[0]],  # Default value for the output selection\n",
        "    rows=10,\n",
        "    description='Categories:',\n",
        "    disabled=False,\n",
        "    layout=widgets.Layout(height='150px')\n",
        ")\n",
        "\n",
        "# Create plot function\n",
        "def plot_categories(categories):\n",
        "    plt.clf() # delete current plot\n",
        "\n",
        "    fig = plt.figure(figsize=(10,5))\n",
        "    fig, ax = plt.subplots(figsize=(10,5))\n",
        "    plt.gca().xaxis.set_major_formatter(FormatStrFormatter('%d'))\n",
        "\n",
        "    # Create line for each selected category\n",
        "    for category in categories:\n",
        "        plt.plot(years, np.array(categories_per_year[category]), label=category)\n",
        "\n",
        "    # Set the x-axis ticks to correspond to the year values\n",
        "    ax.set_xticks(years)\n",
        "\n",
        "    # Label axes\n",
        "    plt.xlabel(\"Year\")\n",
        "    plt.ylabel(\"Share of all skills found\")\n",
        "\n",
        "    # Add title\n",
        "    plt.title(\"The Evolution of Job Requirements in various Skill Categories Over Time\", fontsize=16)\n",
        "\n",
        "    # Add legend\n",
        "    plt.legend()\n",
        "    plt.show()\n",
        "\n",
        "# Link checkbox list with plot function\n",
        "widgets.interactive(plot_categories, categories=categories_checkboxes)"
      ]
    },
    {
      "cell_type": "markdown",
      "metadata": {
        "id": "mUqZPRx6-GHe"
      },
      "source": [
        "5.7 Percentage share of subcategories in all identified skills over time"
      ]
    },
    {
      "cell_type": "code",
      "execution_count": null,
      "metadata": {
        "id": "65lhg0J7-F3T"
      },
      "outputs": [],
      "source": [
        "import matplotlib.pyplot as plt\n",
        "import numpy as np\n",
        "import ipywidgets as widgets\n",
        "from IPython.display import display\n",
        "from matplotlib.ticker import FormatStrFormatter\n",
        "\n",
        "# X-axis\n",
        "years = np.array(list(token_freqs.keys()))\n",
        "\n",
        "# Dict to store the number of skills per subategory for each year\n",
        "skills_per_sub_category_by_year = {}\n",
        "\n",
        "# Store the number of skills per subcategory for each year\n",
        "for year in token_freqs.keys():\n",
        "\n",
        "  skills_per_sub_category_by_year[year] = {}\n",
        "\n",
        "  # Adjusting some key values\n",
        "  for i, tup in enumerate(token_freqs[year]):\n",
        "    if tup[0] == 'communications':\n",
        "        token_freqs_overall[i] = ('communication', tup[1])\n",
        "    if tup[0] == 'bpmn':\n",
        "        token_freqs_overall[i] = ('business_process_management', tup[1])\n",
        "    if tup[0] == 'bpm':\n",
        "        token_freqs_overall[i] = ('business_process_management', tup[1])\n",
        "\n",
        "\n",
        "  # Assigning skills to subcategories, counting skill per subcategory\n",
        "  for token, freq in token_freqs[year]:\n",
        "    # Assigning subcategory if skill is in skill_dict\n",
        "    if token in skills_dict:\n",
        "      subcategory = skills_dict[token]['subcategory']\n",
        "      if skills_dict[token]['subcategory'] == 'none':\n",
        "        subcategory = 'other'\n",
        "    else:\n",
        "      subcategory = 'other'\n",
        "    if subcategory not in skills_per_sub_category_by_year [year]:\n",
        "      skills_per_sub_category_by_year [year][subcategory] = freq\n",
        "    else:\n",
        "      skills_per_sub_category_by_year [year][subcategory] += freq\n",
        "\n",
        "# Number of skills per year\n",
        "number_of_skills_per_year = {}\n",
        "for year in token_freqs:\n",
        "  number_of_skills = 0\n",
        "  for skill, count in token_freqs[year]:\n",
        "    number_of_skills += count\n",
        "  number_of_skills_per_year[year] = number_of_skills\n",
        "\n",
        "# List to store categories\n",
        "sub_categories = []\n",
        "for token in skills_per_sub_category:\n",
        "  sub_categories.append(token)\n",
        "\n",
        "# Dict to store value for each category in each year\n",
        "sub_categories_per_year = {}\n",
        "\n",
        "# Calculate percentage for each subcategorie in each year\n",
        "for category in sub_categories:\n",
        "  for year in skills_per_sub_category_by_year :\n",
        "    value = 0\n",
        "    for term, count in skills_per_sub_category_by_year [year].items():\n",
        "      if term == category:\n",
        "        value = count/number_of_skills_per_year[year]\n",
        "        break\n",
        "    if category in sub_categories_per_year:\n",
        "      sub_categories_per_year[category].append(value)\n",
        "    else:\n",
        "      sub_categories_per_year[category] = []\n",
        "      sub_categories_per_year[category].append(value)\n",
        "\n",
        "# Create a checkbox list for subcategories\n",
        "sub_categories_list = list(filter_duplicates_keep_order(sorted_subcategories))\n",
        "sub_categories_checkboxes = widgets.SelectMultiple(\n",
        "    options=sub_categories_list,\n",
        "    value=[sub_categories_list[0]],  # Default value for the output selection\n",
        "    rows=10,\n",
        "    description='Subcategories:',\n",
        "    disabled=False,\n",
        "    layout=widgets.Layout(height='150px')\n",
        ")\n",
        "\n",
        "# Create plot function\n",
        "def plot_sub_categories(sub_categories):\n",
        "    plt.clf() # delete current plot\n",
        "\n",
        "    fig = plt.figure(figsize=(14,6))\n",
        "    fig, ax = plt.subplots(figsize=(14,6))\n",
        "    plt.gca().xaxis.set_major_formatter(FormatStrFormatter('%d'))\n",
        "\n",
        "    # Create line for each selected subcategory\n",
        "    for sub_category in sub_categories:\n",
        "        plt.plot(years, np.array(sub_categories_per_year[sub_category]), label=sub_category)\n",
        "\n",
        "    # Set the x-axis ticks to correspond to the year values\n",
        "    ax.set_xticks(years)\n",
        "\n",
        "    # Label axes\n",
        "    plt.xlabel(\"Year\")\n",
        "    plt.ylabel(\"Share of all skills found\")\n",
        "\n",
        "    # Add title\n",
        "    plt.title(\"The Evolution of Job Requirements in various Skill Subcategories Over Time\", fontsize=16)\n",
        "\n",
        "    # Add legend\n",
        "    plt.legend()\n",
        "    plt.show()\n",
        "\n",
        "# Link checkbox list with plot function\n",
        "widgets.interactive(plot_sub_categories, sub_categories=sub_categories_checkboxes)"
      ]
    },
    {
      "cell_type": "markdown",
      "metadata": {
        "id": "YZmGYHqCjloH"
      },
      "source": [
        "# 6. Evaluation"
      ]
    },
    {
      "cell_type": "markdown",
      "metadata": {
        "id": "8sPzWSIeG4OE"
      },
      "source": [
        "6.1 Evaluation of LDA model for different number of topics"
      ]
    },
    {
      "cell_type": "code",
      "execution_count": null,
      "metadata": {
        "id": "dYpdopKLu5QA"
      },
      "outputs": [],
      "source": [
        "from gensim.test.utils import common_corpus, common_dictionary\n",
        "from gensim.models.ldamodel import LdaModel\n",
        "from gensim.models.coherencemodel import CoherenceModel\n",
        "\n",
        "# Lists for storing coherence and perplexity values\n",
        "coherence_values = []\n",
        "coherence_values_cv = []\n",
        "coherence = []\n",
        "perplexity_values = []\n",
        "\n",
        "for num_topics in range(1, 100, 1):\n",
        "\n",
        "    # Create a dictionary representation of the documents\n",
        "    dictionary = Dictionary(filtered_docs_all)\n",
        "\n",
        "    # Filter out words that occur less than 20 documents, or more than 50% of the documents (currently switched off)\n",
        "    #dictionary.filter_extremes(no_below=5)\n",
        "\n",
        "    # Bag-of-words representation of the documents\n",
        "    corpus = [dictionary.doc2bow(doc) for doc in filtered_docs_all]\n",
        "\n",
        "    # Set training parameters\n",
        "    chunksize = 2000 # Sets the number of documents used in each chunk during training to avoid memory issues\n",
        "    passes = 10 # Sets the number of training passes to improve the model accuracy\n",
        "    iterations = 100 # Sets the maximum number of iterations during the inference process for each document, which determines the accuracy of the model\n",
        "\n",
        "    # Make an index to word dictionary\n",
        "    temp = dictionary[0]  # Used only to \"load\" the dictionary\n",
        "    id2word = dictionary.id2token\n",
        "\n",
        "    model = LdaModel(\n",
        "        corpus=corpus,\n",
        "        id2word=id2word,\n",
        "        chunksize=chunksize,\n",
        "        alpha='auto',\n",
        "        eta='auto',\n",
        "        iterations=iterations,\n",
        "        num_topics=num_topics,\n",
        "        passes=passes\n",
        "    )\n",
        "\n",
        "    #########################COHERENCE############################\n",
        "    # Calculation of coherence with the c_v coherence model\n",
        "    coherence_model_cv = CoherenceModel(model=model, texts=filtered_docs_all, dictionary=dictionary, coherence='c_v')\n",
        "    coherence_cv = coherence_model_cv.get_coherence()\n",
        "    coherence_values_cv.append(coherence_model_cv.get_coherence())\n",
        "    print((\"Number of Topics: \" + str(num_topics) + \" -> Coherence (c_v): \" + str(coherence_cv)))\n",
        "\n",
        "    # Calculation of coherence with the u_mass coherence model\n",
        "    coherence_model_u_mass = CoherenceModel(model=model, corpus=corpus, coherence='u_mass')\n",
        "    coherence_values.append((\"Anzahl der Topics: \" + str(num_topics) + \" -> Coherence: \" + str(coherence_model_u_mass.get_coherence())))\n",
        "    coherence.append(coherence_model_u_mass.get_coherence())\n",
        "\n",
        "    ########################PERPLEXITY###########################\n",
        "\n",
        "    # Get the perplexity score\n",
        "    perplexity = model.log_perplexity(corpus)\n",
        "    perplexity_values.append(\"Anzahl der Topics: \" + str(num_topics) + \" -> Perplexity: \" + str(perplexity))\n",
        "    print(\"Anzahl der Topics: \" + str(num_topics) + \" -> Perplexity: \" + str(perplexity))"
      ]
    },
    {
      "cell_type": "markdown",
      "metadata": {
        "id": "e4-Gz3PMjZS9"
      },
      "source": [
        "6.2 Coherence score (u_mass)"
      ]
    },
    {
      "cell_type": "code",
      "execution_count": null,
      "metadata": {
        "id": "zd1_e2sE6CG9"
      },
      "outputs": [],
      "source": [
        "import matplotlib.pyplot as plt\n",
        "\n",
        "# Set parameters\n",
        "limit = 100\n",
        "start = 1\n",
        "step = 1\n",
        "x = range(start, limit, step)\n",
        "\n",
        "# Set color\n",
        "color = '#334d5c'\n",
        "\n",
        "fig = plt.figure(figsize=(10,5))\n",
        "fig, ax = plt.subplots(figsize=(10,5))\n",
        "\n",
        "# Find the lowest coherence value\n",
        "min_coherence = min(coherence)\n",
        "\n",
        "# Find the index of the lowest y-value\n",
        "index_min_y = np.argmin(coherence)\n",
        "\n",
        "# Access the corresponding x-value with the found index\n",
        "x_min_y = x[index_min_y]\n",
        "\n",
        "# Plot the coherence line and line for the lowest value\n",
        "plt.plot(x, coherence, color=color, label='coherence (u_mass)')\n",
        "plt.axvline(x=x_min_y, color=color, linestyle='--')\n",
        "\n",
        "# Add text for best coherence value\n",
        "best_coherence_text = \"Best coherence score \\nfor \" + f\"{x_min_y:.0f} topics (\" + f\"{min_coherence:.2f})\"\n",
        "plt.text(x_min_y + 2, -6, best_coherence_text, fontsize=12, color=color, rotation='horizontal')\n",
        "\n",
        "# Add labels and show plot\n",
        "plt.xlabel(\"Number of topics\")\n",
        "plt.ylabel(\"Coherence score\")\n",
        "plt.title(\"Coherence score (u_mass) for different number of topics\", fontsize=16)\n",
        "plt.legend()\n",
        "plt.show()"
      ]
    },
    {
      "cell_type": "markdown",
      "metadata": {
        "id": "ONKvHMKHjT5U"
      },
      "source": [
        "6.3 Coherence score (c_v)"
      ]
    },
    {
      "cell_type": "code",
      "execution_count": null,
      "metadata": {
        "id": "m5jgxMsrjOh4"
      },
      "outputs": [],
      "source": [
        "import matplotlib.pyplot as plt\n",
        "\n",
        "# Set parameters\n",
        "limit = 100\n",
        "start = 1\n",
        "step = 1\n",
        "x = range(start, limit, step)\n",
        "\n",
        "# Set color\n",
        "color = '#334d5c'\n",
        "\n",
        "fig = plt.figure(figsize=(10,5))\n",
        "fig, ax = plt.subplots(figsize=(10,5))\n",
        "\n",
        "# Find the lowest coherence value\n",
        "max_coherence = min(coherence_values_cv)\n",
        "\n",
        "# Find the index of the lowest y-value\n",
        "index_min_y = np.argmax(coherence_values_cv)\n",
        "\n",
        "# Access the corresponding x-value with the found index\n",
        "x_min_y = x[index_min_y]\n",
        "\n",
        "# Plot the coherence line and line for the lowest value\n",
        "plt.plot(x, coherence_values_cv, color=color, label='coherence (c_v)')\n",
        "plt.axvline(x=x_min_y, color=color, linestyle='--')\n",
        "\n",
        "# Add text for best coherence value\n",
        "best_coherence_text = \"Best coherence score \\nfor \" + f\"{x_min_y:.0f} topics (\" + f\"{max_coherence:.2f})\"\n",
        "plt.text(x_min_y + 2, 0.34, best_coherence_text, fontsize=12, color=color, rotation='horizontal')\n",
        "\n",
        "# Add labels and show plot\n",
        "plt.xlabel(\"Number of topics\")\n",
        "plt.ylabel(\"Coherence score\")\n",
        "plt.title(\"Coherence score (c_v) for different number of topics\", fontsize=16)\n",
        "plt.legend()\n",
        "plt.show()"
      ]
    }
  ],
  "metadata": {
    "accelerator": "GPU",
    "colab": {
      "provenance": [],
      "mount_file_id": "1bkMwAsdKZoR5TXVgxRad7_EyxUrQlDT1",
      "authorship_tag": "ABX9TyNnIdORwMbojpKxH136YGdi",
      "include_colab_link": true
    },
    "gpuClass": "standard",
    "kernelspec": {
      "display_name": "Python 3",
      "name": "python3"
    },
    "language_info": {
      "name": "python"
    }
  },
  "nbformat": 4,
  "nbformat_minor": 0
}