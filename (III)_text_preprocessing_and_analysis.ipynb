{
  "cells": [
    {
      "cell_type": "markdown",
      "metadata": {
        "id": "view-in-github",
        "colab_type": "text"
      },
      "source": [
        "<a href=\"https://colab.research.google.com/github/schmcklr/skill_extractor/blob/main/(III)_text_preprocessing_and_analysis.ipynb\" target=\"_parent\"><img src=\"https://colab.research.google.com/assets/colab-badge.svg\" alt=\"Open In Colab\"/></a>"
      ]
    },
    {
      "cell_type": "markdown",
      "metadata": {
        "id": "DSBPtcKyG5VW"
      },
      "source": [
        "# **Part III:** Text Preprocessing and Skill Analysis\n",
        "\n",
        "The present program offers a variety of features designed to track and analyze the progression of desired job qualifications over time. The program should be executed in Google Colab with GPU acceleration enabled. There are three implemented options for this:\n",
        "\n",
        "1.   Frequency Analysis\n",
        "2.   LDA Topic Modeling\n",
        "3.   Dynamic Topic Modeling\n"
      ]
    },
    {
      "cell_type": "markdown",
      "metadata": {
        "id": "Ka_nthOwHsFc"
      },
      "source": [
        "# 1. Load data, applying filters & defining basic functions\n",
        "\n",
        "\n"
      ]
    },
    {
      "cell_type": "markdown",
      "source": [
        "1.1 Import of general preprocessed and translated job advertisements ([part 2](https://colab.research.google.com/drive/1EvylGHg4NLHiKnsAmW9l42AQUzLT2c5w#scrollTo=K2XUY2Qk6n7w&uniqifier=2))"
      ],
      "metadata": {
        "id": "eJxtCunkNWEd"
      }
    },
    {
      "cell_type": "code",
      "execution_count": 155,
      "metadata": {
        "colab": {
          "base_uri": "https://localhost:8080/"
        },
        "id": "KpBr2bzHIalT",
        "outputId": "34f5ae36-e9b0-4653-ae7e-908120d87a74"
      },
      "outputs": [
        {
          "output_type": "stream",
          "name": "stderr",
          "text": [
            "<ipython-input-155-c9afab0461b2>:14: FutureWarning: DataFrame.applymap has been deprecated. Use DataFrame.map instead.\n",
            "  job_data = job_data.applymap(lambda x: x.lower() if isinstance(x, str) else x)\n"
          ]
        }
      ],
      "source": [
        "!pip install --upgrade pandas --quiet\n",
        "import pandas as pd\n",
        "\n",
        "#Fetching preprocessed data\n",
        "workbook = 'https://github.com/schmcklr/skill_extractor/blob/main/job_data/job_data_preprocessed_extracted_qualifications_final.xlsx?raw=true'\n",
        "\n",
        "#workbook = 'https://github.com/schmcklr/skill_extractor/blob/main/job_data/job_data_preprocessed_extracted_qualifications.xlsx?raw=true'\n",
        "\n",
        "\n",
        "# Import of tabs\n",
        "job_data = pd.read_excel(workbook, sheet_name=\"Sheet1\")\n",
        "\n",
        "# Convert to lower case\n",
        "job_data = job_data.applymap(lambda x: x.lower() if isinstance(x, str) else x)\n",
        "\n",
        "# Number of job advertisements before filtering\n",
        "number_of_job_ads_before_filtering = str(len(job_data['description']))"
      ]
    },
    {
      "cell_type": "markdown",
      "metadata": {
        "id": "5OCN7Y6PIcm8"
      },
      "source": [
        "### 1.2 Define Filters for analysis"
      ]
    },
    {
      "cell_type": "code",
      "execution_count": 156,
      "metadata": {
        "colab": {
          "base_uri": "https://localhost:8080/"
        },
        "id": "bHyqsyBFIdKr",
        "outputId": "6420c5cf-c969-4bcc-fac9-34e12cbdbd5c"
      },
      "outputs": [
        {
          "output_type": "stream",
          "name": "stdout",
          "text": [
            "Filtering successfull! 1805/2840 Job advertisements are left.\n"
          ]
        }
      ],
      "source": [
        "# Keywords for title filtering\n",
        "job_keywords_title = [\"bpm\", \"process\", \"bpmn\", \"business process management\", \"bpm\", \"bpmn\", \"business process analysis\", \"process improvement\", \"process analysis\", \"business process\"]\n",
        "# Keywords for description filtering\n",
        "job_keywords_description = [\"business process management\", \"bpm\", \"bpmn\", \"process improvement\", \"process analysis\", \"business process\"]\n",
        "\n",
        "#######################################\n",
        "# Filter #1: Filter job ads by keywords\n",
        "#######################################\n",
        "# Option (1): Filter job titles\n",
        "#job_data = job_data[job_data['title'].str.contains('|'.join(job_keywords_title), case=False)]\n",
        "#filter_type = 'title'\n",
        "# Option (2): Filter job description\n",
        "job_data = job_data[job_data['rawDescriptionTranslated'].str.contains('|'.join(job_keywords_description), case=False)]\n",
        "filter_type = 'description'\n",
        "\n",
        "##############################################################\n",
        "# Filter #2: Filter for specific years (activated by default)\n",
        "##############################################################\n",
        "filter_for_years = True\n",
        "years = [2015, 2018, 2019, 2020 ,2021, 2022]\n",
        "\n",
        "#################################################################################\n",
        "# Filter #3: Filter out internships/working student jobs (deactivated by default)\n",
        "#################################################################################\n",
        "student_keywords = [\"internship\", \"working student\", \"intern\", \"practical\", \"praktikum\"]\n",
        "job_data = job_data[~job_data['title'].str.contains('|'.join(student_keywords), case=False)]\n",
        "\n",
        "###################################################################################################\n",
        "# Filter #4: Frequency Analysis: Filter descripton by predefined skill list (deactivated by default)\n",
        "###################################################################################################\n",
        "filter_by_skills = True\n",
        "\n",
        "\n",
        "#########################################################################################################\n",
        "# Coherence measurement: Can be helpful for detecting the tight number of topics (deactivated by default)\n",
        "#########################################################################################################\n",
        "calculate_coherence = True\n",
        "\n",
        "# Extract the year from the 'date_column' and save it in a new column 'year'\n",
        "job_data['year'] = job_data['created_at'].dt.year\n",
        "\n",
        "# Filter out duplicates in 'qualifications', keeping only duplicates within the same year\n",
        "job_data = job_data[~job_data.duplicated(subset=['qualifications', 'year'], keep='first')]\n",
        "\n",
        "# User info (Number of job advertisements after filtering)\n",
        "print('Filtering successfull! ' + str(len(job_data['description'])) + '/' + number_of_job_ads_before_filtering + ' Job advertisements are left.')"
      ]
    },
    {
      "cell_type": "markdown",
      "metadata": {
        "id": "jCU0Y7nMIf-m"
      },
      "source": [
        "### 1.3 Preview of filtered job data\n",
        "\n",
        "\n"
      ]
    },
    {
      "cell_type": "code",
      "execution_count": 157,
      "metadata": {
        "colab": {
          "base_uri": "https://localhost:8080/",
          "height": 657
        },
        "id": "p0M-yNpgIgi0",
        "outputId": "2e86476e-9863-410a-d513-62b32f1cf4d5"
      },
      "outputs": [
        {
          "output_type": "display_data",
          "data": {
            "text/plain": [
              "<IPython.core.display.HTML object>"
            ],
            "text/html": [
              "<table border=\"1\" class=\"dataframe\">\n",
              "  <thead>\n",
              "    <tr style=\"text-align: right;\">\n",
              "      <th></th>\n",
              "      <th>title</th>\n",
              "      <th>qualifications</th>\n",
              "      <th>year</th>\n",
              "    </tr>\n",
              "  </thead>\n",
              "  <tbody>\n",
              "    <tr>\n",
              "      <th>1775</th>\n",
              "      <td>it management consultant: technology - hybrid cloud services</td>\n",
              "      <td>java, go, docker, kubernetes, terraform, python/ansible, ibm cloud/aws/azure, ruby, redis, postgresql, nginx, google cloud platform, elasticsearch, kibana, logstash, telegraf, sensu, debian, powerdns, bind, influxdb, ssl (openssl), grafana, haproxy, keepalived, solr, scala, kafka, jvms knowledge of storage management ability to root cause sources of instability in a high-traffic, distributed system you enjoy solving difficult engineering problems and reliability issues you are passioned about automation and innovations that improve productivity tech stack you'll work in an agile, collaborative environment to deploy, configure, and maintain systems, which may include software installations, updates, and core services. good understanding of linux, windows and aix system internals and virtualized environments, are familiar with the tcp/ip stack, network routing and load balancing. 5 years of experience in it project management where you have managed different levels of project complexity. database experience, including knowledge of sql and nosql, such as mysql, mongodb and postgresql. understanding software engineering skills ideally with experience in python, go and/or java. experience with configuration and troubleshooting of linux, java/scala, docker systems. understanding of large-scale complex systems from a reliability perspective. devops mindset.</td>\n",
              "      <td>2020</td>\n",
              "    </tr>\n",
              "    <tr>\n",
              "      <th>1277</th>\n",
              "      <td>sap abap crm engineer</td>\n",
              "      <td>working experience on hybris ecommerce framework, hybris product content module pcm , hybris service layer, multichannel cockpit, hybris accelerator, extension, cronjob and impex, hybris management console, data modelling drive the development of the product/project vision and scope and negotiate the right mvs (minimum viable scope), which can deliver the best value perform analysis of current business processes and propose end-to-end solutions that that are the best fit, based on sap's hybris platform maximize out-of-the-box capabilities of hybris platform and propose best in class practices to fit the customization gaps in the solution functional knowledge of omnichannel ecommerce platforms and depth of knowledge of the best practices across online b2b, b2c, b2b2c models experience in envisioning, solutioning and designing end-to-end subscription solutions in an agile environment experience in sap crm integration with other sap components (erp) or third party systems proficiency in architecting and developing enterprise applications in abap oo multiple full cycle hybris implementations with legacy system integrations experience with integrating hybris with sales order management and fi-ca 3-9 years of relevant platform engineering and architecture experience in-depth understanding of hybris platform and frameworks technologies ba/bs in computer science or related field, or equivalent experience experience in b2c and b2b enterprise application experience in sap crm developments (abap webui) good knowledge of hybris data hub middleware brim ( hybris billing ) experience strong communication skills</td>\n",
              "      <td>2020</td>\n",
              "    </tr>\n",
              "    <tr>\n",
              "      <th>1555</th>\n",
              "      <td>sap alliance manager emea north (m/f/x)</td>\n",
              "      <td>...have a strong business acumen and are capable of developing and managing strategic plans with company executives - including c-level - and challenging the status quo ...have a proven track record of success in driving revenue with a partner through discovering, prospecting and creating new business ...are excited about big data, data mining and process mining and introducing it to a new market ...have excellent presentation skills and are able to communicate complex ideas effectively ...are a real hunter and know your way around within the sap ecosystem ...have 5+ years experience working with enterprise software ...are passionate about our produce and value proposition ...come from a direct sales or channel sale background ...are fluent in written and spoken english</td>\n",
              "      <td>2020</td>\n",
              "    </tr>\n",
              "    <tr>\n",
              "      <th>1666</th>\n",
              "      <td>principal product manager (m/f/x) sales &amp; marketing</td>\n",
              "      <td>5+ years of experience in customer-facing roles like consulting, sales &amp; marketing, or product management self-motivated works independently and collaborates well within and outside the team good understanding of data structures in crm systems (especially salesforce) communicates clearly well and can explain existing processes and procedures strong technical capabilities</td>\n",
              "      <td>2020</td>\n",
              "    </tr>\n",
              "    <tr>\n",
              "      <th>1791</th>\n",
              "      <td>hr technology consultant</td>\n",
              "      <td>experience in managing and configuring saas especially service platforms (eg bmc, servicenow) solid (it) project management knowledge (prince2 certification desirable, not mandatory) willingness to take over responsibilities as solution finder for quick-demand support informed about hr information systems (eg sap successfactors, workday) expert in process engineering and visualisation (bpmn 2.0, uml etc.) good understanding of programming languages (javascript, vba) english is a must, german knowledge definitely helpful experience in an agile working environment (scrum) familiar with google suite tools and google apis due diligence in regards to personnel data</td>\n",
              "      <td>2021</td>\n",
              "    </tr>\n",
              "  </tbody>\n",
              "</table>"
            ]
          },
          "metadata": {}
        }
      ],
      "source": [
        "# Displaying job data\n",
        "import pandas as pd\n",
        "from IPython.display import display, HTML\n",
        "\n",
        "# Set pandas display option\n",
        "pd.set_option('display.max_colwidth', None)\n",
        "\n",
        "job_data_display = job_data[['title', 'qualifications', 'created_at']].copy()  # create an explicit copy\n",
        "\n",
        "# Convert 'created_at' column to datetime format to make sure it's in the correct date format\n",
        "job_data_display['created_at'] = pd.to_datetime(job_data_display['created_at'])\n",
        "\n",
        "# Extract the year from the 'created_at' column and store it in a new column 'year'\n",
        "job_data_display['year'] = job_data_display['created_at'].dt.year\n",
        "job_data_display = job_data_display[['title', 'qualifications', 'year']]\n",
        "\n",
        "# Get 5 random rows from the DataFrame\n",
        "job_data_display = job_data_display.sample(5)\n",
        "\n",
        "# Set text alignment\n",
        "#job_data_display = job_data_display.style.set_properties(**{'text-align': 'left'}).set_table_styles([\n",
        "#   dict(selector='th', props=[('text-align', 'left')])\n",
        "#])\n",
        "\n",
        "# Display DataFrame with HTML\n",
        "display(HTML(job_data_display.to_html().replace('\\\\n','<br>')))"
      ]
    },
    {
      "cell_type": "markdown",
      "metadata": {
        "id": "gVrIKzSbPMEp"
      },
      "source": [
        "### 1.4 Initialise Lemmatizer"
      ]
    },
    {
      "cell_type": "code",
      "execution_count": 158,
      "metadata": {
        "colab": {
          "base_uri": "https://localhost:8080/"
        },
        "id": "Jv3Q--uQPL4b",
        "outputId": "061f7642-6c4b-4d57-eb33-9efea8d86631"
      },
      "outputs": [
        {
          "output_type": "stream",
          "name": "stderr",
          "text": [
            "[nltk_data] Downloading package wordnet to /root/nltk_data...\n",
            "[nltk_data]   Package wordnet is already up-to-date!\n"
          ]
        }
      ],
      "source": [
        "import nltk\n",
        "import requests\n",
        "from nltk.stem.wordnet import WordNetLemmatizer\n",
        "nltk.download('wordnet')\n",
        "\n",
        "# Initialise lemmatizer\n",
        "lemmatizer = WordNetLemmatizer()"
      ]
    },
    {
      "cell_type": "markdown",
      "metadata": {
        "id": "hB4vPDmBmwAy"
      },
      "source": [
        "### 1.5 Defining function for static LDA topic visualization\n",
        "*   uses pyLDAvis to display gensim static LDA topic models"
      ]
    },
    {
      "cell_type": "code",
      "execution_count": 159,
      "metadata": {
        "id": "ppzBpwTPmwPo"
      },
      "outputs": [],
      "source": [
        "# Downgrade Versions to be compatible with pyldavis (only if there is an error)\n",
        "#!pip install numpy==1.22\n",
        "#!pip install pandas==2.0.0\n",
        "\n",
        "# Needed for topic visualization\n",
        "!pip install --upgrade pyldavis --quiet\n",
        "#!pip install pyLDAvis==2.1.2 --quiet\n",
        "#!pip install --upgrade numpy --quiet\n",
        "#!pip install --upgrade pandas --quiet\n",
        "\n",
        "\n",
        "import pyLDAvis\n",
        "import pyLDAvis.gensim_models\n",
        "import webbrowser\n",
        "\n",
        "# Function which allows visualization of topic modeling\n",
        "def visualization_with_vis(lda_model, corpus, dictionary, name):\n",
        "  vis = pyLDAvis.gensim_models.prepare(lda_model, corpus, dictionary, mds='mmds')\n",
        "  pyLDAvis.enable_notebook()\n",
        "  pyLDAvis.display(vis)\n",
        "  pyLDAvis.save_html(vis, name + '.html')"
      ]
    },
    {
      "cell_type": "markdown",
      "metadata": {
        "id": "rL4Tus8J-ELA"
      },
      "source": [
        "# 2. Create skill list and skill extract function\n",
        "\n",
        "Only be executed if filter_by_skills is active (deactivated by default):\n",
        "*   Get skills from API (emsicloud)\n",
        "*   Import of O*NET technology skills\n",
        "*   Import od ESCO skills\n",
        "*   Add list with custom skills\n",
        "*   Define function for skill extraction\n",
        "\n",
        "Always be executed:\n",
        "*   Defining and Replacing skill synonyms\n",
        "\n",
        "\n",
        "\n",
        "\n",
        "\n",
        "\n",
        "\n"
      ]
    },
    {
      "cell_type": "markdown",
      "metadata": {
        "id": "8j_ITuKlRSP6"
      },
      "source": [
        "### 2.1 Connecting to Emsicloud (API)\n",
        "\n",
        "\n"
      ]
    },
    {
      "cell_type": "code",
      "execution_count": 160,
      "metadata": {
        "id": "aW9OdJQGav-q"
      },
      "outputs": [],
      "source": [
        "if filter_by_skills:\n",
        "  # Requesting access token\n",
        "  url = \"https://auth.emsicloud.com/connect/token\"\n",
        "  payload = \"client_id=lwtnyxiuohd90aqc&client_secret=ZqV4d9LQ&grant_type=client_credentials&scope=emsi_open\"\n",
        "  headers = {'Content-Type': 'application/x-www-form-urlencoded'}\n",
        "  response = requests.request(\"POST\", url, data=payload, headers=headers)\n",
        "  url = \"https://emsiservices.com/skills/versions/latest/skills\"\n",
        "\n",
        "  # Storing access token\n",
        "  access_token = response.json()[\"access_token\"]\n",
        "\n",
        "  # Requesting skill list\n",
        "  querystring = {\"fields\": \"name,type,category,subcategory\", \"limit\": \"100000\"}\n",
        "  headers = {'Authorization': 'Bearer ' + access_token}\n",
        "  response = requests.request(\"GET\", url, headers=headers, params=querystring)\n",
        "  data = response.json()\n",
        "\n",
        "  # Initialise skill array\n",
        "  skills = []\n",
        "\n",
        "  # Initialise skill dict\n",
        "  skills_dict = {}\n",
        "\n",
        "  # Add skills to skills_dict\n",
        "  for entry in data[\"data\"]:\n",
        "\n",
        "      # Skill name\n",
        "      if \" (\" in entry[\"name\"]:\n",
        "          name = lemmatizer.lemmatize(entry[\"name\"].lower().replace('.','').split(\"_(\")[0])\n",
        "      else:\n",
        "          name = lemmatizer.lemmatize(entry[\"name\"].lower().replace('.',''))\n",
        "      # Skill category\n",
        "      if entry['category'] is None:\n",
        "          category = 'other'\n",
        "      elif entry['category'][\"name\"] == 'NULL':\n",
        "          category = 'other'\n",
        "      else:\n",
        "          category = entry['category'][\"name\"]\n",
        "      # Skill Subcategory\n",
        "      if entry['subcategory'] is None:\n",
        "          subcategory = 'other'\n",
        "      elif entry['subcategory'][\"name\"] == 'NULL':\n",
        "          subcategory = 'other'\n",
        "      else:\n",
        "          subcategory = entry['subcategory'][\"name\"]\n",
        "      # Add skill information to skills_dict\n",
        "      skills_dict[name] = {\n",
        "          'name': name,\n",
        "          'category': category,\n",
        "          'subcategory': subcategory\n",
        "      }\n",
        "\n",
        "  # Add skills to array\n",
        "  for entry in data[\"data\"]:\n",
        "    if \" (\" in entry[\"name\"]:\n",
        "      skill = lemmatizer.lemmatize(entry[\"name\"].lower().replace('.','').split(\" (\")[0])\n",
        "    else:\n",
        "      skill = lemmatizer.lemmatize(entry[\"name\"].lower().replace('.',''))\n",
        "    skills.append(skill)\n",
        "\n",
        "  # Store categories & subcategories\n",
        "  categories = {}\n",
        "  sub_categories = {}\n",
        "\n",
        "  for skill in skills_dict.values():\n",
        "      category = skill['category']\n",
        "      if category not in categories:\n",
        "          categories[category] = []\n",
        "      categories[category].append(skill['name'])\n",
        "\n",
        "  for skill in skills_dict.values():\n",
        "      subcategory = skill['subcategory']\n",
        "      if subcategory not in sub_categories:\n",
        "          sub_categories[subcategory] = []\n",
        "      sub_categories[subcategory].append(skill['name'])"
      ]
    },
    {
      "cell_type": "markdown",
      "metadata": {
        "id": "ShvzJ8_kc9aR"
      },
      "source": [
        "### 2.2 Import of O*NET technology skills"
      ]
    },
    {
      "cell_type": "code",
      "execution_count": 161,
      "metadata": {
        "id": "A3bcfHkUc9JC"
      },
      "outputs": [],
      "source": [
        "if filter_by_skills:\n",
        "  import pandas as pd\n",
        "\n",
        "  # Import technology skills raw data\n",
        "  skills_onet_workbook = 'https://github.com/schmcklr/skill_extractor/blob/main/skill_data/skills_onet.xlsx?raw=true'\n",
        "\n",
        "  # Import of tabs\n",
        "  skills_onet = pd.read_excel(skills_onet_workbook, sheet_name=\"Technology Skills\")\n",
        "\n",
        "  # Convert to list\n",
        "  skills_onet = skills_onet['Example'].str.lower().tolist()\n",
        "\n",
        "  # Append to skill list\n",
        "  skills += skills_onet"
      ]
    },
    {
      "cell_type": "markdown",
      "metadata": {
        "id": "v39vC86aE5TG"
      },
      "source": [
        "### 2.3 Import of ESCO skills"
      ]
    },
    {
      "cell_type": "code",
      "execution_count": 162,
      "metadata": {
        "id": "Tl8TG7owFDGL"
      },
      "outputs": [],
      "source": [
        "if filter_by_skills:\n",
        "  !pip install odfpy --quiet\n",
        "  import pandas as pd\n",
        "\n",
        "  # Import ESCO skills raw data\n",
        "  skills_esco_workbook = 'https://github.com/schmcklr/skill_extractor/blob/main/skill_data/skills_esco.ods?raw=true'\n",
        "\n",
        "  # Import of tabs\n",
        "  skills_esco = pd.read_excel(skills_esco_workbook, sheet_name=\"Skills\")\n",
        "\n",
        "  # Convert to list\n",
        "  skills_esco = skills_esco['preferredLabel'].str.lower().tolist()\n",
        "\n",
        "  # Append to skill list\n",
        "  skills += skills_esco"
      ]
    },
    {
      "cell_type": "markdown",
      "metadata": {
        "id": "HDj0s9ZhR8Wc"
      },
      "source": [
        "### 2.4 Extend list with custom skills\n",
        "\n",
        "*   Creating own skill list\n",
        "*   Replace blanks in compound skills with '_' to recognise them as one token\n",
        "*   Definition of the skills defined in the Gartner Skillset\n",
        "*   Convert to set remove duplicates and get faster access\n",
        "\n",
        "\n"
      ]
    },
    {
      "cell_type": "code",
      "execution_count": 163,
      "metadata": {
        "colab": {
          "base_uri": "https://localhost:8080/"
        },
        "id": "M55tJ04Kazpy",
        "outputId": "1948b0c4-c5eb-4800-ad21-9f5095a391fc"
      },
      "outputs": [
        {
          "output_type": "stream",
          "name": "stdout",
          "text": [
            "Number of unique skills: 54657\n"
          ]
        }
      ],
      "source": [
        "if filter_by_skills:\n",
        "  from re import U\n",
        "  # Creating own skill list\n",
        "  other_skills = ['python', 'c++', 'c', 'r', 'java', 'hadoop', 'scala', 'flask', 'pandas', 'spark', 'scikit-learn',\n",
        "                  'numpy', 'php', 'sql', 'mysql', 'css', 'mongdb', 'nltk', 'fastai', 'keras', 'pytorch', 'tensorflow',\n",
        "                  'ruby', 'javascript', 'django', 'react', 'reactjs', 'ai', 'ui', 'tableau', 'crm', 'modeling',\n",
        "                  'bpm', 'vision', 'communication', 'analysis', 'design', 'excel', 'itil', 'data',\n",
        "                  'governance', 'police', 'simulation', 'automation', 'kpi', 'erp', 'statistic', 'sap', 'german',\n",
        "                  'english', 'kafka', 'api', 'rest', 'database', 'metrics', 'autonomy']\n",
        "\n",
        "  # Creating composed skills (needed for lemmatization that words considered as one word)\n",
        "  composite_skills = ['process_modeling', 'application_development', 'change_techniques', 'business_case',\n",
        "                      'business_process_improvement', 'business_process', 'team_player', 'web_development',\n",
        "                      'quality_management']\n",
        "\n",
        "  # Custom list for BPM Gartner skill set\n",
        "  gartner_skill_set = ['business_case', 'business_process', 'project_management', 'organizational', 'communication',\n",
        "                      'change_management', 'process_discovery', 'process_mod', 'extract_data', 'data_visualization',\n",
        "                      'architecture', 'bpmn', 'bpm', 'agile_development', 'optimization', 'user_experience', 'ui','process_management'\n",
        "                      ]\n",
        "\n",
        "  # Extending skill list fetched from Emsi and O*NET\n",
        "  skills += other_skills\n",
        "  skills += composite_skills\n",
        "  skills += gartner_skill_set\n",
        "\n",
        "  # Replace the blanks with '_' to recognise compound skills\n",
        "  for i in range(len(skills)):\n",
        "    skills[i] = skills[i].replace(\" \", \"_\")\n",
        "\n",
        "  # Convert to set remove duplicates and get faster access\n",
        "  skills = set(skills)\n",
        "\n",
        "  # Number of unique skill terms\n",
        "  print('Number of unique skills: ' + str(len(skills)))"
      ]
    },
    {
      "cell_type": "markdown",
      "metadata": {
        "id": "xCjQvujCKG2C"
      },
      "source": [
        "### 2.5 Create list with skill synonyms\n"
      ]
    },
    {
      "cell_type": "code",
      "execution_count": 164,
      "metadata": {
        "id": "Y665nq5OKIQX"
      },
      "outputs": [],
      "source": [
        "skill_synonyms = {\n",
        "    'artificial_intelligence' : ['ai', 'artifical_intelligence'],\n",
        "    'user_interface': ['ui'],\n",
        "    'business_process_management': ['bpmn', 'bpm'],\n",
        "    #'english_language': ['english', 'fluent_english'],\n",
        "    #'german_language': ['german'],\n",
        "    'microsoft_excel': ['excel', 'especially_excel'],\n",
        "    'crm': ['customer_relationship_management'],\n",
        "    'business_intelligence': ['bi'],\n",
        "    'sap_fi': ['fi'],\n",
        "    'sap_hana': ['hana'],\n",
        "    'powerpoint': ['power_point'],\n",
        "    'bachelor_degree': ['bachelor'],\n",
        "    'master_degree': ['master'],\n",
        "    #'communication_skill': ['communication', 'strong_communication', 'communicate', 'communication_strength', 'communicative'],\n",
        "    'analytical_skill': ['analytical'],\n",
        "    'automation': ['automation_anywhere'],\n",
        "    'team_player': ['team', 'teamwork'],\n",
        "    'power_bi': ['powerbi'],\n",
        "}\n",
        "\n",
        "skill_synonyms_frequency_analysis = {\n",
        "    'artificial_intelligence' : ['ai', 'artifical_intelligence'],\n",
        "    'user_interface': ['ui'],\n",
        "    'business_process_management': ['bpmn', 'bpm'],\n",
        "    'english_language': ['english', 'fluent_english', 'englisch'],\n",
        "    'german_language': ['german'],\n",
        "    'microsoft_excel': ['excel', 'especially_excel'],\n",
        "    'crm': ['customer_relationship_management'],\n",
        "    'business_intelligence': ['bi'],\n",
        "    'sap_fi': ['fi'],\n",
        "    'sap_hana': ['hana'],\n",
        "    'powerpoint': ['power_point'],\n",
        "    'bachelor_degree': ['bachelor'],\n",
        "    'master_degree': ['master'],\n",
        "    'communication': ['communication_skill', 'strong_communication', 'communicate', 'communication_strength', 'communicative'],\n",
        "    'analytical_skill': ['analytical'],\n",
        "    'automation': ['automation_anywhere'],\n",
        "    'team_player': ['team', 'teamwork'],\n",
        "    'power_bi': ['powerbi'],\n",
        "}"
      ]
    },
    {
      "cell_type": "markdown",
      "metadata": {
        "id": "zOnOdklBbwIW"
      },
      "source": [
        "### 2.6 Function for replacing skill synonyms"
      ]
    },
    {
      "cell_type": "code",
      "execution_count": 165,
      "metadata": {
        "id": "8H-qykUFLMhM"
      },
      "outputs": [],
      "source": [
        "# Function for replacing synonym skills\n",
        "def replace_synonym_skills(filtered_docs, skill_synonyms):\n",
        "    for doc in filtered_docs:\n",
        "        for i in range(len(doc)):\n",
        "            for key in skill_synonyms.keys():\n",
        "                if doc[i] in skill_synonyms[key]:\n",
        "                    doc[i] = key\n",
        "                    break\n",
        "    return filtered_docs"
      ]
    },
    {
      "cell_type": "markdown",
      "metadata": {
        "id": "ypqW45JTPZfJ"
      },
      "source": [
        "# 3. Text preprocessing\n",
        "\n",
        "\n",
        "*  Define stopwords and stopwords removal function  \n",
        "*  Define function for special character removing\n",
        "*  Split job dataframe by year\n",
        "*  Text Preprossesing\n",
        "*  Compute bigrams, trigrams with gensim phraser\n",
        "*  Define and revert phrases to be ignored\n"
      ]
    },
    {
      "cell_type": "markdown",
      "metadata": {
        "id": "cfb6QK5zRUNK"
      },
      "source": [
        "### 3.1 Define stopwords and removal functions  \n",
        "\n",
        "\n"
      ]
    },
    {
      "cell_type": "markdown",
      "metadata": {
        "id": "CUHsQUvBLT6I"
      },
      "source": [
        "\n",
        "*   3.1.1 Defining stopword list\n"
      ]
    },
    {
      "cell_type": "code",
      "execution_count": 166,
      "metadata": {
        "colab": {
          "base_uri": "https://localhost:8080/"
        },
        "id": "UqQAy85GLYqB",
        "outputId": "23f902cc-08ee-4209-d5c3-96e7c3897f51"
      },
      "outputs": [
        {
          "output_type": "stream",
          "name": "stderr",
          "text": [
            "[nltk_data] Downloading package stopwords to /root/nltk_data...\n",
            "[nltk_data]   Package stopwords is already up-to-date!\n"
          ]
        }
      ],
      "source": [
        "import nltk\n",
        "from nltk.corpus import stopwords\n",
        "nltk.download('stopwords')\n",
        "\n",
        "# English stopwords\n",
        "english_stopwords = stopwords.words('english')\n",
        "\n",
        "# German stopwords\n",
        "german_stopwords = stopwords.words('german')\n",
        "\n",
        "# Custom stopwords list\n",
        "custom_stop_words = ['genetics','go', 'public', 'transport', 'pregnancy','cash', 'le', 'register', 'make', 'm', 'nice', 'work', 'b',\n",
        "                    'client', 'skill', 'good', 'allianz', 'celonis', 'internship', 'opportunity', 'robotics', 'billing', 'talent'\n",
        "                    'chemistry', 'disability',  'working', 'offer', 'product', 'requirement', 'und', 'toyota', '1st', 'paris',\n",
        "                    'investment', 'consulting', 'banking', 'merchandising', 'stock', 'amazon', 'are', 'amadeus', 'oe', 'must', 'celonis', 'are',\n",
        "                    'automotive', 'safe', 'best', 'privacy', 'well', 'work', 'strong', 'commercial', 'dealer', 'you', 'none', 'entry', 'level',\n",
        "                    'br', 'kpmg', 'complex', 'ability', 'experience', 'first', 'high', 'relevant', 'system', 'excellent',\n",
        "                    'use', 'personal', 'knowledge', 'understanding', 'plus', '#', 'br_br', 'e_g', 'ideally', 'amazon_equal'\n",
        "                    'able', 'year', 'school', 'scor', 'required', 'new', 'position', 'bull', 'br', 'already', 'gained', 'looking',\n",
        "                    'already_gained', 'would', 'win', 'field', 'br_bull', 'e', 'de', 'etc', '#_#', 'within', 'company', 'background', 'ee',\n",
        "                    'great', 'et', 'month', 'candidate', 'enviroment', 'uf0b7', 'fluent', 'need', 'ä',\n",
        "                    'n', 'free', 'part', 'point', 'car', 'like', 'would_plus', 'understand', 'want', 'last', 'g', 'alytics', '+2',\n",
        "                    'month_full', 'using', 'f', 'availability', 'http_www', 'closely', 'mercedes-benz', 'sixt', 'need_choose', '++',\n",
        "                    'area', 'customer', 'industry', 'able', 'equivalent', 'including', 'related', 'stakeholder', 'proven', 'preferably',\n",
        "                    'oriented', 'change', 'time', 'interest', 'preferred', 'similar', 'role', 'basic', 'focus', 'expertise', 'advantage',\n",
        "                    'drive', 'know', 'hand', 'multiple', 'gap_year', 'way_working', 'full', 'medium', 'office', 'tool', 'structured',\n",
        "                    'comparable', 'least', 'pronounced', 'bring', 'year_professional', 'chemistry', 'lufthansa', '+49', 'yes','degree','end',\n",
        "                    'solution', 'previous', 'drive_celonis', 'celonis','unicredit', 'bank','application', 'sale'\n",
        "\n",
        "                    #'business','management','process'\n",
        "\n",
        "\n",
        "                    ]\n"
      ]
    },
    {
      "cell_type": "markdown",
      "metadata": {
        "id": "nDyzSwd1LWnk"
      },
      "source": [
        "*   3.1.2 Defining functions for stopword removal\n"
      ]
    },
    {
      "cell_type": "code",
      "execution_count": 167,
      "metadata": {
        "id": "WmkDoDvmLdFG"
      },
      "outputs": [],
      "source": [
        "import re\n",
        "\n",
        "# Function for removing stopwords from dataframe\n",
        "def remove_stopwords(doc):\n",
        "  filtered_doc = []\n",
        "  filtered_doc = [token for token in doc if token not in english_stopwords and token not in german_stopwords]\n",
        "  return filtered_doc\n",
        "\n",
        "# Function for removing custom stopwords from dataframe\n",
        "def remove_custom_stopwords(doc):\n",
        "  filtered_doc = []\n",
        "  filtered_doc = [token for token in doc if token not in custom_stop_words]\n",
        "  return filtered_doc\n",
        "\n",
        "# Function for removing tokens that only contain numbers\n",
        "def remove_numeric_tokens(tokens):\n",
        "    return [token for token in tokens if not bool(re.match(r'^[0-9]+$', token))]"
      ]
    },
    {
      "cell_type": "markdown",
      "metadata": {
        "id": "XBnWS_trplTo"
      },
      "source": [
        "### 3.2 Function for url and special character removing\n",
        "\n",
        "\n"
      ]
    },
    {
      "cell_type": "markdown",
      "source": [
        "* Function for url removal"
      ],
      "metadata": {
        "id": "gg_eTDuJWlUb"
      }
    },
    {
      "cell_type": "code",
      "source": [
        "def remove_links(text):\n",
        "    # Define a regular expression pattern to detect URLs\n",
        "    url_pattern = r'https?://\\S+|www\\.\\S+'\n",
        "\n",
        "    # Replace URLs in the text with spaces\n",
        "    text_without_links = re.sub(url_pattern, ' ', text)\n",
        "\n",
        "    return text_without_links"
      ],
      "metadata": {
        "id": "0XKdrTWkWqQW"
      },
      "execution_count": 168,
      "outputs": []
    },
    {
      "cell_type": "markdown",
      "source": [
        "* Function for special character removing"
      ],
      "metadata": {
        "id": "06d_Z-DFWwaU"
      }
    },
    {
      "cell_type": "code",
      "execution_count": 169,
      "metadata": {
        "id": "dJQN5C2Dplov"
      },
      "outputs": [],
      "source": [
        "import re\n",
        "\n",
        "# List of exceptions (combinations that should not be removed)\n",
        "exceptions = ['c++', 'c#']\n",
        "\n",
        "# Function to remove special characters while considering exceptions for individual tokens\n",
        "def remove_special_characters(tokens):\n",
        "    # Create a regular expression to remove special characters\n",
        "    special_characters_pattern = r'[^\\w\\s]'\n",
        "\n",
        "    # Create a regular expression for exceptions\n",
        "    exceptions_pattern = '|'.join(re.escape(exception) for exception in exceptions)\n",
        "\n",
        "    # Initialize a list to store the cleaned tokens\n",
        "    cleaned_tokens = []\n",
        "\n",
        "    for token in tokens:\n",
        "        # Combine the two regular expressions and remove special characters,\n",
        "        # but keep the exceptions unchanged\n",
        "        cleaned_token = re.sub(f'({exceptions_pattern})|(?:{special_characters_pattern})', r'\\1', token)\n",
        "        cleaned_tokens.append(cleaned_token)\n",
        "\n",
        "    return cleaned_tokens"
      ]
    },
    {
      "cell_type": "markdown",
      "metadata": {
        "id": "dyVh8NMBSMxP"
      },
      "source": [
        "### 3.3 Split job dataframe by year"
      ]
    },
    {
      "cell_type": "code",
      "execution_count": 170,
      "metadata": {
        "colab": {
          "base_uri": "https://localhost:8080/"
        },
        "id": "t04B3popEUmn",
        "outputId": "0d077f15-c171-46dd-e3b6-fb0e0ed9fa85"
      },
      "outputs": [
        {
          "output_type": "stream",
          "name": "stdout",
          "text": [
            "{2015: 87, 2018: 146, 2019: 387, 2020: 495, 2021: 510, 2022: 134}\n"
          ]
        }
      ],
      "source": [
        "# Group the DataFrame by year\n",
        "grouped = job_data.groupby(job_data['created_at'].dt.year)\n",
        "\n",
        "# Create a dictionary to store the new DataFrames\n",
        "year_dfs = {}\n",
        "\n",
        "# Split groups into separate dataframes and store them in a dictionary\n",
        "for year, group in grouped:\n",
        "    year_dfs[year] = group.copy()\n",
        "\n",
        "# Filter by years\n",
        "if filter_for_years:\n",
        "  year_dfs = {year: df for year, df in year_dfs.items() if year in years}\n",
        "\n",
        "# Number of jobs ads per year before text preprocessing\n",
        "number_of_ads_per_year = {}\n",
        "for year in year_dfs:\n",
        "  number_of_ads_per_year[year] = len(year_dfs[year]['qualifications'])\n",
        "\n",
        "# User Info (Number of job ads per year)\n",
        "print(number_of_ads_per_year)"
      ]
    },
    {
      "cell_type": "markdown",
      "metadata": {
        "id": "Ad8gg5X4EV4M"
      },
      "source": [
        "### 3.4 Text Preprossesing\n",
        "*   Tokenize documents\n",
        "*   Remove numbers, but not words that contain numbers\n",
        "*   Remove stopwords\n",
        "*   Lemmatization\n"
      ]
    },
    {
      "cell_type": "code",
      "execution_count": 171,
      "metadata": {
        "colab": {
          "base_uri": "https://localhost:8080/"
        },
        "id": "X68eAGSYaWXU",
        "outputId": "e4e0d4c4-edc1-4608-ab2d-d94dca92e197"
      },
      "outputs": [
        {
          "output_type": "stream",
          "name": "stderr",
          "text": [
            "[nltk_data] Downloading package omw-1.4 to /root/nltk_data...\n",
            "[nltk_data]   Package omw-1.4 is already up-to-date!\n",
            "[nltk_data] Downloading package wordnet to /root/nltk_data...\n",
            "[nltk_data]   Package wordnet is already up-to-date!\n",
            "[nltk_data] Downloading package punkt to /root/nltk_data...\n",
            "[nltk_data]   Package punkt is already up-to-date!\n"
          ]
        }
      ],
      "source": [
        "!pip install spacy --quiet\n",
        "nltk.download('omw-1.4');\n",
        "nltk.download('wordnet');\n",
        "nltk.download('punkt');\n",
        "import spacy\n",
        "import nltk\n",
        "from nltk.stem.wordnet import WordNetLemmatizer\n",
        "from matplotlib import pyplot as plt\n",
        "from nltk.tokenize import RegexpTokenizer\n",
        "from nltk.util import ngrams\n",
        "from nltk.tokenize import word_tokenize\n",
        "\n",
        "# Create list whith all documents for tasks like computing bigrams/trigrams\n",
        "docs_all = []\n",
        "filtered_docs_all = []\n",
        "docs_by_year = {}\n",
        "docs_by_year_frequency_analysis = {}\n",
        "filtered_docs_all_frequency_analysis = []\n",
        "new_doc_complete_all = []\n",
        "filtered_docs_all_corpus = []\n",
        "\n",
        "# Preprossesing based on year\n",
        "for year in year_dfs:\n",
        "\n",
        "  docs = list(year_dfs[year]['qualifications'])\n",
        "\n",
        "  # Remove URLs from text\n",
        "  docs = [remove_links(doc) for doc in docs]\n",
        "\n",
        "  # Tokenize the documents\n",
        "  tokenizer = RegexpTokenizer(r'[\\w#+]+')\n",
        "  for idx in range(len(docs)):\n",
        "      docs[idx] = docs[idx].lower()  # Convert to lowercase\n",
        "      docs[idx] = tokenizer.tokenize(docs[idx])  # Split into words\n",
        "\n",
        "  # Remove numbers, but not words that contain numbers\n",
        "  docs = [[token for token in doc if not token.isnumeric()] for doc in docs]\n",
        "\n",
        "  # Remove words that are only one character\n",
        "  docs = [[token for token in doc if len(token) > 1 or token in ['r', 'c']] for doc in docs]\n",
        "\n",
        "  # Innizialise lemmatizer\n",
        "  lemmatizer = WordNetLemmatizer()\n",
        "\n",
        "  # Lemmatize the documents\n",
        "  docs = [[lemmatizer.lemmatize(token) for token in doc] for doc in docs]\n",
        "\n",
        "  # Remove stopwords\n",
        "  docs = [remove_stopwords(doc) for doc in docs]\n",
        "\n",
        "  # Remove special characters\n",
        "  docs = [remove_special_characters(doc) for doc in docs]\n",
        "\n",
        "  # Add processed docs to docs_by_year dict\n",
        "  docs_by_year[year] = docs\n",
        "\n",
        "  # Add processed docs to docs_all list (used for overall lda model and bigram/trigram calculation)\n",
        "  docs_all += docs"
      ]
    },
    {
      "cell_type": "markdown",
      "metadata": {
        "id": "PDmaMcbdr-tf"
      },
      "source": [
        "### 3.5 Compute bigrams, trigrams with gensim phraser"
      ]
    },
    {
      "cell_type": "code",
      "execution_count": 172,
      "metadata": {
        "id": "-9WrcQhfr9FO"
      },
      "outputs": [],
      "source": [
        "from gensim.utils import simple_preprocess\n",
        "from gensim.models.phrases import Phrases, Phraser\n",
        "\n",
        "# Compute bigrams\n",
        "bigram = Phrases(docs_all, min_count=15)#, threshold=6)\n",
        "# Compute trigrams\n",
        "trigram = Phrases(docs_all, min_count=15)"
      ]
    },
    {
      "cell_type": "markdown",
      "metadata": {
        "id": "EVNMQa8wN049"
      },
      "source": [
        "* Define phrases to be ignored and function to revert unwanted phrases\n",
        "\n",
        "\n"
      ]
    },
    {
      "cell_type": "code",
      "execution_count": 173,
      "metadata": {
        "id": "ucJmIaDBNxnc"
      },
      "outputs": [],
      "source": [
        "# Define word pairs to be ignored within the phrases creation\n",
        "ignored_phrases = ['german_english', 'example_sentence', 'bachelor_master', 'verbal_written', 'written_spoken', 'english_german', 'spoken_written',\n",
        "'written_verbal', 'oral_written', 'word_excel', 'fluency_english', 'dutch_french', 'python_r', 'excel_powerpoint', 'economics_mathematics',\n",
        "'end_end', 'french_dutch', 'advanced_excel', 'lean_six', 'excel_word', 'powerpoint_excel', 'javascript_html', 'mathematics_comparable',\n",
        "'mathematics_statitic', 'html5_cs', 'automation_anywhere', 'write_english', 'english_fluently']\n",
        "\n",
        "# Revert unwanted phrases back into individual words in the document\n",
        "def revert_unwanted_phrases(doc, ignored_phrases):\n",
        "  for phrase in doc:\n",
        "    if '_' in phrase and phrase in ignored_phrases:\n",
        "        word1, word2 = phrase.split('_')\n",
        "        index = doc.index(phrase)  # Index of the original trigram\n",
        "        doc.remove(phrase)  # Remove the original trigram\n",
        "        doc.insert(index, word1)  # Insert the first word at the original position\n",
        "        doc.insert(index + 1, word2)  # Insert the second word right after\n",
        "  return doc"
      ]
    },
    {
      "cell_type": "markdown",
      "metadata": {
        "id": "mmdEkox7sqg2"
      },
      "source": [
        "### 3.6 Token Filtering\n",
        "*   Creating bigrams/trigrams\n",
        "*   There are options for token filterung for Frequency Analyses:\n",
        "  *   Use all words, except stopwords (default)\n",
        "*   replace synonym skills\n",
        "*   remove custom stopwords\n",
        "*   remove empty docs\n",
        "\n"
      ]
    },
    {
      "cell_type": "code",
      "execution_count": 174,
      "metadata": {
        "colab": {
          "base_uri": "https://localhost:8080/"
        },
        "id": "buC13v_-sqy5",
        "outputId": "42d60475-0eb3-4d93-e0fb-4fd1da9fd71e"
      },
      "outputs": [
        {
          "output_type": "stream",
          "name": "stderr",
          "text": [
            "[nltk_data] Downloading package averaged_perceptron_tagger to\n",
            "[nltk_data]     /root/nltk_data...\n",
            "[nltk_data]   Package averaged_perceptron_tagger is already up-to-\n",
            "[nltk_data]       date!\n"
          ]
        }
      ],
      "source": [
        "from gensim.utils import simple_preprocess\n",
        "from gensim.models.phrases import Phrases, Phraser\n",
        "from nltk import pos_tag\n",
        "nltk.download('averaged_perceptron_tagger')\n",
        "\n",
        "# Preprossesing based on year\n",
        "for year in docs_by_year:\n",
        "\n",
        "  # Load docs for year\n",
        "  docs = docs_by_year[year]\n",
        "\n",
        "  # Creating bigrams/trigrams, filter out phrases that should be ignored\n",
        "  for idx in range(len(docs)):\n",
        "      # Creating bigrams/trigrams calculated by gensim phraser\n",
        "      docs[idx] = trigram[bigram[docs[idx]]]\n",
        "      # Filter out phrases that should be ignored\n",
        "      docs[idx] = revert_unwanted_phrases(docs[idx], ignored_phrases)\n",
        "\n",
        "  # Store filtered docs\n",
        "  filtered_docs = []\n",
        "\n",
        "  # Filter docs\n",
        "  for doc in docs:\n",
        "      # Define tokens\n",
        "      tokens = doc\n",
        "\n",
        "      # Use all words, except custom stopwords (default)\n",
        "      new_tokens = [token for token in tokens]\n",
        "\n",
        "      # POS-Filtering (default: Exclude Verbs)\n",
        "      tagged_tokens = pos_tag(new_tokens)\n",
        "      # Filter and keep all words except verbs\n",
        "      new_tokens = [token for token, tag in tagged_tokens if not tag.startswith('VB')]\n",
        "\n",
        "      # Convert list of tokens into a string and add it to the new list of documents\n",
        "      filtered_docs.append(new_tokens)\n",
        "\n",
        "  # Replace synonym skills basic (used for topic modeling)\n",
        "  filtered_docs = replace_synonym_skills(filtered_docs, skill_synonyms)\n",
        "\n",
        "  # Remove Custom Stopwords\n",
        "  filtered_docs = [remove_custom_stopwords(doc) for doc in filtered_docs]\n",
        "\n",
        "  # Remove empty docs and docs with less than 250 characters\n",
        "  filtered_docs = [doc for doc in filtered_docs if doc and len(' '.join(doc)) >= 250]\n",
        "\n",
        "  # Store filtered docs by year\n",
        "  docs_by_year[year] = filtered_docs\n",
        "\n",
        "  # Store filtered docs for the entire period\n",
        "  filtered_docs_all += filtered_docs\n",
        "\n",
        "# Store filtered docs for frequency analysis\n",
        "docs_by_year_frequency_analysis = docs_by_year\n",
        "\n",
        "# Replace synonym skills advanced (used for frequency analysis)\n",
        "for year, docs in docs_by_year_frequency_analysis.items():\n",
        "  docs_by_year_frequency_analysis_replace_synonym_skills = replace_synonym_skills(docs, skill_synonyms_frequency_analysis)\n",
        "  docs_by_year_frequency_analysis[year] = docs_by_year_frequency_analysis_replace_synonym_skills\n",
        "  filtered_docs_all_frequency_analysis += docs_by_year_frequency_analysis_replace_synonym_skills"
      ]
    },
    {
      "cell_type": "markdown",
      "metadata": {
        "id": "s6-1xylavUAP"
      },
      "source": [
        "### 3.7 Document statistics\n",
        "* number of documents\n",
        "* tokens per document\n",
        "* characters er document"
      ]
    },
    {
      "cell_type": "markdown",
      "source": [
        "* Number of job postings per year"
      ],
      "metadata": {
        "id": "K2DH_5oYyqcp"
      }
    },
    {
      "cell_type": "code",
      "source": [
        "import matplotlib.pyplot as plt\n",
        "\n",
        "# Number of jobs ads per year after text preprocessing\n",
        "number_of_ads_per_year_after_prepro = {}\n",
        "for year in docs_by_year:\n",
        "  number_of_ads_per_year_after_prepro[year] = len(docs_by_year[year])\n",
        "\n",
        "# Set colors\n",
        "color = '#696969'\n",
        "color2 = plt.cm.get_cmap('Reds')(0.4)  # Adjust the saturation here (0.5 means 50% saturation)\n",
        "\n",
        "\n",
        "# Sort the data by years\n",
        "sorted_data = sorted(number_of_ads_per_year_after_prepro.items())\n",
        "sorted_data_before_prepro = sorted(number_of_ads_per_year.items())\n",
        "\n",
        "\n",
        "# Creating a figure object\n",
        "fig = plt.figure(figsize=(10,5))\n",
        "fig, ax = plt.subplots(figsize=(10,5))\n",
        "\n",
        "\n",
        "# Creating bar plot with jobs ads per year before text preprocessing\n",
        "years_before_prepro = [x[0] for x in sorted_data_before_prepro]\n",
        "counts_before_prepro = [x[1] for x in sorted_data_before_prepro]\n",
        "bars_before_prepro = ax.bar(years_before_prepro, counts_before_prepro, color=color2, label='Entfernt durch Text Preprocessing')\n",
        "\n",
        "# Creating bar plot with jobs ads per year after text preprocessing\n",
        "years = [x[0] for x in sorted_data]\n",
        "counts = [x[1] for x in sorted_data]\n",
        "bars = ax.bar(years, counts, color=color,label='Nach Text Preprocessing')\n",
        "\n",
        "# Set lable for number of postings\n",
        "for bar in bars:\n",
        "    height = bar.get_height()\n",
        "    ax.text(bar.get_x() + bar.get_width()/2., height/2, int(height),\n",
        "            ha='center', va='center', color='white', fontweight='bold', fontsize=10)\n",
        "\n",
        "\n",
        "# Set lable for number of postings before preprocessing\n",
        "for i, bar in enumerate(bars_before_prepro):\n",
        "    height = bar.get_height()\n",
        "    ax.text(bar.get_x() + bar.get_width()/2., counts[i] + (height - counts[i])/2, (str(int(height - counts[i]))),\n",
        "            ha='center', va='center', color='white', fontweight='bold', fontsize=7)\n",
        "\n",
        "\n",
        "# Set axis, labels, legend and title\n",
        "ax.set_xlabel('Jahr', fontsize=10)\n",
        "ax.set_ylabel('Anzahl der Stellenausschreibungen', fontsize=10)\n",
        "ax.legend()\n",
        "#plt.title(\"Number of job postings by year\", fontsize=16)\n",
        "\n",
        "# Display chart\n",
        "plt.show()"
      ],
      "metadata": {
        "colab": {
          "base_uri": "https://localhost:8080/",
          "height": 482
        },
        "id": "1Zf5b654J882",
        "outputId": "4573775e-07ee-4227-9979-2334a7745456"
      },
      "execution_count": 226,
      "outputs": [
        {
          "output_type": "display_data",
          "data": {
            "text/plain": [
              "<Figure size 1000x500 with 0 Axes>"
            ]
          },
          "metadata": {}
        },
        {
          "output_type": "display_data",
          "data": {
            "text/plain": [
              "<Figure size 1000x500 with 1 Axes>"
            ],
            "image/png": "[encoded data removed]"
          },
          "metadata": {}
        }
      ]
    },
    {
      "cell_type": "markdown",
      "source": [
        "* Tokens per document"
      ],
      "metadata": {
        "id": "mA3ezSldQM62"
      }
    },
    {
      "cell_type": "code",
      "execution_count": 176,
      "metadata": {
        "colab": {
          "base_uri": "https://localhost:8080/",
          "height": 504
        },
        "id": "gSkB46Dt6XMt",
        "outputId": "029bc24f-764b-4fb5-96ce-aa769cd7d394"
      },
      "outputs": [
        {
          "output_type": "display_data",
          "data": {
            "text/plain": [
              "<Figure size 1000x500 with 0 Axes>"
            ]
          },
          "metadata": {}
        },
        {
          "output_type": "display_data",
          "data": {
            "text/plain": [
              "<Figure size 1000x500 with 1 Axes>"
            ],
            "image/png": "[encoded data removed]"
          },
          "metadata": {}
        }
      ],
      "source": [
        "import matplotlib.pyplot as plt\n",
        "\n",
        "# Create a figure with a specific size\n",
        "fig = plt.figure(figsize=(10, 5))\n",
        "\n",
        "# Create subplots within the figure with a specific size\n",
        "fig, ax = plt.subplots(figsize=(10, 5))\n",
        "\n",
        "# Determine the number of tokens per document\n",
        "token_counts = [len(doc) for doc in filtered_docs_all]\n",
        "\n",
        "# Create an index for the x-axis\n",
        "x = range(1, len(filtered_docs_all) + 1)\n",
        "\n",
        "# Calculate the token mean\n",
        "mean = sum(token_counts) / len(token_counts)\n",
        "\n",
        "# Create the chart and define labels\n",
        "plt.bar(x, token_counts,color=color)\n",
        "plt.xlabel('Dokument')\n",
        "plt.ylabel('Anzahl der Token')\n",
        "plt.title('Anzahl der Token pro Dokument (' + f\"{mean:.0f} im Durchschnitt)\")\n",
        "plt.show()"
      ]
    },
    {
      "cell_type": "markdown",
      "source": [
        "*  Characters per document"
      ],
      "metadata": {
        "id": "uO-3nriKQXSK"
      }
    },
    {
      "cell_type": "code",
      "execution_count": 177,
      "metadata": {
        "colab": {
          "base_uri": "https://localhost:8080/",
          "height": 611
        },
        "id": "rl1q3EE40228",
        "outputId": "d2305b7e-29e8-4996-fd63-fdf3a62244d5"
      },
      "outputs": [
        {
          "output_type": "stream",
          "name": "stderr",
          "text": [
            "/usr/local/lib/python3.10/dist-packages/seaborn/_oldcore.py:1498: FutureWarning: is_categorical_dtype is deprecated and will be removed in a future version. Use isinstance(dtype, CategoricalDtype) instead\n",
            "  if pd.api.types.is_categorical_dtype(vector):\n"
          ]
        },
        {
          "output_type": "display_data",
          "data": {
            "text/plain": [
              "<Figure size 1000x500 with 1 Axes>"
            ],
            "image/png": "[encoded data removed]"
          },
          "metadata": {}
        },
        {
          "output_type": "stream",
          "name": "stdout",
          "text": [
            "Min: 150\n",
            "Max: 2006\n",
            "Median: 365.0\n",
            "Durchschnitt: 421\n"
          ]
        }
      ],
      "source": [
        "import matplotlib.pyplot as plt\n",
        "import seaborn as sns\n",
        "import statistics\n",
        "\n",
        "# Zeichenanzahl pro Dokument (ohne Unterstrich \"_\")\n",
        "char_counts = [len(\" \".join(doc).replace(\"_\", \"\")) for doc in filtered_docs_all]\n",
        "\n",
        "# Erstellen Sie den horizontalen Violinplot\n",
        "plt.figure(figsize=(10, 5))\n",
        "sns.violinplot(x=char_counts, color=color, orient=\"h\")\n",
        "\n",
        "#plt.ylabel('Dokument')\n",
        "plt.yticks([])\n",
        "plt.xlabel('Anzahl der Zeichen')\n",
        "plt.title('Anzahl der Zeichen pro Dokument')\n",
        "\n",
        "plt.show()\n",
        "\n",
        "# Berechnen Sie Min, Max, Median und Durchschnitt\n",
        "min_value = min(char_counts)\n",
        "max_value = max(char_counts)\n",
        "median_value = statistics.median(char_counts)\n",
        "mean_value = statistics.mean(char_counts)\n",
        "\n",
        "# Ausgabe der Werte als Text unter dem Plot\n",
        "print(f'Min: {min_value}')\n",
        "print(f'Max: {max_value}')\n",
        "print(f'Median: {median_value}')\n",
        "print(f'Durchschnitt: {mean_value:.0f}')"
      ]
    },
    {
      "cell_type": "markdown",
      "source": [
        "# 4. Frequency Analysis\n",
        "\n",
        "\n",
        "*  Word Cloud: A visual representation of the most frequent words\n",
        "*  Interactive Chart for Frequency Analysis: Interactively filtering and examining data\n"
      ],
      "metadata": {
        "id": "vWnvRD5VVlZA"
      }
    },
    {
      "cell_type": "markdown",
      "metadata": {
        "id": "eVmnO7KXBnVm"
      },
      "source": [
        "### 4.1 Wordcloud representation for each year"
      ]
    },
    {
      "cell_type": "code",
      "execution_count": 178,
      "metadata": {
        "colab": {
          "base_uri": "https://localhost:8080/",
          "height": 468,
          "referenced_widgets": [
            "3307c84635fc40ce84a2b884292acb22",
            "2fb1332ff7d74f6c955226246cf62d63",
            "8c65005cacb44f1199ac9cd0f57e89dd",
            "7b31c8e9552c496cbc3fd15d0ef3d635",
            "fe7e883169384da8859b244f38973486",
            "d7e6eb471ba94513b5302cc729da934e",
            "b47db86310034206bf939e3a13b69fdd"
          ]
        },
        "id": "FOFAA6FQBnI8",
        "outputId": "bca15329-a7bb-4802-dfc6-284fedb05f67"
      },
      "outputs": [
        {
          "output_type": "display_data",
          "data": {
            "text/plain": [
              "interactive(children=(Dropdown(description='year', options=(2015, 2018, 2019, 2020, 2021, 2022), value=2015), …"
            ],
            "application/vnd.jupyter.widget-view+json": {
              "version_major": 2,
              "version_minor": 0,
              "model_id": "3307c84635fc40ce84a2b884292acb22"
            }
          },
          "metadata": {}
        }
      ],
      "source": [
        "import matplotlib.pyplot as plt\n",
        "from wordcloud import WordCloud\n",
        "import random\n",
        "from ipywidgets import interact, widgets\n",
        "\n",
        "# Define colors\n",
        "color_list = [\n",
        "    \"#336699\", \"#993366\", \"#cc6600\", \"#cc3366\",\n",
        "    \"#99cc33\", \"#cc9999\", \"#3399cc\", \"#ff9900\",\n",
        "    \"#669933\", \"#ff6633\", \"#66cccc\", \"#cc6600\",\n",
        "    \"#993300\", \"#33cccc\", \"#ff3366\", \"#66cc66\",\n",
        "    \"#ff3333\", \"#3366cc\"\n",
        "]\n",
        "\n",
        "color_index = 0\n",
        "\n",
        "# Generate next color\n",
        "def generate_next_color():\n",
        "    global color_index\n",
        "    if color_index >= len(color_list):\n",
        "        raise ValueError(\"All colors have been used.\")\n",
        "\n",
        "    next_color = color_list[color_index]\n",
        "    color_index += 1\n",
        "    return next_color\n",
        "\n",
        "# Generate color mapping for each year\n",
        "colors = {year: generate_next_color() for year in docs_by_year_frequency_analysis.keys()}\n",
        "\n",
        "# Generate wordcloud\n",
        "def generate_wordcloud(year):\n",
        "    docs_list = docs_by_year_frequency_analysis[year]\n",
        "    docs = [word for sublist in docs_list for word in sublist]\n",
        "    text = ' '.join(docs)\n",
        "\n",
        "    wordcloud = WordCloud(width=800, height=400,\n",
        "                          background_color='white',\n",
        "                          min_font_size=5,\n",
        "                          colormap='viridis',  # You can choose a different colormap here\n",
        "                          color_func=lambda *args, **kwargs: colors[year]).generate(text)  # Color customization\n",
        "\n",
        "    # Display the wordcloud\n",
        "    plt.figure(figsize=(10, 4), facecolor=None)\n",
        "    plt.imshow(wordcloud, interpolation='bilinear')\n",
        "    plt.axis(\"off\")\n",
        "    plt.tight_layout(pad=0)\n",
        "    #plt.title(f\"Wordcloud for Year {year}\", color=colors[year], fontsize=20)\n",
        "    plt.show()\n",
        "\n",
        "# Interactive slider function\n",
        "interact(generate_wordcloud, year=widgets.Dropdown(options=docs_by_year.keys()));"
      ]
    },
    {
      "cell_type": "markdown",
      "source": [
        "### 4.2 Interactive Chart for Frequency Analysis"
      ],
      "metadata": {
        "id": "ZWA7ewq2smdo"
      }
    },
    {
      "cell_type": "code",
      "source": [
        "from gensim.corpora import Dictionary\n",
        "from gensim.models import TfidfModel\n",
        "\n",
        "\n",
        "# Create dictionary representation of the documents\n",
        "dictionary = Dictionary(filtered_docs_all_frequency_analysis)\n",
        "# Bag-of-words representation of the documents\n",
        "corpus = [dictionary.doc2bow(doc) for doc in filtered_docs_all_frequency_analysis]\n",
        "\n",
        "\n",
        "# Extract the frequency of each token from the corpus\n",
        "token_frequencies = {}\n",
        "for doc in corpus:\n",
        "    tokens_in_doc = set()\n",
        "    for token_id, freq in doc:\n",
        "        token = dictionary[token_id]\n",
        "        if token not in tokens_in_doc:\n",
        "            tokens_in_doc.add(token)\n",
        "            if token in token_frequencies:\n",
        "                token_frequencies[token] += 1\n",
        "            else:\n",
        "                token_frequencies[token] = 1\n",
        "\n",
        "# Sort the tokens by descending frequency\n",
        "token_freqs_overall = []\n",
        "token_freqs_overall = sorted(token_frequencies.items(), key=lambda x: x[1], reverse=True)"
      ],
      "metadata": {
        "id": "hzrH4yCJYc5F"
      },
      "execution_count": 179,
      "outputs": []
    },
    {
      "cell_type": "markdown",
      "source": [
        "* Calculates token frequencies for each year (token is counted once per document)"
      ],
      "metadata": {
        "id": "MzLZm3zv1LWZ"
      }
    },
    {
      "cell_type": "code",
      "source": [
        "import warnings\n",
        "from gensim.models import LdaModel\n",
        "from gensim.models.phrases import Phrases\n",
        "\n",
        "# Ignore warning caused by gensim library, improve readability\n",
        "warnings.filterwarnings(\"ignore\", category=DeprecationWarning)\n",
        "\n",
        "\n",
        "# Store token frequencies for each year\n",
        "token_freqs = {}\n",
        "\n",
        "# Analysis based on year\n",
        "for year in docs_by_year:\n",
        "\n",
        "  docs = docs_by_year[year]\n",
        "\n",
        "  # Create a dictionary representation of the documents\n",
        "  dictionary = Dictionary(docs)\n",
        "\n",
        "  # Bag-of-words representation of the documents\n",
        "  corpus = [dictionary.doc2bow(doc) for doc in docs]\n",
        "\n",
        "  # Extract the frequency of each token from the corpus (only counted once per doc)\n",
        "  token_frequencies = {}\n",
        "  for doc in corpus:\n",
        "      tokens_in_doc = []\n",
        "      tokens_in_doc = set()\n",
        "      for token_id, freq in doc:\n",
        "          token = dictionary[token_id]\n",
        "          if token not in tokens_in_doc:\n",
        "              tokens_in_doc.add(token)\n",
        "              if token in token_frequencies:\n",
        "                  token_frequencies[token] += 1\n",
        "              else:\n",
        "                  token_frequencies[token] = 1\n",
        "\n",
        "\n",
        "  # Sort the tokens by descending frequency\n",
        "  sorted_tokens = []\n",
        "  sorted_tokens = sorted(token_frequencies.items(), key=lambda x: x[1], reverse=True)\n",
        "  token_freqs[year] = sorted_tokens"
      ],
      "metadata": {
        "id": "JXbsvOcqYlRz"
      },
      "execution_count": 180,
      "outputs": []
    },
    {
      "cell_type": "markdown",
      "source": [
        "* Determining the percentage of advertisements that mentioned skills"
      ],
      "metadata": {
        "id": "-xYTMg2eZgS0"
      }
    },
    {
      "cell_type": "code",
      "source": [
        "# Create list to store all extracted skills\n",
        "most_mentioned_skills = []\n",
        "for token, freq in token_freqs_overall:\n",
        "  most_mentioned_skills.append(token)\n",
        "\n",
        "# Create dict to store the calculated value by year (in which percentage of advertisements is the skill required)\n",
        "most_mentioned_skills_per_year = {}\n",
        "\n",
        "# Calculate percentage for each skill in each year\n",
        "for skill in most_mentioned_skills:\n",
        "  for year in token_freqs:\n",
        "    value = 0\n",
        "    for term, count in token_freqs[year]:\n",
        "      if skill == term:\n",
        "        value = count/number_of_ads_per_year[year]\n",
        "        break\n",
        "    if skill in most_mentioned_skills_per_year:\n",
        "      most_mentioned_skills_per_year[skill].append(value)\n",
        "    else:\n",
        "      most_mentioned_skills_per_year[skill] = []\n",
        "      most_mentioned_skills_per_year[skill].append(value)"
      ],
      "metadata": {
        "id": "9IYbpXTBZfj8"
      },
      "execution_count": 181,
      "outputs": []
    },
    {
      "cell_type": "markdown",
      "source": [
        "##### Visualisation the development of tokens over time (Frequency Analysis)\n",
        "\n",
        "  *   Shows the percentage of documents per year in which a token appears\n",
        "  *   Filtering can be applied using a list of predefined skills\n",
        "  *   Search can be used to search for a specific skill"
      ],
      "metadata": {
        "id": "tetZ21oHZo3d"
      }
    },
    {
      "cell_type": "code",
      "source": [
        "import matplotlib.pyplot as plt\n",
        "import numpy as np\n",
        "import ipywidgets as widgets\n",
        "from IPython.display import display\n",
        "from matplotlib.ticker import FormatStrFormatter\n",
        "\n",
        "# X-axis\n",
        "years = np.array(list(token_freqs.keys()))\n",
        "\n",
        "# Create a checkbox list for skills\n",
        "skills_list = list(most_mentioned_skills_per_year.keys())\n",
        "skills_checkboxes = widgets.SelectMultiple(\n",
        "    options=skills_list,\n",
        "    value=[skills_list[0]],  # Default value for initial selection\n",
        "    rows=6,\n",
        "    description='Token:',\n",
        "    disabled=False,\n",
        "    layout=widgets.Layout(height='100px')\n",
        ")\n",
        "\n",
        "# Create checkboxes for filtering skills\n",
        "filtered_skill_list = skills_list\n",
        "\n",
        "# Create a button to apply the filter\n",
        "filter_for_skills_button = widgets.Button(description=\"Filter for Skills\")\n",
        "unfilter_for_skills_button = widgets.Button(description=\"All Token\")\n",
        "\n",
        "# Create a function to update the skills list based on the filter\n",
        "def update_skills_list_filter(button_click):\n",
        "    selected_skills = [skill for skill in skills_list if skill in skills]\n",
        "    skills_checkboxes.options = selected_skills\n",
        "    skills_checkboxes.value = [selected_skills[0]]\n",
        "    skills_checkboxes.description = 'Skills:'\n",
        "    filtered_skill_list = selected_skills\n",
        "    # Reset search\n",
        "    search_text.value = \"\"\n",
        "\n",
        "def update_skills_list_unfilter(button_click):\n",
        "    selected_skills = [skill for skill in skills_list]\n",
        "    skills_checkboxes.options = selected_skills\n",
        "    skills_checkboxes.value = [selected_skills[0]]\n",
        "    skills_checkboxes.description = 'Token:'\n",
        "    filtered_skill_list = selected_skills\n",
        "    # Reset search\n",
        "    search_text.value = \"\"\n",
        "\n",
        "\n",
        "# Link the button click to the function to update the skills list\n",
        "filter_for_skills_button.on_click(update_skills_list_filter)\n",
        "unfilter_for_skills_button.on_click(update_skills_list_unfilter)\n",
        "\n",
        "# Create a text input field for searching\n",
        "search_text = widgets.Text(\n",
        "    placeholder='Search',\n",
        "    description='Search:',\n",
        "    disabled=False\n",
        ")\n",
        "\n",
        "# Create a function to update the skills list based on the search input\n",
        "def update_skills_list_search(change):\n",
        "    search_value = change.new.lower()  # Get the lowercase search input\n",
        "    filtered_skills = [skill for skill in filtered_skill_list if search_value in skill.lower()]\n",
        "    skills_checkboxes.options = filtered_skills\n",
        "    if filtered_skills:\n",
        "      skills_checkboxes.value = [filtered_skills[0]]\n",
        "\n",
        "# Link the text input to the search function\n",
        "search_text.observe(update_skills_list_search, names='value')\n",
        "\n",
        "\n",
        "# Create a function to plot the selected skills\n",
        "def plot_skills(skills):\n",
        "    plt.clf()  # Clear the old plot\n",
        "\n",
        "    fig, ax = plt.subplots(figsize=(10, 5))\n",
        "    ax.xaxis.set_major_formatter(FormatStrFormatter('%d'))\n",
        "\n",
        "    for skill in skills:\n",
        "        skill_data = np.array(most_mentioned_skills_per_year[skill])\n",
        "        ax.plot(years, skill_data, label=skill)\n",
        "\n",
        "        # Add the percentage as a label for each data point\n",
        "        for i, data_point in enumerate(skill_data):\n",
        "            ax.text(years[i], data_point, f\"{data_point:.1%}\", ha='center', va='bottom', fontsize=10)\n",
        "\n",
        "    # Set the x-axis ticks to correspond to the year values\n",
        "    ax.set_xticks(years)\n",
        "\n",
        "    # Label the axes\n",
        "    ax.set_xlabel(\"Jahr\")\n",
        "    ax.set_ylabel(\"Anteil an Stellenanzeigen (%)\")\n",
        "\n",
        "    # Add legend and show plot\n",
        "    ax.legend()\n",
        "    plt.show()\n",
        "\n",
        "# Create an interactive widget to link the function and the checkboxes\n",
        "interactive_plot = widgets.interactive(plot_skills, skills=skills_checkboxes)\n",
        "\n",
        "# Create an HBox to display the buttons side by side\n",
        "button_box = widgets.HBox([unfilter_for_skills_button, filter_for_skills_button, search_text])\n",
        "\n",
        "# Display the widgets\n",
        "if filter_by_skills:\n",
        "  display(button_box)\n",
        "display(interactive_plot)"
      ],
      "metadata": {
        "colab": {
          "base_uri": "https://localhost:8080/",
          "height": 619,
          "referenced_widgets": [
            "355c4b96171e40dbb358693156fd41bf",
            "1c195f2477d944c1aa4ee653f2d52d41",
            "924c45e618ea40d2ab3df73082206a0e",
            "b27f7929716343ce89196dd48b550cba",
            "f3c0920e588442898fb9474923196505",
            "b0f1f08142044e8c905cba7bf2748dd0",
            "62abead9c1394527b25366c922e4a04c",
            "82aea6b38a2140af99b763b180e4678d",
            "32a57883fa9a40f0a5312295c734ddd2",
            "f07cf0c7ac6e407aab555bcbd131ef67",
            "65c72aef4cdf4d5f925a157cc3900053",
            "b347598f0e3342899f00f32ac9c6a40d",
            "3b6d9234c4fc46bfaf47c316011f957d",
            "ad80e99cc96d4dfc9d47d8ce419bdc8c",
            "af12a3521d514ce889421f8570af6857",
            "4cd847c044034752baf4a415e69420c9",
            "b1e39dde9e0245da9353e9586107801d",
            "2b849256af6b492689e8a7428a50a875"
          ]
        },
        "id": "gaAA_br39UOE",
        "outputId": "c6168990-f2bc-4ace-e0c6-c4531c3a0fee"
      },
      "execution_count": 182,
      "outputs": [
        {
          "output_type": "display_data",
          "data": {
            "text/plain": [
              "HBox(children=(Button(description='All Token', style=ButtonStyle()), Button(description='Filter for Skills', s…"
            ],
            "application/vnd.jupyter.widget-view+json": {
              "version_major": 2,
              "version_minor": 0,
              "model_id": "355c4b96171e40dbb358693156fd41bf"
            }
          },
          "metadata": {}
        },
        {
          "output_type": "display_data",
          "data": {
            "text/plain": [
              "interactive(children=(SelectMultiple(description='Token:', index=(0,), layout=Layout(height='100px'), options=…"
            ],
            "application/vnd.jupyter.widget-view+json": {
              "version_major": 2,
              "version_minor": 0,
              "model_id": "b347598f0e3342899f00f32ac9c6a40d"
            }
          },
          "metadata": {}
        }
      ]
    },
    {
      "cell_type": "markdown",
      "metadata": {
        "id": "ufEM9gV42jkP"
      },
      "source": [
        "# 5. LDA Topic Modeling\n",
        "\n",
        "\n",
        "*   gensim or tomotopy framework can be used (default: tomotopy)\n",
        "\n",
        "\n",
        "\n"
      ]
    },
    {
      "cell_type": "markdown",
      "source": [
        "### 5.1 Setting Model parameters"
      ],
      "metadata": {
        "id": "Y-udmmsXZ-_4"
      }
    },
    {
      "cell_type": "code",
      "source": [
        "import numpy as np\n",
        "\n",
        "# Set training parameters\n",
        "num_topics = 11 # Specifies the number of topics to be extracted from the corpus\n",
        "min_cf = 15 # minimum collection frequency of words, words with a smaller collection frequency are excluded\n",
        "min_df = 10 # minimum document frequency of words, words with a smaller document frequency are excluded\n",
        "rm_top = 5 # the number of top words to be removed\n",
        "\n",
        "# Number of keywords per topic to display\n",
        "num_keywords = 20\n",
        "\n",
        "# Setting the seed to ensure the reproducibility of the results\n",
        "seed = 22\n",
        "np.random.seed(seed)"
      ],
      "metadata": {
        "id": "QGDX5PjoZ-NH"
      },
      "execution_count": 213,
      "outputs": []
    },
    {
      "cell_type": "markdown",
      "source": [
        "### 5.2 LDA Topic Modeling (tomotopy)"
      ],
      "metadata": {
        "id": "bNjRh2D9UoOV"
      }
    },
    {
      "cell_type": "code",
      "execution_count": 184,
      "metadata": {
        "colab": {
          "base_uri": "https://localhost:8080/"
        },
        "id": "_c9Hg8lIyOEV",
        "outputId": "b4251fbf-d14a-4a5a-d4e5-74b9399903be"
      },
      "outputs": [
        {
          "output_type": "stream",
          "name": "stdout",
          "text": [
            "Requirement already satisfied: tomotopy in /usr/local/lib/python3.10/dist-packages (0.12.5)\n",
            "Requirement already satisfied: numpy>=1.11.0 in /usr/local/lib/python3.10/dist-packages (from tomotopy) (1.26.0)\n"
          ]
        }
      ],
      "source": [
        "!pip install tomotopy\n",
        "import tomotopy as tp"
      ]
    },
    {
      "cell_type": "markdown",
      "source": [
        "#### 5.2.1 Setting up model"
      ],
      "metadata": {
        "id": "YGOwPE6ZVSOj"
      }
    },
    {
      "cell_type": "markdown",
      "source": [
        "* Use pretrained model (optional)"
      ],
      "metadata": {
        "id": "UTG8UIlGG3Lv"
      }
    },
    {
      "cell_type": "code",
      "source": [
        "import os\n",
        "from ipywidgets import interact, widgets\n",
        "\n",
        "# Define the directory where the repository folder will be downloaded\n",
        "download_path = '/content/repository_folder/'\n",
        "\n",
        "# Specify the URL of the GitHub repository\n",
        "repository_url = 'https://github.com/schmcklr/skill_extractor.git'\n",
        "\n",
        "# Download the repository\n",
        "os.system(f'git clone {repository_url} {download_path}')\n",
        "\n",
        "# Select trained LDA models\n",
        "lda_models_pretrained = [file for file in os.listdir('/content/repository_folder/trained_models') if \"lda\" in file.lower()]\n",
        "\n",
        "# Dropdown widget\n",
        "dropdown_lda = widgets.Dropdown(\n",
        "    options=lda_models_pretrained,\n",
        "    description='Select Trained Model:',\n",
        "    disabled=False,\n",
        "    layout={'width': '500px'},\n",
        "    style={'description_width': 'auto'}\n",
        ")\n",
        "\n",
        "# Add default option\n",
        "additional_option = \"\"\n",
        "dropdown_lda.options = [additional_option] + list(dropdown_lda.options)\n",
        "\n",
        "# Display dropdown\n",
        "display(dropdown_lda)"
      ],
      "metadata": {
        "colab": {
          "base_uri": "https://localhost:8080/",
          "height": 49,
          "referenced_widgets": [
            "537766401f144d89b8fc2d28bd4adb87",
            "63f6113cc038486a966d902fe324f7d6",
            "cdf9e0eabf564640b459bdbcc5f163f4"
          ]
        },
        "id": "TxOENxMLG2bi",
        "outputId": "c833dba3-131f-4f91-d4d1-88326cb4a451"
      },
      "execution_count": 236,
      "outputs": [
        {
          "output_type": "display_data",
          "data": {
            "text/plain": [
              "Dropdown(description='Select Trained Model:', layout=Layout(width='500px'), options=('', 'filtered_by_descript…"
            ],
            "application/vnd.jupyter.widget-view+json": {
              "version_major": 2,
              "version_minor": 0,
              "model_id": "537766401f144d89b8fc2d28bd4adb87"
            }
          },
          "metadata": {}
        }
      ]
    },
    {
      "cell_type": "markdown",
      "source": [
        "* Train new model (default)"
      ],
      "metadata": {
        "id": "djCeML6RGzEP"
      }
    },
    {
      "cell_type": "code",
      "execution_count": 237,
      "metadata": {
        "id": "9dhqd8NU2jQN",
        "colab": {
          "base_uri": "https://localhost:8080/"
        },
        "outputId": "94cb817f-0547-48ac-d3b1-97e426c3ed1f"
      },
      "outputs": [
        {
          "output_type": "stream",
          "name": "stderr",
          "text": [
            "<ipython-input-237-97b4a266f7ea>:23: RuntimeWarning: The training result may differ even with fixed seed if `workers` != 1.\n",
            "  mdl.train(1000)\n"
          ]
        }
      ],
      "source": [
        "# Train new model\n",
        "if dropdown_lda.value == \"\":\n",
        "  # Convert the list of lists into a list of strings\n",
        "  list_of_strings = [' '.join(doc) for doc in filtered_docs_all]\n",
        "\n",
        "  corpus = []\n",
        "  # Creating corpus instance\n",
        "  corpus = tp.utils.Corpus(tokenizer=tp.utils.SimpleTokenizer())\n",
        "\n",
        "  # Processing list of strings into correct format\n",
        "  corpus.process(list_of_strings)\n",
        "\n",
        "  # Create an LDA model and train it\n",
        "  mdl = tp.LDAModel(k=num_topics, # Specifies the number of topics to be extracted from the corpus\n",
        "                    min_cf=min_cf, # minimum collection frequency of words, words with a smaller collection frequency are excluded\n",
        "                    min_df=min_df, # minimum document frequency of words, words with a smaller document frequency are excluded\n",
        "                    corpus=corpus, # list of documents\n",
        "                    seed=seed, # random seed\n",
        "                    rm_top=rm_top # the number of top words to be removed\n",
        "                    )\n",
        "\n",
        "  # Train model\n",
        "  mdl.train(1000)\n",
        "\n",
        "  # Printing model summary (developing context only)\n",
        "  #print('Number of documents:', len(mdl.docs), ', Vocabulary size:', len(mdl.used_vocabs), ', Number of words:', mdl.num_words)\n",
        "  #print('Removed top words:', mdl.removed_top_words)\n",
        "  #mdl.summary()\n",
        "\n",
        "# Use pretrained model\n",
        "else:\n",
        "  mdl = tp.LDAModel.load('/content/repository_folder/trained_models/' + dropdown_lda.value)"
      ]
    },
    {
      "cell_type": "markdown",
      "source": [
        "* Monitoring training process (disabled by default)   \n",
        "\n",
        "\n"
      ],
      "metadata": {
        "id": "rM9XblanWNre"
      }
    },
    {
      "cell_type": "code",
      "source": [
        "'''\n",
        "for i in range(0, 1000, 10):\n",
        "    mdl.train(10)\n",
        "    print('Iteration: {}\\tLog-likelihood: {}'.format(i, mdl.ll_per_word))\n",
        "'''"
      ],
      "metadata": {
        "colab": {
          "base_uri": "https://localhost:8080/",
          "height": 36
        },
        "id": "HCLNNrE4WMvp",
        "outputId": "40bc7826-9dbd-41a4-83e2-d5f8c2330ff1"
      },
      "execution_count": 187,
      "outputs": [
        {
          "output_type": "execute_result",
          "data": {
            "text/plain": [
              "\"\\nfor i in range(0, 1000, 10):\\n    mdl.train(10)\\n    print('Iteration: {}\\tLog-likelihood: {}'.format(i, mdl.ll_per_word))\\n\""
            ],
            "application/vnd.google.colaboratory.intrinsic+json": {
              "type": "string"
            }
          },
          "metadata": {},
          "execution_count": 187
        }
      ]
    },
    {
      "cell_type": "markdown",
      "source": [
        "* Automated Topic Labeling (disabled by default)"
      ],
      "metadata": {
        "id": "OFxGn7S5cRrp"
      }
    },
    {
      "cell_type": "code",
      "source": [
        "'''\n",
        "# extract candidates for auto topic labeling\n",
        "extractor = tp.label.PMIExtractor(min_cf=10, min_df=5, max_len=5, max_cand=10000)\n",
        "cands = extractor.extract(mdl)\n",
        "\n",
        "# ranking the candidates of labels for a specific topic\n",
        "labeler = tp.label.FoRelevance(mdl, cands, min_df=5, smoothing=1e-2, mu=0.25)\n",
        "for k in range(mdl.k):\n",
        "    print(\"== Topic #{} ==\".format(k))\n",
        "    print(\"Labels:\", ', '.join(label for label, score in labeler.get_topic_labels(k, top_n=2)))\n",
        "    for word, prob in mdl.get_topic_words(k, top_n=20):\n",
        "        print(word, prob, sep='\\t')\n",
        "    print()\n",
        "'''"
      ],
      "metadata": {
        "colab": {
          "base_uri": "https://localhost:8080/",
          "height": 88
        },
        "id": "Z8yyu25_VdLE",
        "outputId": "a4c2e7e6-18be-4618-f85b-6308645ca3f3"
      },
      "execution_count": 188,
      "outputs": [
        {
          "output_type": "execute_result",
          "data": {
            "text/plain": [
              "'\\n# extract candidates for auto topic labeling\\nextractor = tp.label.PMIExtractor(min_cf=10, min_df=5, max_len=5, max_cand=10000)\\ncands = extractor.extract(mdl)\\n\\n# ranking the candidates of labels for a specific topic\\nlabeler = tp.label.FoRelevance(mdl, cands, min_df=5, smoothing=1e-2, mu=0.25)\\nfor k in range(mdl.k):\\n    print(\"== Topic #{} ==\".format(k))\\n    print(\"Labels:\", \\', \\'.join(label for label, score in labeler.get_topic_labels(k, top_n=2)))\\n    for word, prob in mdl.get_topic_words(k, top_n=20):\\n        print(word, prob, sep=\\'\\t\\')\\n    print()\\n'"
            ],
            "application/vnd.google.colaboratory.intrinsic+json": {
              "type": "string"
            }
          },
          "metadata": {},
          "execution_count": 188
        }
      ]
    },
    {
      "cell_type": "markdown",
      "source": [
        "* Printing topic words"
      ],
      "metadata": {
        "id": "-6H9DhWgqyES"
      }
    },
    {
      "cell_type": "code",
      "source": [
        "# Extract top words for each topic\n",
        "top_words_by_topic = []\n",
        "for k in range(mdl.k):\n",
        "    topic_words = [word for word, prob in mdl.get_topic_words(k, top_n=num_keywords)]\n",
        "    top_words_by_topic.append(topic_words)\n",
        "\n",
        "\n",
        "# Output the top words for each topic\n",
        "for k, topic_words in enumerate(top_words_by_topic):\n",
        "    print(\"== Topic #{} ==\".format(k))\n",
        "    print(', '.join(topic_words))\n",
        "    print()"
      ],
      "metadata": {
        "colab": {
          "base_uri": "https://localhost:8080/"
        },
        "id": "eTau5Egpptbi",
        "outputId": "3e147325-e998-49fb-9382-c835e28c6aed"
      },
      "execution_count": 214,
      "outputs": [
        {
          "output_type": "stream",
          "name": "stdout",
          "text": [
            "== Topic #0 ==\n",
            "technology, business_administration, mathematics, computer_science, data, economics, degree_program, business_informatics, study, big_data, think_analytically, communication, engineering, technical_field, 2_year, innovative_enterprise, self_starter, technology_forward, comprehend_new, various_customer\n",
            "\n",
            "== Topic #1 ==\n",
            "communication, verbal, environment, analytical_skill, professional, highly, deadline, service, effectively, french, attention_detail, customer_service, self_starter, relationship, organizational, microsoft_excel, project, proactive, interpersonal_skill, salesforce\n",
            "\n",
            "== Topic #2 ==\n",
            "technology, software, development, java, cloud, computer_science, automation, technical, environment, design, sql, javascript, python, architecture, data, security, database, software_development, web, service\n",
            "\n",
            "== Topic #3 ==\n",
            "data, agile, marketing, analytical_skill, technology, analytics, digital, design, communication, project, development, master_degree, methodology, analysis, environment, strategy, user, platform, model, salesforce\n",
            "\n",
            "== Topic #4 ==\n",
            "communication, engineering, quantitative, environment, verbal, business_acumen, software, data, firm, value, crm, proactive, self_motivated, consultative_approach, communication_presentation, individual_confident, competitive_tenacious, goal_broader, statistic, consultant\n",
            "\n",
            "== Topic #5 ==\n",
            "sap, environment, organization, module, bachelor_degree, project_management, effective_communication, different_level, engineering, information_system, integration, implementation, working_global, related_discipline, environment_virtual, ability_translate, functional_area, agile_devops, information_risk, analysis\n",
            "\n",
            "== Topic #6 ==\n",
            "environment, analysis, communication, microsoft_excel, analytical_skill, bachelor_degree, proficiency, verbal, organizational, accounting, finance, standard, language, approach, data, operation, sql, word, lean, dynamic\n",
            "\n",
            "== Topic #7 ==\n",
            "project, technical, support, service, development, organization, engineering, certification, global, communication, internal, control, project_management, program, manage, partner, leadership, plan, quality, operation\n",
            "\n",
            "== Topic #8 ==\n",
            "german_language, communication, master_degree, analytical_skill, science, economics, french, engineering, project, international, professional, computer_science, study, university_degree, dutch, finance, business_administration, language, environment, technology\n",
            "\n",
            "== Topic #9 ==\n",
            "technology, value, idea, innovation, colleague, people, standard, information, professional, way, clear, security, collaboration, attitude, growth, service, academic, relationship, development, communicator\n",
            "\n",
            "== Topic #10 ==\n",
            "executive, business_acumen, market, relationship, c_level, strategic, saas, environment, plan, value_proposition, passionate, successful, idea_effectively, interpersonal_skill, enterprise_software, professional, long, development, top, integrity\n",
            "\n"
          ]
        }
      ]
    },
    {
      "cell_type": "markdown",
      "source": [
        "#### 5.2.2 Topic distribution over time (LDA)"
      ],
      "metadata": {
        "id": "PMgXTB52VRLn"
      }
    },
    {
      "cell_type": "markdown",
      "source": [
        "* Calculation the number of documents per year"
      ],
      "metadata": {
        "id": "Qfo-r_nMkDhL"
      }
    },
    {
      "cell_type": "code",
      "source": [
        "# Create Liste with years\n",
        "years_list = list(docs_by_year.keys())\n",
        "\n",
        "# Create List with number of documents per year\n",
        "time_slices = []\n",
        "\n",
        "# Number of documents per time slice/year\n",
        "for key, value in docs_by_year.items():\n",
        "    if isinstance(value, list):\n",
        "        number_of_documents = len(value)\n",
        "        time_slices.append(number_of_documents)"
      ],
      "metadata": {
        "id": "8-6dXLsrgIPI"
      },
      "execution_count": 209,
      "outputs": []
    },
    {
      "cell_type": "markdown",
      "source": [
        "* Function for calculating average topic distribution by year"
      ],
      "metadata": {
        "id": "ARE77PWildCp"
      }
    },
    {
      "cell_type": "code",
      "execution_count": 210,
      "metadata": {
        "id": "ZcyYSe4f4BTD"
      },
      "outputs": [],
      "source": [
        "import numpy as np\n",
        "\n",
        "# Function for calculating average topic distribution by year\n",
        "def calculate_topic_distributions_average(topic_distributions, time_slices):\n",
        "    result_dict = {}\n",
        "\n",
        "    # Calculate the average for each time slice\n",
        "    for i, num_docs in enumerate(time_slices):\n",
        "        start_idx = sum(time_slices[:i])  # Index of the first document in this time slice\n",
        "        end_idx = start_idx + num_docs    # Index of the last document in this time slice\n",
        "\n",
        "        # Extract the relevant documents from topic_distributions\n",
        "        selected_docs = topic_distributions[start_idx:end_idx]\n",
        "\n",
        "        # Convert arrays into a NumPy matrix\n",
        "        matrix = np.array(selected_docs)\n",
        "\n",
        "        # Calculate the average for each column\n",
        "        column_means = np.mean(matrix, axis=0)\n",
        "\n",
        "        # Insert the array of average values into the dictionary\n",
        "        result_dict[years_list[i]] = column_means\n",
        "\n",
        "    return result_dict"
      ]
    },
    {
      "cell_type": "markdown",
      "source": [
        "* Extract average topic distribution by year"
      ],
      "metadata": {
        "id": "pqZ75s6OlXtu"
      }
    },
    {
      "cell_type": "code",
      "source": [
        "# Extract topic distribution for all documents\n",
        "topic_distributions = [list(doc.get_topic_dist()) for doc in mdl.docs]\n",
        "\n",
        "# Extract average topic distribution by year\n",
        "topic_distributions_by_year = calculate_topic_distributions_average(topic_distributions, time_slices)"
      ],
      "metadata": {
        "id": "CbEeiw8-lWht"
      },
      "execution_count": 211,
      "outputs": []
    },
    {
      "cell_type": "markdown",
      "source": [
        "* Visualisation of topic distribution over time"
      ],
      "metadata": {
        "id": "Ju1hRbAQkQle"
      }
    },
    {
      "cell_type": "code",
      "execution_count": 225,
      "metadata": {
        "id": "e2nYEIOF4RRM",
        "colab": {
          "base_uri": "https://localhost:8080/",
          "height": 1000,
          "referenced_widgets": [
            "58af13ed97ea421ab10db489e6bc39b9",
            "e772956379414ce98553ac8b455740ba",
            "57671cb2fc7c4dd8a3e56d809557fb15",
            "3c2168a70fd94f51a60a80afe34b5572",
            "92e5b13a1af141f590ff8fb657b61824",
            "da23d5d5c0144076b0e6ad2aa4cf4c76",
            "22fdbdc6813e4d94ad0cfb7e33b83f8d"
          ]
        },
        "outputId": "71599db2-faa4-45c9-a916-5efa5fc92450"
      },
      "outputs": [
        {
          "output_type": "display_data",
          "data": {
            "text/plain": [
              "interactive(children=(SelectMultiple(description='Topics:', index=(0, 1, 2, 3, 4, 5, 6, 7, 8, 9, 10), options=…"
            ],
            "application/vnd.jupyter.widget-view+json": {
              "version_major": 2,
              "version_minor": 0,
              "model_id": "58af13ed97ea421ab10db489e6bc39b9"
            }
          },
          "metadata": {}
        },
        {
          "output_type": "stream",
          "name": "stdout",
          "text": [
            "== Topic #0 ==\n",
            "technology, business_administration, mathematics, computer_science, data, economics, degree_program, business_informatics, study, big_data, think_analytically, communication, engineering, technical_field, 2_year, innovative_enterprise, self_starter, technology_forward, comprehend_new, various_customer\n",
            "\n",
            "== Topic #1 ==\n",
            "communication, verbal, environment, analytical_skill, professional, highly, deadline, service, effectively, french, attention_detail, customer_service, self_starter, relationship, organizational, microsoft_excel, project, proactive, interpersonal_skill, salesforce\n",
            "\n",
            "== Topic #2 ==\n",
            "technology, software, development, java, cloud, computer_science, automation, technical, environment, design, sql, javascript, python, architecture, data, security, database, software_development, web, service\n",
            "\n",
            "== Topic #3 ==\n",
            "data, agile, marketing, analytical_skill, technology, analytics, digital, design, communication, project, development, master_degree, methodology, analysis, environment, strategy, user, platform, model, salesforce\n",
            "\n",
            "== Topic #4 ==\n",
            "communication, engineering, quantitative, environment, verbal, business_acumen, software, data, firm, value, crm, proactive, self_motivated, consultative_approach, communication_presentation, individual_confident, competitive_tenacious, goal_broader, statistic, consultant\n",
            "\n",
            "== Topic #5 ==\n",
            "sap, environment, organization, module, bachelor_degree, project_management, effective_communication, different_level, engineering, information_system, integration, implementation, working_global, related_discipline, environment_virtual, ability_translate, functional_area, agile_devops, information_risk, analysis\n",
            "\n",
            "== Topic #6 ==\n",
            "environment, analysis, communication, microsoft_excel, analytical_skill, bachelor_degree, proficiency, verbal, organizational, accounting, finance, standard, language, approach, data, operation, sql, word, lean, dynamic\n",
            "\n",
            "== Topic #7 ==\n",
            "project, technical, support, service, development, organization, engineering, certification, global, communication, internal, control, project_management, program, manage, partner, leadership, plan, quality, operation\n",
            "\n",
            "== Topic #8 ==\n",
            "german_language, communication, master_degree, analytical_skill, science, economics, french, engineering, project, international, professional, computer_science, study, university_degree, dutch, finance, business_administration, language, environment, technology\n",
            "\n",
            "== Topic #9 ==\n",
            "technology, value, idea, innovation, colleague, people, standard, information, professional, way, clear, security, collaboration, attitude, growth, service, academic, relationship, development, communicator\n",
            "\n",
            "== Topic #10 ==\n",
            "executive, business_acumen, market, relationship, c_level, strategic, saas, environment, plan, value_proposition, passionate, successful, idea_effectively, interpersonal_skill, enterprise_software, professional, long, development, top, integrity\n",
            "\n"
          ]
        }
      ],
      "source": [
        "import matplotlib.pyplot as plt\n",
        "import ipywidgets as widgets\n",
        "from ipywidgets import interact\n",
        "\n",
        "# Extracting time slices and average values\n",
        "years = list(topic_distributions_by_year.keys())  # Get a list of years\n",
        "average_values = [topic_distributions_by_year[key] for key in years]  # Get average values for each year\n",
        "\n",
        "# Converting average values into a list per topic\n",
        "average_values = list(zip(*average_values))  # Transpose the data to group values by topic\n",
        "\n",
        "# Creating a multi-select list for topics\n",
        "topic_multiselect = widgets.SelectMultiple(\n",
        "    options=[(f'Topic {i}', i) for i, _ in enumerate(average_values)],  # Create options for each topic\n",
        "    value=list(range(len(average_values))),  # Select all topics by default\n",
        "    description='Topics:'\n",
        ")\n",
        "\n",
        "def plot_topic_distribution(selected_topics):\n",
        "    plt.figure(figsize=(10, 5))  # Create a new figure with a specified size\n",
        "\n",
        "    # Colors\n",
        "    color_palette = sns.color_palette(\"husl\", len(selected_topics))\n",
        "\n",
        "    for i, selected_topic in enumerate(selected_topics):\n",
        "        # Create a plot for each selected topic\n",
        "        topic_values = average_values[selected_topic]\n",
        "        plt.plot(years, topic_values, label=f'Topic {selected_topic}', color=color_palette[i])  # Plot the topic's average values over the years\n",
        "\n",
        "    plt.xlabel('Jahr')  # Set the label for the x-axis\n",
        "    plt.ylabel('Probability')  # Set the label for the y-axis\n",
        "    plt.legend()  # Show legend with topic labels\n",
        "    plt.grid(True)  # Display grid lines\n",
        "\n",
        "    # Set x-axis ticks only for full years\n",
        "    plt.xticks(years)\n",
        "\n",
        "    plt.show()  # Show the plot\n",
        "\n",
        "# Link the multi-select list with the plot function using interact\n",
        "interact(plot_topic_distribution, selected_topics=topic_multiselect)\n",
        "\n",
        "# Output the top words for each topic\n",
        "for k, topic_words in enumerate(top_words_by_topic):\n",
        "    print(\"== Topic #{} ==\".format(k))\n",
        "    print(', '.join(topic_words))\n",
        "    print()"
      ]
    },
    {
      "cell_type": "markdown",
      "source": [
        "#### 5.2.3 Model Evaluation"
      ],
      "metadata": {
        "id": "40u7_ni6sPlI"
      }
    },
    {
      "cell_type": "markdown",
      "source": [
        "* Calculate coherence for current using various coherence measures"
      ],
      "metadata": {
        "id": "Z-df42-aswTw"
      }
    },
    {
      "cell_type": "code",
      "source": [
        "# Calculate coherence using various coherence measures\n",
        "for preset in ('u_mass', 'c_uci', 'c_npmi', 'c_v'):\n",
        "    coh = tp.coherence.Coherence(mdl, coherence=preset)\n",
        "    average_coherence = coh.get_score()\n",
        "    coherence_per_topic = [coh.get_score(topic_id=k) for k in range(mdl.k)]\n",
        "    print('==== Coherence : {} ===='.format(preset))\n",
        "    print('Average:', average_coherence, '\\nPer Topic:', coherence_per_topic)\n",
        "    print()"
      ],
      "metadata": {
        "id": "ysibRxZZ0wEy",
        "colab": {
          "base_uri": "https://localhost:8080/"
        },
        "outputId": "ee71f34b-b7db-481b-da3d-d0ea56567696"
      },
      "execution_count": 194,
      "outputs": [
        {
          "output_type": "stream",
          "name": "stdout",
          "text": [
            "==== Coherence : u_mass ====\n",
            "Average: -1.437654908394251 \n",
            "Per Topic: [-1.422524026918088, -1.7547052580892208, -1.1406630294926967, -1.5911600033944842, -1.596359894297809, -1.393977192647458, -0.7208014436754183, -1.6197455898764832, -1.141325316014634, -1.368260597791396, -2.0646816401390726]\n",
            "\n",
            "==== Coherence : c_uci ====\n",
            "Average: -0.28134889682900305 \n",
            "Per Topic: [0.49404866254674196, 0.3772305479677917, -0.14475148044407277, 0.03320047946752735, -0.3243541595124584, -0.23271181289107146, 0.24278551246028243, -0.06029164333007456, 0.15925563347364377, 0.13356560367017964, -3.7728152085275237]\n",
            "\n",
            "==== Coherence : c_npmi ====\n",
            "Average: 0.023734626216830354 \n",
            "Per Topic: [0.1929036092648396, 0.061246099443192765, -0.01934645546499157, 0.01228067491405898, 0.004366932855845445, -0.03109802626787543, 0.056471321523064735, 9.453730427401696e-05, 0.046783648393661184, 0.03512460272468178, -0.09774605630561756]\n",
            "\n",
            "==== Coherence : c_v ====\n",
            "Average: 0.47910193126140665 \n",
            "Per Topic: [0.7005727857351303, 0.5317467004060745, 0.4716833338141441, 0.3785152666270733, 0.4979569956660271, 0.4785997524857521, 0.4958232082426548, 0.4550830662250519, 0.39229334369301794, 0.38720008907839654, 0.4806467019021511]\n",
            "\n"
          ]
        }
      ]
    },
    {
      "cell_type": "markdown",
      "source": [
        "* Calculate coherence for different number of topics using various coherence measures, can be helpful to select the number of topics"
      ],
      "metadata": {
        "id": "jAtGE_rH8QgW"
      }
    },
    {
      "cell_type": "code",
      "source": [
        "if calculate_coherence:\n",
        "  # Lists for storing coherence\n",
        "  coherence_values_cv = []\n",
        "  coherence_values_u_mass = []\n",
        "  coherence_values_c_uci = []\n",
        "  coherence_values_c_npmi = []\n",
        "\n",
        "  for num_topics_coherence in range(1, 30, 1):\n",
        "      mdl_for_coherence = tp.LDAModel(k=num_topics_coherence, min_cf=min_cf, min_df=min_df, corpus=corpus, seed=seed, rm_top=rm_top)\n",
        "      mdl_for_coherence.train(1000)\n",
        "\n",
        "      # Calculation of coherence with the u_mass coherence model\n",
        "      coh = tp.coherence.Coherence(mdl_for_coherence, coherence='u_mass')\n",
        "      coherence_u_mass = coh.get_score()\n",
        "      coherence_values_u_mass.append(coherence_u_mass)\n",
        "\n",
        "      # Calculation of coherence with the c_npmi coherence model\n",
        "      coh = tp.coherence.Coherence(mdl_for_coherence, coherence='c_uci')\n",
        "      coherence_c_uci = coh.get_score()\n",
        "      coherence_values_c_uci.append(coherence_c_uci)\n",
        "\n",
        "      # Calculation of coherence with the c_npmi coherence model\n",
        "      coh = tp.coherence.Coherence(mdl_for_coherence, coherence='c_npmi')\n",
        "      coherence_c_npmi = coh.get_score()\n",
        "      coherence_values_c_npmi.append(coherence_c_npmi)\n",
        "\n",
        "      # Calculation of coherence with the c_v coherence model\n",
        "      coh = tp.coherence.Coherence(mdl_for_coherence, coherence='c_v')\n",
        "      coherence_cv = coh.get_score()\n",
        "      coherence_values_cv.append(coherence_cv)"
      ],
      "metadata": {
        "colab": {
          "base_uri": "https://localhost:8080/"
        },
        "id": "7wXGvgRm6U8r",
        "outputId": "9bca7389-aa37-45fe-b580-3e25225243bb"
      },
      "execution_count": 195,
      "outputs": [
        {
          "output_type": "stream",
          "name": "stderr",
          "text": [
            "<ipython-input-195-7903f104dc5b>:10: RuntimeWarning: The training result may differ even with fixed seed if `workers` != 1.\n",
            "  mdl_for_coherence.train(1000)\n"
          ]
        }
      ]
    },
    {
      "cell_type": "markdown",
      "source": [
        "* Function for visualisation of coherence for different number of topics using various coherence measures"
      ],
      "metadata": {
        "id": "gsQXSU7NqSMg"
      }
    },
    {
      "cell_type": "code",
      "source": [
        "import matplotlib.pyplot as plt\n",
        "import numpy as np\n",
        "\n",
        "def plot_coherence_scores(coherence_values_cv, coherence_values_u_mass, coherence_values_c_uci, coherence_values_c_npmi):\n",
        "    # Set parameters\n",
        "    limit = len(coherence_values_cv) + 1\n",
        "    start = 1\n",
        "    step = 1\n",
        "    x = range(start, limit, step)\n",
        "\n",
        "    # Set color\n",
        "    color = '#333333'\n",
        "\n",
        "    # Create a 2x2 grid of subplots within a single Figure\n",
        "    fig, axes = plt.subplots(nrows=2, ncols=2, figsize=(7, 5))\n",
        "\n",
        "    # u_mass\n",
        "    axes[0, 0].plot(x, coherence_values_u_mass, color=color, label='Kohärenz (u_mass)')\n",
        "\n",
        "    axes[0, 0].set_xticks(np.arange(0, limit + 1, 5))\n",
        "    axes[0, 0].set_xlabel(\"Anzahl der Topics\")\n",
        "    axes[0, 0].set_ylabel(\"Kohärenz-Score\")\n",
        "    axes[0, 0].legend()\n",
        "\n",
        "    # c_uci\n",
        "    axes[0, 1].plot(x, coherence_values_c_uci, color=color, label='Kohärenz (c_uci)')\n",
        "\n",
        "    axes[0, 1].set_xticks(np.arange(0, limit + 1, 5))\n",
        "    axes[0, 1].set_xlabel(\"Anzahl der Topics\")\n",
        "    axes[0, 1].set_ylabel(\"Kohärenz-Score\")\n",
        "    axes[0, 1].legend()\n",
        "\n",
        "    # c_npmi\n",
        "    axes[1, 0].plot(x, coherence_values_c_npmi, color=color, label='Kohärenz (c_npmi)')\n",
        "\n",
        "    axes[1, 0].set_xticks(np.arange(0, limit + 1, 5))\n",
        "    axes[1, 0].set_xlabel(\"Anzahl der Topics\")\n",
        "    axes[1, 0].set_ylabel(\"Kohärenz-Score\")\n",
        "    axes[1, 0].legend()\n",
        "\n",
        "    # c_v\n",
        "    axes[1, 1].plot(x, coherence_values_cv, color=color, label='Kohärenz (c_v)')\n",
        "\n",
        "    axes[1, 1].set_xticks(np.arange(0, limit + 1, 5))\n",
        "    axes[1, 1].set_xlabel(\"Anzahl der Topics\")\n",
        "    axes[1, 1].set_ylabel(\"Kohärenz-Score\")\n",
        "    axes[1, 1].legend()\n",
        "\n",
        "    # Adjust spacing between subplots\n",
        "    plt.tight_layout()\n",
        "\n",
        "    # Show the entire Figure\n",
        "    plt.show()"
      ],
      "metadata": {
        "id": "XMLx23mIp_jW"
      },
      "execution_count": 196,
      "outputs": []
    },
    {
      "cell_type": "markdown",
      "source": [
        "* Visualisation of coherence for different number of topics using various coherence measures, can be helpful to select the number of topics"
      ],
      "metadata": {
        "id": "XFg3bqBxcDvv"
      }
    },
    {
      "cell_type": "code",
      "source": [
        "if calculate_coherence:\n",
        "  plot_coherence_scores(coherence_values_cv, coherence_values_u_mass, coherence_values_c_uci, coherence_values_c_npmi)"
      ],
      "metadata": {
        "colab": {
          "base_uri": "https://localhost:8080/",
          "height": 507
        },
        "id": "RZXJZTVDcDbt",
        "outputId": "08f2b7d1-7a17-4226-ddf9-0e0e10385f08"
      },
      "execution_count": 197,
      "outputs": [
        {
          "output_type": "display_data",
          "data": {
            "text/plain": [
              "<Figure size 700x500 with 4 Axes>"
            ],
            "image/png": "[encoded data removed]"
          },
          "metadata": {}
        }
      ]
    },
    {
      "cell_type": "markdown",
      "source": [
        "#### 5.2.4 Save and download the model"
      ],
      "metadata": {
        "id": "ef6BsMKTQ8a5"
      }
    },
    {
      "cell_type": "code",
      "source": [
        "from google.colab import files\n",
        "import ipywidgets as widgets\n",
        "from IPython.display import display\n",
        "\n",
        "# Create the path for the saved model file\n",
        "path = 'filtered_by_' + filter_type + '_tomotopy_lda_' + str(num_topics) + '_topics' + '.bin'\n",
        "\n",
        "# Save the model to a file\n",
        "mdl.save(path)\n",
        "\n",
        "# Create a button for downloading the model\n",
        "download_button = widgets.Button(description=\"Download Model\")\n",
        "\n",
        "# Link the download function to the button click event\n",
        "def on_download_button_click(b):\n",
        "    # Download the model file\n",
        "    files.download(path)\n",
        "\n",
        "download_button.on_click(on_download_button_click)\n",
        "\n",
        "# Display the download button\n",
        "display(download_button)"
      ],
      "metadata": {
        "colab": {
          "base_uri": "https://localhost:8080/",
          "height": 49,
          "referenced_widgets": [
            "571587c350b4475e828141e1e114d343",
            "b512737a7c404b78ae4b2a996c497b20",
            "132c516a7a0e43d9b0e9da65afca3241"
          ]
        },
        "id": "dZeJ6ZN0K3II",
        "outputId": "9cdb98b9-404b-45b6-b9c6-4bcb02439bc3"
      },
      "execution_count": 198,
      "outputs": [
        {
          "output_type": "display_data",
          "data": {
            "text/plain": [
              "Button(description='Download Model', style=ButtonStyle())"
            ],
            "application/vnd.jupyter.widget-view+json": {
              "version_major": 2,
              "version_minor": 0,
              "model_id": "571587c350b4475e828141e1e114d343"
            }
          },
          "metadata": {}
        }
      ]
    },
    {
      "cell_type": "markdown",
      "source": [
        "# 6. Dynamic Topic Modeling\n",
        "\n",
        "\n",
        "*   gensim or tomotopy framework can be used (default: tomotopy)\n",
        "\n",
        "\n"
      ],
      "metadata": {
        "id": "F-Le7_x5r98y"
      }
    },
    {
      "cell_type": "markdown",
      "source": [
        "## 6.1 DTM Model (tomotopy)"
      ],
      "metadata": {
        "id": "LgmIyokPySbU"
      }
    },
    {
      "cell_type": "markdown",
      "source": [
        "### 6.1.1 Setting up model"
      ],
      "metadata": {
        "id": "0jHXaOf62aPh"
      }
    },
    {
      "cell_type": "markdown",
      "source": [
        "* Use pretrained model (optional)"
      ],
      "metadata": {
        "id": "0kRvcVIEgIF5"
      }
    },
    {
      "cell_type": "code",
      "source": [
        "# Select trained DTM models\n",
        "dtm_models_pretrained = [file for file in os.listdir('/content/repository_folder/trained_models') if \"dtm\" in file.lower()]\n",
        "\n",
        "# Dropdown widget\n",
        "dropdown_dtm = widgets.Dropdown(\n",
        "    options=dtm_models_pretrained,\n",
        "    description='Select Trained Model:',\n",
        "    disabled=False,\n",
        "    layout={'width': '500px'},\n",
        "    style={'description_width': 'auto'}\n",
        ")\n",
        "\n",
        "# Add default option\n",
        "additional_option = \"\"\n",
        "dropdown_dtm.options = [additional_option] + list(dropdown_dtm.options)\n",
        "\n",
        "# Display dropdown\n",
        "display(dropdown_dtm)"
      ],
      "metadata": {
        "colab": {
          "base_uri": "https://localhost:8080/",
          "height": 49,
          "referenced_widgets": [
            "dfe218898ddb4c119604fcd7d6fadcf7",
            "8151ba47a67c48f89020c3fcad96dffb",
            "e9eff969af93481a9d8eedb5236eaebd"
          ]
        },
        "id": "tGKtiasagI1j",
        "outputId": "c07f3813-ce1d-47dc-b9f0-08309e21d89c"
      },
      "execution_count": 233,
      "outputs": [
        {
          "output_type": "display_data",
          "data": {
            "text/plain": [
              "Dropdown(description='Select Trained Model:', layout=Layout(width='500px'), options=('',), style=DescriptionSt…"
            ],
            "application/vnd.jupyter.widget-view+json": {
              "version_major": 2,
              "version_minor": 0,
              "model_id": "dfe218898ddb4c119604fcd7d6fadcf7"
            }
          },
          "metadata": {}
        }
      ]
    },
    {
      "cell_type": "code",
      "source": [
        "import tomotopy as tp\n",
        "\n",
        "# Train new model\n",
        "if dropdown_dtm.value == \"\":\n",
        "  # Create DTM model\n",
        "  dtmdl = tp.DTModel(k=num_topics,\n",
        "                    t=len(docs_by_year), # the number of timpoints\n",
        "                    min_cf=min_cf, # minimum collection frequency of words, words with a smaller collection frequency are excluded\n",
        "                    min_df=min_df, # minimum document frequency of words, words with a smaller document frequency are excluded\n",
        "                    seed=seed # random seed\n",
        "                    )\n",
        "\n",
        "  # Function for adding documents to model\n",
        "  def add_documents_for_timepoint(model, timepoint, doc_token_lists):\n",
        "      for doc in doc_token_lists:\n",
        "          model.add_doc(doc, timepoint=timepoint, ignore_empty_words=True)\n",
        "\n",
        "  # Starting timepoint\n",
        "  timepoint = 0\n",
        "\n",
        "  # Iterate through the dictionary and add documents for each timepoint\n",
        "  for year in docs_by_year:\n",
        "      add_documents_for_timepoint(dtmdl, timepoint, docs_by_year[year])\n",
        "      timepoint += 1\n",
        "\n",
        "  # Train the model\n",
        "  dtmdl.train(1000)\n",
        "# Use pretrained model\n",
        "else:\n",
        "  dtmdl = tp.DTModel.load('/content/repository_folder/trained_models/' + dropdown_dtm.value)"
      ],
      "metadata": {
        "colab": {
          "base_uri": "https://localhost:8080/"
        },
        "id": "1HZVJOs72jUA",
        "outputId": "dd44c491-0ff4-45f0-9fbd-47c982a4d64b"
      },
      "execution_count": 199,
      "outputs": [
        {
          "output_type": "stream",
          "name": "stderr",
          "text": [
            "<ipython-input-199-826abb5bab93>:25: RuntimeWarning: The training result may differ even with fixed seed if `workers` != 1.\n",
            "  dtmdl.train(1000)\n"
          ]
        }
      ]
    },
    {
      "cell_type": "markdown",
      "source": [
        "* Monitoring training process (disabled by default)"
      ],
      "metadata": {
        "id": "NZP0Fb4DylCa"
      }
    },
    {
      "cell_type": "code",
      "source": [
        "'''\n",
        "print('Num docs:', len(dtmdl.docs), ', Vocab size:', len(dtmdl.used_vocabs), ', Num words:', dtmdl.num_words)\n",
        "print('Removed top words:', dtmdl.removed_top_words)\n",
        "for i in range(0, 1000, 10):\n",
        "    dtmdl.train(10)\n",
        "    print('Iteration: {}\\tLog-likelihood: {}'.format(i, dtmdl.ll_per_word))\n",
        "'''"
      ],
      "metadata": {
        "colab": {
          "base_uri": "https://localhost:8080/",
          "height": 53
        },
        "id": "IH4d-OoKxlN5",
        "outputId": "22dbcbc0-b498-4034-f04f-ea8d2cb3db54"
      },
      "execution_count": 200,
      "outputs": [
        {
          "output_type": "execute_result",
          "data": {
            "text/plain": [
              "\"\\nprint('Num docs:', len(dtmdl.docs), ', Vocab size:', len(dtmdl.used_vocabs), ', Num words:', dtmdl.num_words)\\nprint('Removed top words:', dtmdl.removed_top_words)\\nfor i in range(0, 1000, 10):\\n    dtmdl.train(10)\\n    print('Iteration: {}\\tLog-likelihood: {}'.format(i, dtmdl.ll_per_word))\\n\""
            ],
            "application/vnd.google.colaboratory.intrinsic+json": {
              "type": "string"
            }
          },
          "metadata": {},
          "execution_count": 200
        }
      ]
    },
    {
      "cell_type": "markdown",
      "source": [
        "* Printing topic words"
      ],
      "metadata": {
        "id": "OygYL002ywDV"
      }
    },
    {
      "cell_type": "code",
      "source": [
        "# Extract top words for each topic\n",
        "top_words_by_topic = []\n",
        "for k in range(mdl.k):\n",
        "    topic_words = [word for word, prob in mdl.get_topic_words(k, top_n=num_keywords)]\n",
        "    top_words_by_topic.append(topic_words)\n",
        "\n",
        "\n",
        "# Output the top words for each topic\n",
        "for k, topic_words in enumerate(top_words_by_topic):\n",
        "    print(\"== Topic #{} ==\".format(k))\n",
        "    print(', '.join(topic_words))\n",
        "    print()"
      ],
      "metadata": {
        "colab": {
          "base_uri": "https://localhost:8080/"
        },
        "id": "ZQtQ0wz2y3_K",
        "outputId": "ff1d2cd1-a51c-472a-a959-985aa341021e"
      },
      "execution_count": 201,
      "outputs": [
        {
          "output_type": "stream",
          "name": "stdout",
          "text": [
            "== Topic #0 ==\n",
            "english_language, study, economics, degree_program, business_informatics, business_administration, mathematics, big_data, computer_science, think_analytically, science, data, german_language, technology_forward, automation, manner_quickly, various_customer, comprehend_new, topic_interrelationship, curve\n",
            "\n",
            "== Topic #1 ==\n",
            "technology, software, development, cloud, design, computer_science, java, data, framework, architecture, database, sql, service, english_language, technical, automation, javascript, web, agile, environment\n",
            "\n",
            "== Topic #2 ==\n",
            "data, sap, management, analysis, sql, project, analytical_skill, environment, engineering, team_player, financial, analytics, professional, r, module, python, intelligence, quantitative, implementation, lean\n",
            "\n",
            "== Topic #3 ==\n",
            "technology, environment, team_player, communication, english_language, marketing, verbal, data, management, self_starter, written_oral, crm, work_independently, technical_field, comparable_education, master_degree, technical, innovative_enterprise, proactive, bachelor_degree\n",
            "\n",
            "== Topic #4 ==\n",
            "communication, success, value, engagement, management, software, team_player, engineering, relationship, lead, leadership, practice, service, english_language, transformation, successfully, posse, organization, key, saas\n",
            "\n",
            "== Topic #5 ==\n",
            "team_player, technology, project, data, management, environment, development, communication, analytical_skill, people, passion, digital, value, agile, problem, marketing, creative, way, master_degree, innovation\n",
            "\n",
            "== Topic #6 ==\n",
            "organization, sap, different_level, project_management, effective_communication, environment, bachelor_degree, team_player, management, english_language, engineering, information_system, working_global, environment_virtual, ability_translate, agile_devops, functional_area, related_discipline, using_design, information_risk\n",
            "\n",
            "== Topic #7 ==\n",
            "management, communication, environment, team_player, technical, verbal, operation, analytical_skill, bachelor_degree, microsoft_excel, project_management, project, organizational, support, manage, service, attention_detail, organization, effectively, standard\n",
            "\n",
            "== Topic #8 ==\n",
            "english_language, master_degree, french, communication, dutch, management, science, engineering, team_player, analytical_skill, bachelor_degree, professional, asset, verbal, proactive, finance, computer_science, academic, fluency, technology\n",
            "\n",
            "== Topic #9 ==\n",
            "english_language, german_language, management, project, communication, professional, international, project_management, team_player, economics, analytical_skill, business_administration, study, computer_science, development, language, business_informatics, education, university_degree, logistics\n",
            "\n",
            "== Topic #10 ==\n",
            "english_language, executive, partner, service, proven_track, business_acumen, spoken, market, c_level, relationship, minimum_year, integrity, growth, environment, plan, professional, successful, write, idea_effectively, record\n",
            "\n"
          ]
        }
      ]
    },
    {
      "cell_type": "markdown",
      "source": [
        "### 6.1.2 Topic distribution over time (DTM)"
      ],
      "metadata": {
        "id": "X-r96KxPzIpF"
      }
    },
    {
      "cell_type": "markdown",
      "source": [
        "* Extract average topic distribution by year"
      ],
      "metadata": {
        "id": "HUqFP7x4z9pM"
      }
    },
    {
      "cell_type": "code",
      "source": [
        "# Extract topic distribution for all documents\n",
        "topic_distributions_dtm = [list(doc.get_topic_dist()) for doc in dtmdl.docs]\n",
        "\n",
        "# Extract average topic distribution by year\n",
        "topic_distributions_by_year_dtm = calculate_topic_distributions_average(topic_distributions_dtm, time_slices)"
      ],
      "metadata": {
        "id": "vIFAJYo_6Ou1"
      },
      "execution_count": 202,
      "outputs": []
    },
    {
      "cell_type": "markdown",
      "source": [
        "* Visualisation of topic distribution over time"
      ],
      "metadata": {
        "id": "EnGhZFyq0LWQ"
      }
    },
    {
      "cell_type": "code",
      "source": [
        "import matplotlib.pyplot as plt\n",
        "import ipywidgets as widgets\n",
        "from ipywidgets import interact\n",
        "\n",
        "# Extracting time slices and average values\n",
        "years = list(topic_distributions_by_year_dtm.keys())\n",
        "average_values = [topic_distributions_by_year_dtm[key] for key in years]\n",
        "\n",
        "# Converting average values into a list per topic\n",
        "average_values = list(zip(*average_values))\n",
        "\n",
        "# Creating a multi-select list for topics\n",
        "topic_multiselect = widgets.SelectMultiple(\n",
        "    options=[(f'Topic {i}', i) for i, _ in enumerate(average_values)],\n",
        "    value=list(range(len(average_values))),  # Select all topics by default\n",
        "    description='Topics:'\n",
        ")\n",
        "\n",
        "def plot_topic_distribution(selected_topics):\n",
        "    plt.figure(figsize=(10, 5))\n",
        "\n",
        "    # Colors\n",
        "    color_palette = sns.color_palette(\"husl\", len(selected_topics))\n",
        "\n",
        "    for i, selected_topic in enumerate(selected_topics):\n",
        "        # Create a plot for each selected topic\n",
        "        topic_values = average_values[selected_topic]\n",
        "        plt.plot(years, topic_values, label=f'Topic {selected_topic}', color=color_palette[i])  # Plot the topic's average values over the years\n",
        "\n",
        "    plt.xlabel('Year')\n",
        "    plt.ylabel('Probability')\n",
        "    plt.legend()\n",
        "    plt.grid(True)\n",
        "\n",
        "    # Setting x-axis ticks only for full years\n",
        "    plt.xticks(years)\n",
        "\n",
        "    plt.show()\n",
        "\n",
        "# Linking the multi-select list to the plot function\n",
        "interact(plot_topic_distribution, selected_topics=topic_multiselect)"
      ],
      "metadata": {
        "colab": {
          "base_uri": "https://localhost:8080/",
          "height": 576,
          "referenced_widgets": [
            "680a914c5fce42dfa40c41752c91cd5a",
            "16db4a3a88f4459db18e3e03f2f2445c",
            "28569a24d465470496c63a5ef0735dcf",
            "ff20a0638f4c4438a7c2cc1e4d5660f1",
            "cdfb8c7080c04e33a568b9f71abdc235",
            "4b4026b908eb41fa803a1a41ba9b0224",
            "ffb003c55d7a46379a2d998e057930fe"
          ]
        },
        "id": "Mvq5M7Ny0LjC",
        "outputId": "7b50c7f6-eb56-4ac7-b43d-ee1b9a7c232d"
      },
      "execution_count": 227,
      "outputs": [
        {
          "output_type": "display_data",
          "data": {
            "text/plain": [
              "interactive(children=(SelectMultiple(description='Topics:', index=(0, 1, 2, 3, 4, 5, 6, 7, 8, 9, 10), options=…"
            ],
            "application/vnd.jupyter.widget-view+json": {
              "version_major": 2,
              "version_minor": 0,
              "model_id": "680a914c5fce42dfa40c41752c91cd5a"
            }
          },
          "metadata": {}
        },
        {
          "output_type": "execute_result",
          "data": {
            "text/plain": [
              "<function __main__.plot_topic_distribution(selected_topics)>"
            ]
          },
          "metadata": {},
          "execution_count": 227
        }
      ]
    },
    {
      "cell_type": "markdown",
      "source": [
        "### 6.1.3 Model Evaluation"
      ],
      "metadata": {
        "id": "lJlntDXC3Sxv"
      }
    },
    {
      "cell_type": "markdown",
      "source": [
        "* Calculate coherence using various coherence measures"
      ],
      "metadata": {
        "id": "p-bvRUwV3gum"
      }
    },
    {
      "cell_type": "code",
      "source": [
        "# calculate coherence using preset\n",
        "for preset in ('u_mass', 'c_uci', 'c_npmi', 'c_v'):\n",
        "    coh = tp.coherence.Coherence(dtmdl, coherence=preset)\n",
        "    average_coherence = coh.get_score()\n",
        "    coherence_per_topic = [coh.get_score(topic_id=k, timepoint=5) for k in range(dtmdl.k)]\n",
        "    print('==== Coherence : {} ===='.format(preset))\n",
        "    print('Average:', average_coherence, '\\nPer Topic:', coherence_per_topic)\n",
        "    print()"
      ],
      "metadata": {
        "colab": {
          "base_uri": "https://localhost:8080/"
        },
        "id": "43apL4NfFD_3",
        "outputId": "3e10add8-d17f-46dd-af94-d8ae82da054b"
      },
      "execution_count": 204,
      "outputs": [
        {
          "output_type": "stream",
          "name": "stdout",
          "text": [
            "==== Coherence : u_mass ====\n",
            "Average: -1.146518957644421 \n",
            "Per Topic: [-1.4119993507661641, -1.3611972281243847, -1.084691725463271, -1.11261585631398, -1.1493941537136538, -1.1885774651649839, -1.1344252062378664, -1.2010190437159183, -1.1499529609510188, -1.0914644799533009, -1.1856878448170087]\n",
            "\n",
            "==== Coherence : c_uci ====\n",
            "Average: -0.09221796398748457 \n",
            "Per Topic: [-0.1755119439456555, -0.16916129813962075, -0.12423326987756396, -0.12490218711371666, -0.09199454376542723, -0.025485312155151967, -0.1390188052113343, -0.022265349669713493, -0.16127172149570201, -0.1299026679047759, -0.20518880043233664]\n",
            "\n",
            "==== Coherence : c_npmi ====\n",
            "Average: -0.009172541751590834 \n",
            "Per Topic: [-0.005702471601876351, -0.022189560940683348, -0.015842705016315198, -0.018779257304218124, -0.011982872803115005, 0.007473687607299495, -0.0163168076178352, 0.004489349287063259, -0.02122135068698391, -0.01355118834072803, -0.024037205856828756]\n",
            "\n",
            "==== Coherence : c_v ====\n",
            "Average: 0.4271405852928927 \n",
            "Per Topic: [0.37551107406616213, 0.41677751690149306, 0.46442191749811174, 0.5126250714063645, 0.4633312068879604, 0.41513290219008925, 0.43918457329273225, 0.4438840068876743, 0.41550261676311495, 0.4016395501792431, 0.41406348049640657]\n",
            "\n"
          ]
        }
      ]
    },
    {
      "cell_type": "markdown",
      "source": [
        "* Calculate coherence for different number of topics using various coherence measures, can be helpful to select the number of topics"
      ],
      "metadata": {
        "id": "Iyn3z_ykcWzy"
      }
    },
    {
      "cell_type": "code",
      "source": [
        "import tomotopy as tp\n",
        "if calculate_coherence:\n",
        "  # Lists for storing coherence\n",
        "  dtm_coherence_values_cv = []\n",
        "  dtm_coherence_values_u_mass = []\n",
        "  dtm_coherence_values_c_uci = []\n",
        "  dtm_coherence_values_c_npmi = []\n",
        "\n",
        "\n",
        "  for num_topics_coherence in range(2, 30, 1):\n",
        "\n",
        "      # Create DTM model\n",
        "      dtmdl_for_coherence = tp.DTModel(k=num_topics_coherence, t=len(docs_by_year), min_cf=min_cf, min_df=min_df, seed=seed)\n",
        "\n",
        "      # Starting timepoint\n",
        "      timepoint = 0\n",
        "\n",
        "      # Iterate through the dictionary and add documents for each timepoint\n",
        "      for year in docs_by_year:\n",
        "          add_documents_for_timepoint(dtmdl_for_coherence, timepoint, docs_by_year[year])\n",
        "          timepoint += 1\n",
        "\n",
        "      # Train the model\n",
        "      dtmdl_for_coherence.train(1000)\n",
        "\n",
        "      # Calculation of coherence with the u_mass coherence model\n",
        "      coh = tp.coherence.Coherence(dtmdl_for_coherence, coherence='u_mass')\n",
        "      dtm_coherence_u_mass = coh.get_score()\n",
        "      dtm_coherence_values_u_mass.append(dtm_coherence_u_mass)\n",
        "\n",
        "      # Calculation of coherence with the c_npmi coherence model\n",
        "      coh = tp.coherence.Coherence(dtmdl_for_coherence, coherence='c_uci')\n",
        "      dtm_coherence_c_uci = coh.get_score()\n",
        "      dtm_coherence_values_c_uci.append(dtm_coherence_c_uci)\n",
        "\n",
        "      # Calculation of coherence with the c_npmi coherence model\n",
        "      coh = tp.coherence.Coherence(dtmdl_for_coherence, coherence='c_npmi')\n",
        "      dtm_coherence_c_npmi = coh.get_score()\n",
        "      dtm_coherence_values_c_npmi.append(dtm_coherence_c_npmi)\n",
        "\n",
        "      # Calculation of coherence with the c_v coherence model\n",
        "      coh = tp.coherence.Coherence(dtmdl_for_coherence, coherence='c_v')\n",
        "      dtm_coherence_cv = coh.get_score()\n",
        "      dtm_coherence_values_cv.append(dtm_coherence_cv)"
      ],
      "metadata": {
        "colab": {
          "base_uri": "https://localhost:8080/",
          "height": 280
        },
        "id": "BrKCkrUqHbjG",
        "outputId": "fd977435-b6eb-40bd-e7d9-4115f966b96c"
      },
      "execution_count": 205,
      "outputs": [
        {
          "output_type": "stream",
          "name": "stderr",
          "text": [
            "<ipython-input-205-fcf96d39020e>:24: RuntimeWarning: The training result may differ even with fixed seed if `workers` != 1.\n",
            "  dtmdl_for_coherence.train(1000)\n"
          ]
        },
        {
          "output_type": "error",
          "ename": "KeyboardInterrupt",
          "evalue": "ignored",
          "traceback": [
            "\u001b[0;31m---------------------------------------------------------------------------\u001b[0m",
            "\u001b[0;31mKeyboardInterrupt\u001b[0m                         Traceback (most recent call last)",
            "\u001b[0;32m<ipython-input-205-fcf96d39020e>\u001b[0m in \u001b[0;36m<cell line: 2>\u001b[0;34m()\u001b[0m\n\u001b[1;32m     22\u001b[0m \u001b[0;34m\u001b[0m\u001b[0m\n\u001b[1;32m     23\u001b[0m       \u001b[0;31m# Train the model\u001b[0m\u001b[0;34m\u001b[0m\u001b[0;34m\u001b[0m\u001b[0m\n\u001b[0;32m---> 24\u001b[0;31m       \u001b[0mdtmdl_for_coherence\u001b[0m\u001b[0;34m.\u001b[0m\u001b[0mtrain\u001b[0m\u001b[0;34m(\u001b[0m\u001b[0;36m1000\u001b[0m\u001b[0;34m)\u001b[0m\u001b[0;34m\u001b[0m\u001b[0;34m\u001b[0m\u001b[0m\n\u001b[0m\u001b[1;32m     25\u001b[0m \u001b[0;34m\u001b[0m\u001b[0m\n\u001b[1;32m     26\u001b[0m       \u001b[0;31m# Calculation of coherence with the u_mass coherence model\u001b[0m\u001b[0;34m\u001b[0m\u001b[0;34m\u001b[0m\u001b[0m\n",
            "\u001b[0;31mKeyboardInterrupt\u001b[0m: "
          ]
        }
      ]
    },
    {
      "cell_type": "markdown",
      "source": [
        "* Visualisation of coherence for different number of topics using various coherence measures, can be helpful to select the number of topics"
      ],
      "metadata": {
        "id": "Nkf6jAkvcOMx"
      }
    },
    {
      "cell_type": "code",
      "source": [
        "if calculate_coherence:\n",
        "  plot_coherence_scores(dtm_coherence_values_cv, dtm_coherence_values_u_mass, dtm_coherence_values_c_uci, dtm_coherence_values_c_npmi)"
      ],
      "metadata": {
        "id": "yCIIbwNDb7C_"
      },
      "execution_count": null,
      "outputs": []
    },
    {
      "cell_type": "markdown",
      "source": [
        "### 6.1.4 Save and download the model"
      ],
      "metadata": {
        "id": "JmHAbd3tiZo2"
      }
    },
    {
      "cell_type": "code",
      "source": [
        "from google.colab import files\n",
        "import ipywidgets as widgets\n",
        "from IPython.display import display\n",
        "\n",
        "# Create the path for the saved model file\n",
        "path = 'filtered_by_' + filter_type + '_tomotopy_dtm_' + str(num_topics) + '_topics' + '.bin'\n",
        "\n",
        "# Save the model to a file\n",
        "dtmdl.save(path)\n",
        "\n",
        "# Create a button for downloading the model\n",
        "download_button = widgets.Button(description=\"Download Model\")\n",
        "\n",
        "# Link the download function to the button click event\n",
        "def on_download_button_click(b):\n",
        "    # Download the model file\n",
        "    files.download(path)\n",
        "\n",
        "download_button.on_click(on_download_button_click)\n",
        "\n",
        "# Display the download button\n",
        "display(download_button)"
      ],
      "metadata": {
        "colab": {
          "base_uri": "https://localhost:8080/",
          "height": 49,
          "referenced_widgets": [
            "b277d4ef3d11452f930247af6c0054a2",
            "6f43816f4631411cbf46c33e83e87deb",
            "02d09c6c8f5941f9a985e5b10ad15d26"
          ]
        },
        "id": "5ljOdJleiZI_",
        "outputId": "41ccc8cc-d250-4061-cfd0-52fa48563bac"
      },
      "execution_count": 238,
      "outputs": [
        {
          "output_type": "display_data",
          "data": {
            "text/plain": [
              "Button(description='Download Model', style=ButtonStyle())"
            ],
            "application/vnd.jupyter.widget-view+json": {
              "version_major": 2,
              "version_minor": 0,
              "model_id": "b277d4ef3d11452f930247af6c0054a2"
            }
          },
          "metadata": {}
        },
        {
          "output_type": "display_data",
          "data": {
            "text/plain": [
              "<IPython.core.display.Javascript object>"
            ],
            "application/javascript": [
              "\n",
              "    async function download(id, filename, size) {\n",
              "      if (!google.colab.kernel.accessAllowed) {\n",
              "        return;\n",
              "      }\n",
              "      const div = document.createElement('div');\n",
              "      const label = document.createElement('label');\n",
              "      label.textContent = `Downloading \"${filename}\": `;\n",
              "      div.appendChild(label);\n",
              "      const progress = document.createElement('progress');\n",
              "      progress.max = size;\n",
              "      div.appendChild(progress);\n",
              "      document.body.appendChild(div);\n",
              "\n",
              "      const buffers = [];\n",
              "      let downloaded = 0;\n",
              "\n",
              "      const channel = await google.colab.kernel.comms.open(id);\n",
              "      // Send a message to notify the kernel that we're ready.\n",
              "      channel.send({})\n",
              "\n",
              "      for await (const message of channel.messages) {\n",
              "        // Send a message to notify the kernel that we're ready.\n",
              "        channel.send({})\n",
              "        if (message.buffers) {\n",
              "          for (const buffer of message.buffers) {\n",
              "            buffers.push(buffer);\n",
              "            downloaded += buffer.byteLength;\n",
              "            progress.value = downloaded;\n",
              "          }\n",
              "        }\n",
              "      }\n",
              "      const blob = new Blob(buffers, {type: 'application/binary'});\n",
              "      const a = document.createElement('a');\n",
              "      a.href = window.URL.createObjectURL(blob);\n",
              "      a.download = filename;\n",
              "      div.appendChild(a);\n",
              "      a.click();\n",
              "      div.remove();\n",
              "    }\n",
              "  "
            ]
          },
          "metadata": {}
        },
        {
          "output_type": "display_data",
          "data": {
            "text/plain": [
              "<IPython.core.display.Javascript object>"
            ],
            "application/javascript": [
              "download(\"download_cca78deb-c0dc-4517-9f9d-e4e27285b26f\", \"filtered_by_description_tomotopy_dtm_11_topics.bin\", 2549277)"
            ]
          },
          "metadata": {}
        }
      ]
    },
    {
      "cell_type": "markdown",
      "source": [
        "# 5. Other Frameworks (not used by default)\n"
      ],
      "metadata": {
        "id": "oy8LSg7Zr0Nl"
      }
    },
    {
      "cell_type": "markdown",
      "source": [
        "### 5.3 LDA Topic Modeling (gensim)"
      ],
      "metadata": {
        "id": "c8Oo0OG3th_m"
      }
    },
    {
      "cell_type": "code",
      "execution_count": null,
      "metadata": {
        "id": "il__GMb3nDsX"
      },
      "outputs": [],
      "source": [
        "# get topic distribution for each document\n",
        "topic_distributions = []\n",
        "for i in range(sum(time_slices)):\n",
        "# get the distribution of topics over document\n",
        "  distribution = ldaseq.doc_topics(i)\n",
        "  # save main topic\n",
        "  topic_distributions.append(distribution)\n",
        "\n",
        "'''\n",
        "# Arrays in eine NumPy-Matrix konvertieren\n",
        "matrix = np.array(topic_distribution)\n",
        "\n",
        "# Den Durchschnitt für jede Spalte berechnen\n",
        "column_means = np.mean(matrix, axis=0)\n",
        "\n",
        "# Das Array mit den Durchschnittswerten\n",
        "print(column_means)\n",
        "'''"
      ]
    },
    {
      "cell_type": "code",
      "execution_count": null,
      "metadata": {
        "id": "I_gFadSco9zu"
      },
      "outputs": [],
      "source": [
        "import numpy as np\n",
        "\n",
        "def calculate_topic_distributions_average(topic_distributions, time_slices):\n",
        "    result_dict = {}\n",
        "\n",
        "    # Berechne den Durchschnitt für jede Zeitscheibe\n",
        "    for i, num_docs in enumerate(time_slices):\n",
        "        start_idx = sum(time_slices[:i])  # Index des ersten Dokuments in dieser Zeitscheibe\n",
        "        end_idx = start_idx + num_docs    # Index des letzten Dokuments in dieser Zeitscheibe\n",
        "\n",
        "        # Ausschneiden der relevanten Dokumente aus topic_distributions\n",
        "        selected_docs = topic_distributions[start_idx:end_idx]\n",
        "\n",
        "        # Arrays in eine NumPy-Matrix konvertieren\n",
        "        matrix = np.array(selected_docs)\n",
        "\n",
        "        # Den Durchschnitt für jede Spalte berechnen\n",
        "        column_means = np.mean(matrix, axis=0)\n",
        "\n",
        "        # Das Array mit den Durchschnittswerten in das Dictionary einfügen\n",
        "        result_dict[years_list[i]] = column_means\n",
        "\n",
        "    return result_dict\n",
        "\n",
        "\n",
        "# Aufruf der Funktion\n",
        "topic_distributions_by_year = calculate_topic_distributions_average(topic_distributions, time_slices)"
      ]
    },
    {
      "cell_type": "code",
      "execution_count": null,
      "metadata": {
        "id": "azkP_0ZJGoyl"
      },
      "outputs": [],
      "source": [
        "print(docs_by_year.keys())"
      ]
    },
    {
      "cell_type": "code",
      "execution_count": null,
      "metadata": {
        "id": "qsynHnPDGRm1"
      },
      "outputs": [],
      "source": [
        "print(topic_distributions_by_year)"
      ]
    },
    {
      "cell_type": "code",
      "execution_count": null,
      "metadata": {
        "id": "0oxL8jEHvjEL"
      },
      "outputs": [],
      "source": [
        "import matplotlib.pyplot as plt\n",
        "# Extrahieren der Zeitscheiben und Durchschnittswerte\n",
        "years = list(topic_distributions_by_year.keys())\n",
        "average_values = [topic_distributions_by_year[key] for key in years]\n",
        "\n",
        "# Konvertieren der Durchschnittswerte in eine Liste pro Topic\n",
        "average_values = list(zip(*average_values))\n",
        "\n",
        "\n",
        "fig = plt.figure(figsize=(10,5))\n",
        "fig, ax = plt.subplots(figsize=(10,5))\n",
        "\n",
        "\n",
        "# Erstellen des Diagramms\n",
        "for i, topic_values in enumerate(average_values):\n",
        "    plt.plot(years, topic_values, label=f'Topic {i+1}')\n",
        "\n",
        "plt.xlabel('Jahr')\n",
        "plt.ylabel('Prohability')\n",
        "#plt.title('Topic Distribution Over Time Slices')\n",
        "plt.legend()\n",
        "plt.grid(True)\n",
        "\n",
        "# Festlegen der x-Achsenticks nur für volle Jahre\n",
        "plt.xticks(range(min(years_list), max(years_list) + 1, 1))  # Ändern Sie die Schrittweite auf 1, um jedes Jahr anzuzeigen\n",
        "\n",
        "# Anzeigen des Diagramms\n",
        "plt.show()\n"
      ]
    },
    {
      "cell_type": "code",
      "execution_count": null,
      "metadata": {
        "id": "W-RaSjBkv3Kb"
      },
      "outputs": [],
      "source": [
        "ldaseq.print_topics()\n",
        "topics_dtm = ldaseq.dtm_coherence(time=2)\n",
        "print(ldaseq.dtm_coherence(time=2))"
      ]
    },
    {
      "cell_type": "code",
      "execution_count": null,
      "metadata": {
        "id": "i9Cn_Fmn0t8k"
      },
      "outputs": [],
      "source": [
        "ldaseq.print_topics()"
      ]
    },
    {
      "cell_type": "code",
      "execution_count": null,
      "metadata": {
        "id": "IsLgVEAciAUP"
      },
      "outputs": [],
      "source": [
        "for i, count in enumerate(time_slice):\n",
        "    topic_probs = ldaseq.doc_topics(i)  # Wahrscheinlichkeiten für jedes Thema im Zeitabschnitt i\n",
        "    avg_probs = [sum(topic_probs[:, j]) / count for j in range(5)]\n",
        "\n",
        "    print(f\"Time Slice {i}:\")"
      ]
    },
    {
      "cell_type": "markdown",
      "source": [
        "Tomotopy"
      ],
      "metadata": {
        "id": "H_AiA4QJspko"
      }
    },
    {
      "cell_type": "markdown",
      "source": [
        "**Evaluation**"
      ],
      "metadata": {
        "id": "hqgHzBOZ2w3K"
      }
    },
    {
      "cell_type": "code",
      "source": [
        "# Lists for storing coherence\n",
        "coherence_values_cv = []\n",
        "coherence_values_u_mass = []\n",
        "coherence_values_c_uci = []\n",
        "coherence = []"
      ],
      "metadata": {
        "id": "BJn0aA8R3BtH"
      },
      "execution_count": null,
      "outputs": []
    },
    {
      "cell_type": "code",
      "source": [
        "print(len(docs_by_year))"
      ],
      "metadata": {
        "id": "jXCUTrBsuRgB"
      },
      "execution_count": null,
      "outputs": []
    },
    {
      "cell_type": "markdown",
      "metadata": {
        "id": "OjWPJfgJdGSL"
      },
      "source": [
        "# 4. LDA Topic Modeling (gensim) (deactived by default)\n"
      ]
    },
    {
      "cell_type": "markdown",
      "metadata": {
        "id": "yoUmejG8OhWo"
      },
      "source": [
        "4.1 Setting model parameter"
      ]
    },
    {
      "cell_type": "code",
      "execution_count": null,
      "metadata": {
        "id": "Zhl52eNTOhrd"
      },
      "outputs": [],
      "source": [
        "import numpy as np\n",
        "# Set additional training parameters for gensim\n",
        "chunksize = 5000 # Sets the number of documents used in each chunk during training to avoid memory issues\n",
        "passes = 20 # Sets the number of training passes to improve the model accuracy\n",
        "iterations = 400 # Sets the maximum number of iterations during the inference process for each document, which determines the accuracy of the model"
      ]
    },
    {
      "cell_type": "markdown",
      "metadata": {
        "id": "syI-8TjpiAgh"
      },
      "source": [
        "4.2 Train static LDA model (all data)\n",
        "\n",
        "\n",
        "*   used gensim for lda topic modeling, bag of words and tfidf can be selected\n"
      ]
    },
    {
      "cell_type": "code",
      "execution_count": null,
      "metadata": {
        "id": "Od7RwluT8I_m"
      },
      "outputs": [],
      "source": [
        "!pip install gensim --quiet\n",
        "from gensim.models import LdaModel\n",
        "from gensim import corpora, models\n",
        "from gensim.corpora import Dictionary\n",
        "from gensim.models import TfidfModel\n",
        "\n",
        "# Create dictionary representation of the documents\n",
        "dictionary = Dictionary(filtered_docs_all)\n",
        "\n",
        "# Remove words that appear in fewer than 10 documents or in more than 80% of the documents (deactivated by default)\n",
        "#dictionary.filter_extremes(no_below=10, no_above=0.8)\n",
        "\n",
        "# Option #1: Bag-of-words representation of the documents\n",
        "corpus = [dictionary.doc2bow(doc) for doc in filtered_docs_all]\n",
        "\n",
        "# Option #2: TF-IDF representation of the documents (deactivated by default)\n",
        "#tfidf = TfidfModel(corpus)\n",
        "#corpus = tfidf[corpus]\n",
        "\n",
        "# Make an index to word dictionary\n",
        "temp = dictionary[0]  # Used only to \"load\" the dictionary\n",
        "id2word = dictionary.id2token\n",
        "\n",
        "# Lda model\n",
        "model = LdaModel(\n",
        "    corpus=corpus,\n",
        "    id2word=id2word,\n",
        "    chunksize=chunksize,\n",
        "    alpha='auto',\n",
        "    eta='auto',\n",
        "    iterations=iterations,\n",
        "    num_topics=num_topics,\n",
        "    passes=passes,\n",
        "    random_state=seed\n",
        ")\n",
        "\n",
        "# Calculation of Coherence\n",
        "from gensim.models.coherencemodel import CoherenceModel\n",
        "coherence_model_lda = CoherenceModel(model=model, texts=filtered_docs_all,dictionary=dictionary, coherence='c_v')\n",
        "coherence_lda = coherence_model_lda.get_coherence()\n",
        "print('Coherence (c_v):', coherence_lda)\n",
        "\n",
        "# Calculation of Perplexity\n",
        "perplexity_lda = model.log_perplexity(corpus)\n",
        "print('Perplexity:', perplexity_lda)"
      ]
    },
    {
      "cell_type": "markdown",
      "metadata": {
        "id": "xe2W9AnDPOV5"
      },
      "source": [
        "4.3 Display topics and topic keywords"
      ]
    },
    {
      "cell_type": "code",
      "execution_count": null,
      "metadata": {
        "id": "hoi6PSQnGTgQ"
      },
      "outputs": [],
      "source": [
        "import pandas as pd\n",
        "from IPython.display import display, HTML\n",
        "\n",
        "# Extract the top keywords for each topic\n",
        "topics = model.show_topics(num_topics=num_topics, num_words=num_keywords, formatted=False)\n",
        "\n",
        "# Create a table with the topics and keywords\n",
        "table_data = []\n",
        "for topic_id, topic_words in topics:\n",
        "    keywords = [word for word, _ in topic_words]\n",
        "    table_data.append([f\"Topic {topic_id}\", \", \".join(keywords)])\n",
        "\n",
        "# Sort the table by topic index\n",
        "table_data.sort(key=lambda x: int(x[0].split()[1]))\n",
        "\n",
        "# Create the dataframex\n",
        "df = pd.DataFrame(table_data, columns=[\"Topic\", \"Keywords\"])\n",
        "\n",
        "# Set the width of the \"Keywords\" column\n",
        "pd.set_option(\"display.max_colwidth\", 250)\n",
        "\n",
        "# Display table\n",
        "display(df)\n",
        "\n",
        "# Print topics with probabilities\n",
        "#for idx, topic in model.print_topics(-1):\n",
        "    #print(f'Topic: {idx} \\nWords: {topic}\\n')"
      ]
    },
    {
      "cell_type": "markdown",
      "metadata": {
        "id": "XUjvj6M94drW"
      },
      "source": [
        "4.4 Export topic visualisation with pyldavis (all data)"
      ]
    },
    {
      "cell_type": "code",
      "execution_count": null,
      "metadata": {
        "id": "AfrtwCrGcPbn"
      },
      "outputs": [],
      "source": [
        "# Visualization of topics\n",
        "visualization_with_vis(model, corpus, dictionary,'overall')"
      ]
    },
    {
      "cell_type": "markdown",
      "metadata": {
        "id": "oG_YQkiNPkEu"
      },
      "source": [
        "4.5 Calculate token frequencies (token counted only once per doc, all data)"
      ]
    },
    {
      "cell_type": "code",
      "execution_count": null,
      "metadata": {
        "id": "2H9Va9cNPhga"
      },
      "outputs": [],
      "source": [
        "from gensim.corpora import Dictionary\n",
        "from gensim.models import TfidfModel\n",
        "\n",
        "# Create dictionary representation of the documents\n",
        "dictionary = Dictionary(filtered_docs_all)\n",
        "\n",
        "# Extract the frequency of each token from the corpus\n",
        "token_frequencies = {}\n",
        "for doc in corpus:\n",
        "    tokens_in_doc = set()\n",
        "    for token_id, freq in doc:\n",
        "        token = dictionary[token_id]\n",
        "        if token not in tokens_in_doc:\n",
        "            tokens_in_doc.add(token)\n",
        "            if token in token_frequencies:\n",
        "                token_frequencies[token] += 1\n",
        "            else:\n",
        "                token_frequencies[token] = 1\n",
        "\n",
        "# Sort the tokens by descending frequency\n",
        "sorted_tokens = sorted(token_frequencies.items(), key=lambda x: x[1], reverse=True)"
      ]
    },
    {
      "cell_type": "markdown",
      "metadata": {
        "id": "gw2YMxDiOy18"
      },
      "source": [
        "4.7 Calculate the probabilities of topics over years and visualize them"
      ]
    },
    {
      "cell_type": "markdown",
      "metadata": {
        "id": "uXc-CGDsNgXB"
      },
      "source": [
        "\n",
        "\n",
        "*   Calculate probabilities\n",
        "\n",
        "\n"
      ]
    },
    {
      "cell_type": "code",
      "execution_count": null,
      "metadata": {
        "id": "b8ScMx8cO0a9"
      },
      "outputs": [],
      "source": [
        "import numpy as np\n",
        "# List of years\n",
        "years = docs_by_year.keys()\n",
        "\n",
        "# Save topic distribution for each year\n",
        "topic_distributions = {}\n",
        "\n",
        "# Extract topic distribution for each year\n",
        "for year in years:\n",
        "    documents = docs_by_year[year]  # List of documents for the current year\n",
        "\n",
        "    # Convert documents to BoW format for the LDA model\n",
        "    year_corpus = [dictionary.doc2bow(document) for document in documents]\n",
        "\n",
        "    # Extract topic distribution for each document of the current year\n",
        "    topic_distribution_year = []\n",
        "    for document in year_corpus:\n",
        "        topic_probs = np.zeros(model.num_topics)\n",
        "        topic_distribution = model.get_document_topics(document)\n",
        "        for topic, prob in topic_distribution:\n",
        "            topic_probs[topic] = prob\n",
        "        topic_distribution_year.append(topic_probs)\n",
        "\n",
        "    topic_distributions[year] = topic_distribution_year\n",
        "\n",
        "# Create an array to store influence scores for each year and topic\n",
        "influence_scores = np.zeros((len(years), model.num_topics))\n",
        "for i, year in enumerate(years):\n",
        "    for topic in range(model.num_topics):\n",
        "        topic_probs = np.array(topic_distributions[year])[:, topic]\n",
        "        influence_scores[i, topic] = np.mean(topic_probs)"
      ]
    },
    {
      "cell_type": "markdown",
      "metadata": {
        "id": "1EJNCrTBxKs8"
      },
      "source": [
        "*   Visualize the topic probabilities over the years\n",
        "  *   Each subplot represents a topic and contains a line plot showing the probability scores of the topic over the years\n",
        "\n"
      ]
    },
    {
      "cell_type": "code",
      "execution_count": null,
      "metadata": {
        "id": "fNRtowAS7Ppg"
      },
      "outputs": [],
      "source": [
        "# Determine the number of rows and columns for the subplots\n",
        "num_rows = int(np.ceil(model.num_topics / 3))  # Number of rows\n",
        "num_cols = min(3, model.num_topics)  # Number of columns (maximum 3)\n",
        "\n",
        "# Set the size of the overall plot\n",
        "fig, axes = plt.subplots(num_rows, num_cols, figsize=(12, 3*num_rows), sharey=True)\n",
        "\n",
        "# Plot bar charts for each topic\n",
        "for topic in range(model.num_topics):\n",
        "    ax = axes[topic // num_cols, topic % num_cols]  # Select current axis\n",
        "\n",
        "    # Plot lines for each year\n",
        "    ax.plot(years, influence_scores[:, topic], label=f\"Topic {topic}\", color=color)\n",
        "\n",
        "\n",
        "    # Extract the top 10 words of the topic\n",
        "    top_word_ids = [word_id for word_id, _ in model.get_topic_terms(topic, topn=10)]\n",
        "    top_words = [dictionary[word_id] for word_id in top_word_ids]\n",
        "    top_words_str = ', '.join(top_words)\n",
        "\n",
        "    ax.set_xlabel(\"Year\")\n",
        "    ax.set_ylabel(\"Probability\")\n",
        "    ax.set_title(f\"Topic {topic}\")\n",
        "    ax.legend()\n",
        "\n",
        "    # Add the top 10 words of the topic as text (only once for the topic)\n",
        "    ax.text(list(years)[-1], np.max(influence_scores), '\\n'.join(top_words_str.split()), ha='left', va='center')\n",
        "\n",
        "# Remove extra axes if the number of topics is not divisible by 3\n",
        "if model.num_topics % 3 != 0:\n",
        "    for i in range(model.num_topics, num_rows * num_cols):\n",
        "        fig.delaxes(axes.flatten()[i])\n",
        "\n",
        "plt.tight_layout()\n",
        "plt.show()"
      ]
    },
    {
      "cell_type": "markdown",
      "metadata": {
        "id": "QH_1EMWJi7bX"
      },
      "source": [
        "4.8 Train static LDA model & export token frequencies (by year)"
      ]
    },
    {
      "cell_type": "code",
      "execution_count": null,
      "metadata": {
        "id": "Lit-nXN9Bic2"
      },
      "outputs": [],
      "source": [
        "import warnings\n",
        "from gensim.models import LdaModel\n",
        "from gensim.models.phrases import Phrases\n",
        "\n",
        "# Ignore warning caused by gensim library, improve readability\n",
        "warnings.filterwarnings(\"ignore\", category=DeprecationWarning)\n",
        "\n",
        "# Analysis based on year\n",
        "for year in docs_by_year:\n",
        "\n",
        "  # User info\n",
        "  print('Analysing job advertisement data of ' + str(year) + ' (' + str(len(docs_by_year[year])) + ')...')\n",
        "\n",
        "  docs = docs_by_year[year]\n",
        "\n",
        "  # Create a dictionary representation of the documents\n",
        "  dictionary = Dictionary(filtered_docs_all)\n",
        "\n",
        "  # Remove words that appear in fewer than 10 documents or in more than 80% of the documents (deactivated by default)\n",
        "  #dictionary.filter_extremes(no_below=10, no_above=0.8)\n",
        "\n",
        "  # Bag-of-words representation of the documents\n",
        "  corpus = [dictionary.doc2bow(doc) for doc in docs]\n",
        "\n",
        "\n",
        "  # Make an index to word dictionary.\n",
        "  temp = dictionary[0]  # Used only to \"load\" the dictionary\n",
        "  id2word = dictionary.id2token\n",
        "\n",
        "  # Train lda model\n",
        "  lda_model = LdaModel(\n",
        "      corpus=corpus,\n",
        "      id2word=id2word,\n",
        "      chunksize=chunksize,\n",
        "      alpha='auto',\n",
        "      eta='auto',\n",
        "      iterations=iterations,\n",
        "      num_topics=num_topics,\n",
        "      passes=passes\n",
        "  )\n",
        "\n",
        "  # Print topics\n",
        "  for idx, topic in model.print_topics(-1):\n",
        "      print(f'Topic: {idx} \\nWords: {topic}\\n')\n",
        "\n",
        "\n",
        "  # Extract the frequency of each token from the corpus (only counted once per doc)\n",
        "  token_frequencies = {}\n",
        "  for doc in corpus:\n",
        "      tokens_in_doc = []\n",
        "      tokens_in_doc = set()\n",
        "      for token_id, freq in doc:\n",
        "          token = dictionary[token_id]\n",
        "          if token not in tokens_in_doc:\n",
        "              tokens_in_doc.add(token)\n",
        "              if token in token_frequencies:\n",
        "                  token_frequencies[token] += 1\n",
        "              else:\n",
        "                  token_frequencies[token] = 1\n",
        "\n",
        "\n",
        "  # Sort the tokens by descending frequency\n",
        "  sorted_tokens = []\n",
        "  sorted_tokens = sorted(token_frequencies.items(), key=lambda x: x[1], reverse=True)\n",
        "\n",
        "  # Add model to lda_model list\n",
        "  lda_models[year] = lda_model\n",
        "  token_freqs[year] = sorted_tokens\n",
        "\n",
        "  # Topic Visualisation\n",
        "  visualization_with_vis(lda_model, corpus, dictionary, str(year))"
      ]
    },
    {
      "cell_type": "markdown",
      "metadata": {
        "id": "OafRjZgeP3RH"
      },
      "source": [
        "4.9 Print most important tokens per year"
      ]
    },
    {
      "cell_type": "code",
      "execution_count": null,
      "metadata": {
        "id": "LFtyUK3tP38F"
      },
      "outputs": [],
      "source": [
        "from sklearn.feature_extraction.text import TfidfVectorizer\n",
        "\n",
        "# Create dictionary to store skill importance per year\n",
        "skills_importance = {}\n",
        "\n",
        "# Loop over each year and calculate token importance\n",
        "for year in docs_by_year:\n",
        "    skills = []\n",
        "    for doc in docs_by_year[year]:\n",
        "        skills.extend(doc)\n",
        "    tfidf_vectorizer = TfidfVectorizer()\n",
        "    tfidf_scores = tfidf_vectorizer.fit_transform(skills)\n",
        "    importance = dict(zip(tfidf_vectorizer.get_feature_names_out(), tfidf_scores.sum(axis=0).A1))\n",
        "    skills_importance[year] = importance\n",
        "\n",
        "# Output the top 10 tokens per year\n",
        "for year, skills in skills_importance.items():\n",
        "    sorted_skills = sorted(skills.items(), key=lambda x: x[1], reverse=True)[:20]\n",
        "    print(f\"Jahr {year}:\")\n",
        "    for skill, importance in sorted_skills:\n",
        "        print(f\"- {skill}: {importance}\")"
      ]
    },
    {
      "cell_type": "markdown",
      "metadata": {
        "id": "GPoaCTGhjZVJ"
      },
      "source": [
        "4.10 Visualization of static LDA topic modeling"
      ]
    },
    {
      "cell_type": "code",
      "source": [
        "import warnings\n",
        "from gensim.models import LdaModel\n",
        "from gensim.models.phrases import Phrases\n",
        "\n",
        "# Ignore warning caused by gensim library, improve readability\n",
        "warnings.filterwarnings(\"ignore\", category=DeprecationWarning)\n",
        "\n",
        "# Analysis based on year\n",
        "for year in docs_by_year:\n",
        "\n",
        "  docs = docs_by_year[year]\n",
        "\n",
        "  # Create a dictionary representation of the documents\n",
        "  dictionary = Dictionary(docs)\n",
        "\n",
        "  # Bag-of-words representation of the documents\n",
        "  corpus = [dictionary.doc2bow(doc) for doc in docs]\n",
        "\n",
        "  # Extract the frequency of each token from the corpus (only counted once per doc)\n",
        "  token_frequencies = {}\n",
        "  for doc in corpus:\n",
        "      tokens_in_doc = []\n",
        "      tokens_in_doc = set()\n",
        "      for token_id, freq in doc:\n",
        "          token = dictionary[token_id]\n",
        "          if token not in tokens_in_doc:\n",
        "              tokens_in_doc.add(token)\n",
        "              if token in token_frequencies:\n",
        "                  token_frequencies[token] += 1\n",
        "              else:\n",
        "                  token_frequencies[token] = 1\n",
        "\n",
        "\n",
        "  # Sort the tokens by descending frequency\n",
        "  sorted_tokens = []\n",
        "  sorted_tokens = sorted(token_frequencies.items(), key=lambda x: x[1], reverse=True)\n",
        "  token_freqs[year] = sorted_tokens"
      ],
      "metadata": {
        "id": "FWbqR9snPMqw"
      },
      "execution_count": null,
      "outputs": []
    },
    {
      "cell_type": "code",
      "source": [
        "print(sorted_tokens)"
      ],
      "metadata": {
        "id": "9ONHnAwJPgEI"
      },
      "execution_count": null,
      "outputs": []
    },
    {
      "cell_type": "markdown",
      "metadata": {
        "id": "Qjhxre79Oste"
      },
      "source": [
        "*   Prepare data for plotting\n",
        "\n"
      ]
    },
    {
      "cell_type": "code",
      "execution_count": null,
      "metadata": {
        "id": "kUKdQYToOxaf"
      },
      "outputs": [],
      "source": [
        "# Create list to store all extracted skills\n",
        "most_mentioned_skills = []\n",
        "for token, freq in token_freqs_overall:\n",
        "  most_mentioned_skills.append(token)\n",
        "\n",
        "# Create dict to store the calculated value by year (in which percentage of advertisements is the skill required)\n",
        "most_mentioned_skills_per_year = {}\n",
        "\n",
        "# Calculate percentage for each skill in each year\n",
        "for skill in most_mentioned_skills:\n",
        "  for year in token_freqs:\n",
        "    value = 0\n",
        "    for term, count in token_freqs[year]:\n",
        "      if skill == term:\n",
        "        value = count/number_of_ads_per_year[year]\n",
        "        break\n",
        "    if skill in most_mentioned_skills_per_year:\n",
        "      most_mentioned_skills_per_year[skill].append(value)\n",
        "    else:\n",
        "      most_mentioned_skills_per_year[skill] = []\n",
        "      most_mentioned_skills_per_year[skill].append(value)"
      ]
    },
    {
      "cell_type": "markdown",
      "metadata": {
        "id": "w84LaFWGQLJu"
      },
      "source": [
        "# 5. Dynamic Topic Modeling (LDA)\n",
        "\n",
        "Implemented with lda_over_time framework. Two differnet LDA models can be used:\n",
        "\n",
        "\n",
        "1.   Temporal LDA Model\n",
        "\n",
        "*   inferior results but significantly lower runtime\n",
        "\n",
        "\n",
        "2.   LDA Seq Model (used by default)\n",
        "\n",
        "\n",
        "  *   better results but significantly higher runtime"
      ]
    },
    {
      "cell_type": "markdown",
      "metadata": {
        "id": "x62aNx0kTMho"
      },
      "source": [
        "5.1 Set number of topics\n",
        "\n",
        "\n"
      ]
    },
    {
      "cell_type": "code",
      "execution_count": null,
      "metadata": {
        "id": "_BPuY6D1TLwa"
      },
      "outputs": [],
      "source": [
        "n_topics = 13"
      ]
    },
    {
      "cell_type": "markdown",
      "metadata": {
        "id": "mjFgLg8EQONm"
      },
      "source": [
        "5.2 Generate timestamp for each document and convert documents"
      ]
    },
    {
      "cell_type": "code",
      "execution_count": null,
      "metadata": {
        "id": "ccWyLMwPQQL8"
      },
      "outputs": [],
      "source": [
        "import pandas as pd\n",
        "\n",
        "timestamps_by_year = []\n",
        "\n",
        "# Generates year-based timestamps for all documents\n",
        "for year, docs in docs_by_year.items():\n",
        "    start_date = pd.Timestamp(year, 1, 1)\n",
        "    end_date = pd.Timestamp(year+1, 1, 1)\n",
        "\n",
        "    timestamps = []\n",
        "    for doc in docs:\n",
        "        timestamp = pd.Timestamp(year=year, month=1, day=1)\n",
        "        timestamps.append(str(year))\n",
        "    timestamps_by_year += (timestamps)\n",
        "\n",
        "# Converts words in lists into a single string, needed for topic over time model\n",
        "docs = [\" \".join(doc) for doc in filtered_docs_all]\n"
      ]
    },
    {
      "cell_type": "markdown",
      "metadata": {
        "id": "9i_fZ30ePlUp"
      },
      "source": [
        "5.3 Install lda-over-time"
      ]
    },
    {
      "cell_type": "code",
      "execution_count": null,
      "metadata": {
        "id": "VrbggKCBPqGL"
      },
      "outputs": [],
      "source": [
        "!pip install lda-over-time --quiet"
      ]
    },
    {
      "cell_type": "markdown",
      "metadata": {
        "id": "uLKJ_rjUQSmV"
      },
      "source": [
        "5.4 Setting up Temporal LDA Model"
      ]
    },
    {
      "cell_type": "code",
      "execution_count": null,
      "metadata": {
        "id": "X_5AfyI3QUtx"
      },
      "outputs": [],
      "source": [
        "from lda_over_time.lda_over_time import LdaOverTime\n",
        "from lda_over_time.models.temporal_lda_model import TemporalLdaModel\n",
        "\n",
        "temporal_lda_model = TemporalLdaModel(\n",
        "    corpus = docs,         # list texts to be analysed\n",
        "    dates = timestamps_by_year,     # dates of each article\n",
        "    date_format = \"%Y\",        # date format is MM/DD/YYYY\n",
        "    freq = \"12M\",                     # frequency of one semester\n",
        "    n_topics = n_topics,                    # we want to get 5 topics\n",
        "    aggregator = \"average\"           # calculate average of topics\n",
        ")"
      ]
    },
    {
      "cell_type": "markdown",
      "metadata": {
        "id": "RhrwYo2MQWml"
      },
      "source": [
        "5.5 Setting up LDA Seq Model (used by default)"
      ]
    },
    {
      "cell_type": "code",
      "execution_count": null,
      "metadata": {
        "id": "NANoD12_QYjD"
      },
      "outputs": [],
      "source": [
        "from lda_over_time.lda_over_time import LdaOverTime\n",
        "from lda_over_time.models.lda_seq_model import LdaSeqModel\n",
        "\n",
        "\n",
        "lda_seq_model = LdaSeqModel(\n",
        "    corpus = docs,         # list texts to be analysed\n",
        "    dates = timestamps_by_year,     # dates of each article\n",
        "    date_format = \"%Y\",        # date format is MM/DD/YYYY\n",
        "    freq = \"12M\",                     # frequency of one semester\n",
        "    n_topics = n_topics,                    # we want to get 5 topics\n",
        ")"
      ]
    },
    {
      "cell_type": "markdown",
      "metadata": {
        "id": "IZcS-qjAQcWx"
      },
      "source": [
        "5.6 Train the dynamic LDA model"
      ]
    },
    {
      "cell_type": "code",
      "execution_count": null,
      "metadata": {
        "id": "3XoaqON4W7Fj"
      },
      "outputs": [],
      "source": [
        "'''\n",
        "# Importieren Sie die erforderliche Funktion\n",
        "from gensim.models import LdaSeqModel\n",
        "from gensim.test.utils import common_corpus\n",
        "\n",
        "# Annahme: Sie haben bereits Ihr Modell erstellt und konfiguriert\n",
        "# Erstellen Sie ein Wörterbuch und eine Korpusrepräsentation\n",
        "dictionary = corpora.Dictionary(filtered_docs_all)\n",
        "corpus = [dictionary.doc2bow(doc) for doc in filtered_docs_all]\n",
        "\n",
        "# Konfigurieren und trainieren Sie das LDA-Modell\n",
        "lda_seq_model = LdaSeqModel(corpus=corpus, id2word=dictionary, time_slice=[2, 4, 3], num_topics=5)\n",
        "\n",
        "# Definieren Sie Ihre Samenwörter\n",
        "seeds = [[\"data\", \"analysis\"], [\"programming\"]]\n",
        "\n",
        "# Fügen Sie die Samenwörter zu Ihrem Modell hinzu\n",
        "lda_seq_model.add_seeds(seeds)\n",
        "\n",
        "# Trainieren Sie das Modell\n",
        "lda_seq_model.train()\n",
        "\n",
        "# Analysieren Sie die Ergebnisse usw.\n",
        "'''"
      ]
    },
    {
      "cell_type": "code",
      "execution_count": null,
      "metadata": {
        "id": "YrgY_5vbQc9z"
      },
      "outputs": [],
      "source": [
        "# Train LDA Over Time model\n",
        "main = LdaOverTime(lda_seq_model)\n",
        "\n",
        "# Load pretrained model (disabled by default)\n",
        "path = '/content/drive/MyDrive/lda_over_time/filter_by_' + filter_type + '_tn_' + str(n_topics)\n",
        "#main = main.load(path)\n",
        "\n",
        "# Print topic keywords for each topic\n",
        "for i in range(n_topics):\n",
        "  print(main.get_topic_words(topic_id=i, timeslice=len(year_dfs), n=15))"
      ]
    },
    {
      "cell_type": "markdown",
      "metadata": {
        "id": "KVKs6XM8sD66"
      },
      "source": [
        "5.7 Rename topics (optional)"
      ]
    },
    {
      "cell_type": "code",
      "execution_count": null,
      "metadata": {
        "id": "fNIbmctQsGAf"
      },
      "outputs": [],
      "source": [
        "# Topic names\n",
        "#topic_names = ['Projekt Management', 'Computer Science & Automation', 'Kommunikation & Sprachen', 'Data Analytics', 'Informatik & analytisches Denken', 'Verwaltung', 'Soft Skills', 'Reisebereitschaft', 'Akademische Bildung', 'Problemlösung & Economics', 'Technische Fähigkeiten', 'Service']\n",
        "\n",
        "# Rename Topics\n",
        "#main.rename_topics(topic_names)\n"
      ]
    },
    {
      "cell_type": "markdown",
      "metadata": {
        "id": "ZBrcKgaNQl-Z"
      },
      "source": [
        "5.8 Visualization of topic probability over years"
      ]
    },
    {
      "cell_type": "code",
      "execution_count": null,
      "metadata": {
        "id": "pUoywXeyQk54"
      },
      "outputs": [],
      "source": [
        "# Visualisation of the topics and their development over the years\n",
        "fig, ax = plt.subplots(figsize=(10, 5))\n",
        "main.plot(\n",
        "\n",
        "    # Plot's title\n",
        "    title = 'Topics',\n",
        "\n",
        "    # Legend's title\n",
        "    legend_title=\"Topics\",\n",
        "\n",
        "    # Set location to save\n",
        "    # path_to_save=\"./plot_of_news.png\",\n",
        "\n",
        "    # Display graph (default)\n",
        "    display=True,\n",
        "\n",
        "    # Rotate labels in 75º\n",
        "    rotation=75,\n",
        "\n",
        "    # Plot lines (default)\n",
        "    mode=\"line\",\n",
        "\n",
        "    # Set custom date format to YYYY\n",
        "    date_format=\"%Y\"\n",
        ")"
      ]
    },
    {
      "cell_type": "markdown",
      "metadata": {
        "id": "hOxaYoHwQurr"
      },
      "source": [
        "5.9 Visualisation of the topics and their development over the years (filter by topic)"
      ]
    },
    {
      "cell_type": "code",
      "execution_count": null,
      "metadata": {
        "id": "Tf9NaGIeQ3iV"
      },
      "outputs": [],
      "source": [
        "'''\n",
        "import pandas as pd\n",
        "import matplotlib.pyplot as plt\n",
        "import ipywidgets as widgets\n",
        "from IPython.display import display\n",
        "\n",
        "# Saving the topic probability\n",
        "topic_probability = main.get_results()\n",
        "topic_probability = topic_probability.set_index('date')\n",
        "\n",
        "# Create a list of topic numbers for the checkboxes\n",
        "topics = topic_probability.columns.tolist()\n",
        "\n",
        "# Create a checkbox list for the topics\n",
        "topics_checkboxes = widgets.SelectMultiple(\n",
        "    options=topics,\n",
        "    value=[topics[0]],  # Default value for the output selection\n",
        "    description='Topics:',\n",
        "    disabled=False,\n",
        "    layout=widgets.Layout(height='150px')\n",
        ")\n",
        "\n",
        "# Create plot function\n",
        "def plot_topics(topics):\n",
        "    plt.clf()  # delete current plot\n",
        "\n",
        "    fig, ax = plt.subplots(figsize=(10, 5))\n",
        "\n",
        "    # Create line for each selected topic\n",
        "    for topic in topics:\n",
        "        plt.plot(min(topic_probability.index.year), topic_probability[topic], label=(main.get_topic_words(topic_id=topic, timeslice=len(year_dfs), n=15)))\n",
        "\n",
        "    # Label axes\n",
        "    plt.xlabel(\"Jahr\")\n",
        "    plt.ylabel(\"Probability\")\n",
        "    plt.xticks(range(min(topic_probability.index.year), max(topic_probability.index.year)+1), rotation=45)\n",
        "\n",
        "    # Add title\n",
        "    plt.title(\"Topic Probabilities im Zeitverlauf\", fontsize=16)\n",
        "\n",
        "    # Add legend\n",
        "    plt.legend()\n",
        "    plt.show()\n",
        "\n",
        "# Link checkbox list with plot function\n",
        "widgets.interactive(plot_topics, topics=topics_checkboxes)\n",
        "'''"
      ]
    },
    {
      "cell_type": "code",
      "execution_count": null,
      "metadata": {
        "id": "4I5610wC8siJ"
      },
      "outputs": [],
      "source": [
        "import pandas as pd\n",
        "import matplotlib.pyplot as plt\n",
        "import ipywidgets as widgets\n",
        "from IPython.display import display\n",
        "\n",
        "# Saving the topic probability\n",
        "topic_probability = main.get_results()\n",
        "topic_probability = topic_probability.set_index('date')\n",
        "\n",
        "# Create a list of topic numbers for the checkboxes\n",
        "topics = topic_probability.columns.tolist()\n",
        "\n",
        "# Create a checkbox list for the topics\n",
        "topics_checkboxes = widgets.SelectMultiple(\n",
        "    options=topics,\n",
        "    value=[topics[0]],  # Default value for the output selection\n",
        "    description='Topics:',\n",
        "    disabled=False,\n",
        "    layout=widgets.Layout(height='150px')\n",
        ")\n",
        "\n",
        "# Create plot function\n",
        "def plot_topics(topics):\n",
        "    plt.clf()  # delete current plot\n",
        "\n",
        "    fig, ax = plt.subplots(figsize=(10, 5))\n",
        "\n",
        "    years = topic_probability.index.year  # List of years for x-axis\n",
        "\n",
        "    # Create line for each selected topic\n",
        "    for topic in topics:\n",
        "        plt.plot(years, topic_probability[topic], label=main.get_topic_words(topic_id=topic, timeslice=len(year_dfs), n=20))\n",
        "\n",
        "    # Label axes\n",
        "    plt.xlabel(\"Jahr\")\n",
        "    plt.ylabel(\"Probability\")\n",
        "    plt.xticks(years, rotation=45)\n",
        "\n",
        "    # Add title\n",
        "    plt.title(\"Topic Probabilities im Zeitverlauf\", fontsize=16)\n",
        "\n",
        "    # Add legend\n",
        "    plt.legend()\n",
        "    plt.show()\n",
        "\n",
        "# Link checkbox list with plot function\n",
        "widgets.interactive(plot_topics, topics=topics_checkboxes)\n"
      ]
    },
    {
      "cell_type": "code",
      "execution_count": null,
      "metadata": {
        "id": "JRHhQ59Bl3WU"
      },
      "outputs": [],
      "source": [
        "print(topic_probability)"
      ]
    },
    {
      "cell_type": "markdown",
      "metadata": {
        "id": "ZCmxSaOOx6go"
      },
      "source": [
        "5.10 Visualisation of topic words and their development over the years"
      ]
    },
    {
      "cell_type": "code",
      "execution_count": null,
      "metadata": {
        "id": "pWffHtpcYZUU"
      },
      "outputs": [],
      "source": [
        "# disabled by default\n",
        "'''\n",
        "import matplotlib.pyplot as plt\n",
        "\n",
        "def create_word_change_boxes(years, topics):\n",
        "    num_years = len(years)\n",
        "    num_topics = len(topics)\n",
        "\n",
        "    fig, axs = plt.subplots(num_topics, num_years, figsize=(15, 80), sharex=True, sharey=True)\n",
        "\n",
        "    for i, topic in enumerate(topics):\n",
        "        for j, year in enumerate(years):\n",
        "            words = main.get_topic_words(topic_id=i, timeslice=j, n=12)\n",
        "            ax = axs[i, j]\n",
        "            ax.text(0.5, 0.5, \"\\n\".join(words), va=\"center\", ha=\"center\", fontsize=12, bbox=dict(facecolor='none', edgecolor='black', pad=5))\n",
        "            ax.set_title(year, fontweight=\"bold\")\n",
        "            ax.axis(\"off\")\n",
        "            if i == num_topics - 1:\n",
        "                ax.set_xlabel(f\"Jahr {year}\", fontweight=\"bold\")\n",
        "\n",
        "    plt.tight_layout()\n",
        "    plt.show()\n",
        "\n",
        "\n",
        "years = topic_probability.index.year\n",
        "num_topics = 10  # Beispielwert, setzen Sie hier den tatsächlichen Wert Ihrer \"num_topics\" ein\n",
        "topics_list = []\n",
        "\n",
        "for i in range(1, n_topics + 1):\n",
        "    topics_list.append(i)\n",
        "\n",
        "topics = topics_list\n",
        "\n",
        "create_word_change_boxes(years, topics)\n",
        "'''"
      ]
    },
    {
      "cell_type": "markdown",
      "metadata": {
        "id": "kQYHVWCXLaF4"
      },
      "source": [
        "5.11 Save the developed lda-over-time model"
      ]
    },
    {
      "cell_type": "code",
      "execution_count": null,
      "metadata": {
        "id": "Azfa8L7PLZgP"
      },
      "outputs": [],
      "source": [
        "path = '/content/drive/MyDrive/lda_over_time/filter_by_' + filter_type + '_tn_' + str(n_topics)\n",
        "main.save(path)"
      ]
    },
    {
      "cell_type": "markdown",
      "metadata": {
        "id": "Qx0T4VJ3IdTr"
      },
      "source": [
        "5.12 Dirichlet Multinomial Regression (DMR)"
      ]
    },
    {
      "cell_type": "code",
      "execution_count": null,
      "metadata": {
        "id": "emw1g1GhIcrU"
      },
      "outputs": [],
      "source": [
        "#!pip install tomotopy\n",
        "import tomotopy as tp\n",
        "\n",
        "# Create a DMR model\n",
        "model = tp.DMRModel(k=12, min_cf=0, min_df=5)\n",
        "\n",
        "docs_dmr = []\n",
        "for doc in docs:\n",
        "    words = doc.split()  # Splitting the current document into words\n",
        "    docs_dmr.append(words)\n",
        "\n",
        "# Adding documents with metadata (timestamps)\n",
        "for words, year in zip(docs_dmr, timestamps_by_year):\n",
        "    model.add_doc(words, metadata=str(year))\n",
        "\n",
        "# Train the model\n",
        "model.train(1000)"
      ]
    },
    {
      "cell_type": "markdown",
      "metadata": {
        "id": "YZmGYHqCjloH"
      },
      "source": [
        "# 6. Evaluation"
      ]
    },
    {
      "cell_type": "markdown",
      "metadata": {
        "id": "8sPzWSIeG4OE"
      },
      "source": [
        "6.1 Evaluation of static LDA model for different number of topics"
      ]
    },
    {
      "cell_type": "code",
      "execution_count": null,
      "metadata": {
        "id": "dYpdopKLu5QA"
      },
      "outputs": [],
      "source": [
        "if calculate_coherence:\n",
        "  from gensim.test.utils import common_corpus, common_dictionary\n",
        "  from gensim.models.ldamodel import LdaModel\n",
        "  from gensim.models.coherencemodel import CoherenceModel\n",
        "\n",
        "  # Lists for storing coherence\n",
        "  coherence_values_cv = []\n",
        "  coherence_values_u_mass = []\n",
        "  coherence_values_c_uci = []\n",
        "  coherence = []\n",
        "\n",
        "  for num_topics in range(1, 50, 1):\n",
        "\n",
        "      # List of years\n",
        "      years = docs_by_year.keys()\n",
        "\n",
        "      # Save topic distribution for each year\n",
        "      topic_distributions = {}\n",
        "\n",
        "      # Combine all documents into a single corpus\n",
        "      combined_documents = [document for year in years for document in docs_by_year[year]]\n",
        "\n",
        "      # Convert documents to BoW format for the LDA model\n",
        "      dictionary = corpora.Dictionary(combined_documents)\n",
        "\n",
        "      # Remove words that appear in fewer than 10 documents or in more than 80% of the documents (deactivated by default)\n",
        "      #dictionary.filter_extremes(no_below=10, no_above=0.8)\n",
        "\n",
        "      # Define the corpus\n",
        "      corpus = [dictionary.doc2bow(document) for document in combined_documents]\n",
        "\n",
        "      # Train the LDA model on the entire corpus\n",
        "      lda_model = LdaModel(\n",
        "          corpus=corpus,\n",
        "          id2word=dictionary,\n",
        "          chunksize=chunksize,\n",
        "          alpha='auto',\n",
        "          eta='auto',\n",
        "          iterations=iterations,\n",
        "          num_topics=num_topics,\n",
        "          passes=passes,\n",
        "          random_state=seed\n",
        "      )\n",
        "\n",
        "      # Calculation of coherence with the c_v coherence model\n",
        "      coherence_model_cv = CoherenceModel(model=lda_model, texts=combined_documents, dictionary=dictionary, coherence='c_v')\n",
        "      coherence_cv = coherence_model_cv.get_coherence()\n",
        "      coherence_values_cv.append(coherence_cv)\n",
        "      print((\"Number of Topics: \" + str(num_topics) + \" -> Coherence (c_v): \" + str(coherence_cv)))\n",
        "\n",
        "      # Calculation of coherence with the u_mass coherence model\n",
        "      coherence_model_u_mass = CoherenceModel(model=lda_model, corpus=corpus, coherence='u_mass')\n",
        "      coherence_u_mass = coherence_model_u_mass.get_coherence()\n",
        "      coherence_values_u_mass.append(coherence_u_mass)\n",
        "      #print((\"Number of Topics: \" + str(num_topics) + \" -> Coherence (u_mass): \" + str(coherence_model_u_mass.get_coherence())))\n",
        "\n",
        "\n",
        "      # Calculation of coherence with the c_uci coherence model\n",
        "      coherence_model_c_uci = CoherenceModel(model=lda_model, texts=combined_documents, dictionary=dictionary, coherence='c_npmi')\n",
        "      coherence_c_uci = coherence_model_c_uci.get_coherence()\n",
        "      coherence_values_c_uci.append(coherence_c_uci)\n",
        "      print((\"Number of Topics: \" + str(num_topics) + \" -> Coherence (c_npmi): \" + str(coherence_c_uci)))\n"
      ]
    },
    {
      "cell_type": "code",
      "source": [
        "calculate_coherence = True"
      ],
      "metadata": {
        "id": "_5n5emPy4AQL"
      },
      "execution_count": null,
      "outputs": []
    },
    {
      "cell_type": "markdown",
      "metadata": {
        "id": "e4-Gz3PMjZS9"
      },
      "source": [
        "6.2 Coherence score (c_v)"
      ]
    },
    {
      "cell_type": "code",
      "execution_count": null,
      "metadata": {
        "id": "zd1_e2sE6CG9"
      },
      "outputs": [],
      "source": [
        "if calculate_coherence:\n",
        "  import matplotlib.pyplot as plt\n",
        "\n",
        "  # Set parameters\n",
        "  limit = 30\n",
        "  start = 1\n",
        "  step = 1\n",
        "  x = range(start, limit, step)\n",
        "\n",
        "  # Set color\n",
        "  color = '#334d5c'\n",
        "\n",
        "  fig = plt.figure(figsize=(10,5))\n",
        "  fig, ax = plt.subplots(figsize=(10,5))\n",
        "\n",
        "  # Find the lowest coherence value\n",
        "  max_coherence = max(coherence_values_cv)\n",
        "\n",
        "  # Find the index of the lowest y-value\n",
        "  index_min_y = np.argmax(coherence_values_cv)\n",
        "\n",
        "  # Access the corresponding x-value with the found index\n",
        "  x_min_y = x[index_min_y]\n",
        "\n",
        "  # Plot the coherence line and line for the lowest value\n",
        "  plt.plot(x, coherence_values_cv, color=color, label='Kohärenz (c_v)')\n",
        "  #plt.axvline(x=x_min_y, color=color, linestyle='--')\n",
        "\n",
        "  # Add text for best coherence value\n",
        "  #best_coherence_text = \"Best coherence score \\nfor \" + f\"{x_min_y:.0f} topics (\" + f\"{max_coherence:.2f})\"\n",
        "  #plt.text(x_min_y + 1, 0.34, best_coherence_text, fontsize=12, color=color, rotation='horizontal')\n",
        "\n",
        "  # Add ticks at full numbers on x-axis\n",
        "  ax.set_xticks(np.arange(start, limit, 2))\n",
        "\n",
        "  # Add labels and show plot\n",
        "  plt.xlabel(\"Anzahl der Topics\")\n",
        "  plt.ylabel(\"Kohärenz-Score\")\n",
        "  #plt.title(\"Kohärenz-Score (c_v) für unterschiedliche Anzahl an Topics\", fontsize=16)\n",
        "  plt.legend()\n",
        "  plt.show()"
      ]
    },
    {
      "cell_type": "markdown",
      "metadata": {
        "id": "ONKvHMKHjT5U"
      },
      "source": [
        "6.3 Coherence score (u_mass)"
      ]
    },
    {
      "cell_type": "code",
      "execution_count": null,
      "metadata": {
        "id": "m5jgxMsrjOh4"
      },
      "outputs": [],
      "source": [
        "if calculate_coherence:\n",
        "  import matplotlib.pyplot as plt\n",
        "\n",
        "  # Set parameters\n",
        "  limit = 30\n",
        "  start = 1\n",
        "  step = 1\n",
        "  x = range(start, limit, step)\n",
        "\n",
        "  # Set color\n",
        "  color = '#334d5c'\n",
        "\n",
        "  fig = plt.figure(figsize=(10,5))\n",
        "  fig, ax = plt.subplots(figsize=(10,5))\n",
        "\n",
        "  # Find the lowest coherence value\n",
        "  min_coherence = min(coherence_values_u_mass)\n",
        "\n",
        "  # Find the index of the lowest y-value\n",
        "  index_min_y = np.argmin(coherence_values_u_mass)\n",
        "\n",
        "  # Access the corresponding x-value with the found index\n",
        "  x_min_y = x[index_min_y]\n",
        "\n",
        "  # Plot the coherence line and line for the lowest value\n",
        "  plt.plot(x, coherence_values_u_mass, color=color, label='Kohärenz (u_mass)')\n",
        "  #plt.axvline(x=x_min_y, color=color, linestyle='--')\n",
        "\n",
        "  # Add text for best coherence value\n",
        "  #best_coherence_text = \"Best coherence score \\nfor \" + f\"{x_min_y:.0f} topics (\" + f\"{min_coherence:.2f})\"\n",
        "  #plt.text(x_min_y + 2, -6, best_coherence_text, fontsize=12, color=color, rotation='horizontal')\n",
        "\n",
        "  # Add ticks at full numbers on x-axis\n",
        "  ax.set_xticks(np.arange(start, limit, 2))\n",
        "\n",
        "  # Add labels and show plot\n",
        "  plt.xlabel(\"Anzahl der Topics\")\n",
        "  plt.ylabel(\"Kohärenz-Score\")\n",
        "  #plt.title(\"Kohärenz-Score (u_mass) für unterschiedliche Anzahl an Topics\", fontsize=16)\n",
        "  plt.legend()\n",
        "  plt.show()"
      ]
    },
    {
      "cell_type": "markdown",
      "metadata": {
        "id": "_uaDPKeuvixa"
      },
      "source": [
        "6.4 Coherence score (c_uci)"
      ]
    },
    {
      "cell_type": "code",
      "execution_count": null,
      "metadata": {
        "id": "1-CZh5Nzvia8"
      },
      "outputs": [],
      "source": [
        "if calculate_coherence:\n",
        "  import matplotlib.pyplot as plt\n",
        "\n",
        "  # Set parameters\n",
        "  limit = 30\n",
        "  start = 1\n",
        "  step = 1\n",
        "  x = range(start, limit, step)\n",
        "\n",
        "  # Set color\n",
        "  color = '#334d5c'\n",
        "\n",
        "  fig = plt.figure(figsize=(10,5))\n",
        "  fig, ax = plt.subplots(figsize=(10,5))\n",
        "\n",
        "  # Find the lowest coherence value\n",
        "  min_coherence = min(coherence_values_c_uci)\n",
        "\n",
        "  # Find the index of the lowest y-value\n",
        "  index_min_y = np.argmin(coherence_values_c_uci)\n",
        "\n",
        "  # Access the corresponding x-value with the found index\n",
        "  x_min_y = x[index_min_y]\n",
        "\n",
        "  # Plot the coherence line and line for the lowest value\n",
        "  plt.plot(x, coherence_values_c_uci, color=color, label='Kohärenz (c_npmi)')\n",
        "  #plt.axvline(x=x_min_y, color=color, linestyle='--')\n",
        "\n",
        "  # Add text for best coherence value\n",
        "  #best_coherence_text = \"Best coherence score \\nfor \" + f\"{x_min_y:.0f} topics (\" + f\"{min_coherence:.2f})\"\n",
        "  #plt.text(x_min_y + 2, -6, best_coherence_text, fontsize=12, color=color, rotation='horizontal')\n",
        "\n",
        "  # Add ticks at full numbers on x-axis\n",
        "  ax.set_xticks(np.arange(start, limit, 2))\n",
        "\n",
        "  # Add labels and show plot\n",
        "  plt.xlabel(\"Anzahl der Topics\")\n",
        "  plt.ylabel(\"Kohärenz-Score\")\n",
        "  #plt.title(\"Kohärenz-Score (u_mass) für unterschiedliche Anzahl an Topics\", fontsize=16)\n",
        "  plt.legend()\n",
        "  plt.show()"
      ]
    },
    {
      "cell_type": "code",
      "source": [
        "import matplotlib.pyplot as plt\n",
        "import numpy as np\n",
        "\n",
        "if calculate_coherence:\n",
        "    # Set parameters\n",
        "    limit = 30\n",
        "    start = 1\n",
        "    step = 1\n",
        "    x = range(start, limit, step)\n",
        "\n",
        "    # Set color\n",
        "    color = '#334d5c'\n",
        "\n",
        "    # Create a 2x2 grid of subplots within a single Figure\n",
        "    fig, axes = plt.subplots(nrows=2, ncols=2, figsize=(7,5))\n",
        "\n",
        "    # u_mass\n",
        "    axes[0, 0].plot(x, coherence_values_u_mass, color=color, label='Kohärenz (u_mass)')\n",
        "\n",
        "    axes[0, 0].set_xticks(np.arange(start, limit, 2))\n",
        "    axes[0, 0].set_xlabel(\"Anzahl der Topics\")\n",
        "    axes[0, 0].set_ylabel(\"Kohärenz-Score\")\n",
        "    # Set x-axis ticks every 5 units\n",
        "    axes[0, 0].set_xticks(np.arange(0, limit + 1, 5))\n",
        "    axes[0, 0].legend()\n",
        "\n",
        "    # c_uci\n",
        "    axes[0, 1].plot(x, coherence_values_c_uci, color=color, label='Kohärenz (c_uci)')\n",
        "\n",
        "    axes[0, 1].set_xticks(np.arange(start, limit, 2))\n",
        "    axes[0, 1].set_xlabel(\"Anzahl der Topics\")\n",
        "    axes[0, 1].set_ylabel(\"Kohärenz-Score\")\n",
        "    # Set x-axis ticks every 5 units\n",
        "    axes[0, 1].set_xticks(np.arange(0, limit + 1, 5))\n",
        "    axes[0, 1].legend()\n",
        "\n",
        "    # c_npmi\n",
        "    axes[1, 0].plot(x, coherence_values_c_npmi, color=color, label='Kohärenz (c_npmi)')\n",
        "\n",
        "    axes[1, 0].set_xticks(np.arange(start, limit, 2))\n",
        "    axes[1, 0].set_xlabel(\"Anzahl der Topics\")\n",
        "    axes[1, 0].set_ylabel(\"Kohärenz-Score\")\n",
        "    # Set x-axis ticks every 5 units\n",
        "    axes[1, 0].set_xticks(np.arange(0, limit + 1, 5))\n",
        "    axes[1, 0].legend()\n",
        "\n",
        "    # c_v\n",
        "    axes[1, 1].plot(x, coherence_values_cv, color=color, label='Kohärenz (c_v)')\n",
        "\n",
        "    axes[1, 1].set_xticks(np.arange(start, limit, 2))\n",
        "    axes[1, 1].set_xlabel(\"Anzahl der Topics\")\n",
        "    axes[1, 1].set_ylabel(\"Kohärenz-Score\")\n",
        "    # Set x-axis ticks every 5 units\n",
        "    axes[1, 1].set_xticks(np.arange(0, limit + 1, 5))\n",
        "    axes[1, 1].legend()\n",
        "\n",
        "\n",
        "\n",
        "    # Adjust spacing between subplots\n",
        "    plt.tight_layout()\n",
        "\n",
        "    # Show the entire Figure\n",
        "    plt.show()"
      ],
      "metadata": {
        "id": "0gucW5Lnlmd6"
      },
      "execution_count": null,
      "outputs": []
    }
  ],
  "metadata": {
    "accelerator": "GPU",
    "colab": {
      "provenance": [],
      "toc_visible": true,
      "mount_file_id": "19bfjJUwhXocHjHtSGKAwhZWm1mIgpfcu",
      "authorship_tag": "ABX9TyOtLw7bvPWBicxKu8IBv9fk",
      "include_colab_link": true
    },
    "kernelspec": {
      "display_name": "Python 3",
      "name": "python3"
    },
    "language_info": {
      "name": "python"
    },
    "widgets": {
      "application/vnd.jupyter.widget-state+json": {
        "3307c84635fc40ce84a2b884292acb22": {
          "model_module": "@jupyter-widgets/controls",
          "model_name": "VBoxModel",
          "model_module_version": "1.5.0",
          "state": {
            "_dom_classes": [
              "widget-interact"
            ],
            "_model_module": "@jupyter-widgets/controls",
            "_model_module_version": "1.5.0",
            "_model_name": "VBoxModel",
            "_view_count": null,
            "_view_module": "@jupyter-widgets/controls",
            "_view_module_version": "1.5.0",
            "_view_name": "VBoxView",
            "box_style": "",
            "children": [
              "IPY_MODEL_2fb1332ff7d74f6c955226246cf62d63",
              "IPY_MODEL_8c65005cacb44f1199ac9cd0f57e89dd"
            ],
            "layout": "IPY_MODEL_7b31c8e9552c496cbc3fd15d0ef3d635"
          }
        },
        "2fb1332ff7d74f6c955226246cf62d63": {
          "model_module": "@jupyter-widgets/controls",
          "model_name": "DropdownModel",
          "model_module_version": "1.5.0",
          "state": {
            "_dom_classes": [],
            "_model_module": "@jupyter-widgets/controls",
            "_model_module_version": "1.5.0",
            "_model_name": "DropdownModel",
            "_options_labels": [
              "2015",
              "2018",
              "2019",
              "2020",
              "2021",
              "2022"
            ],
            "_view_count": null,
            "_view_module": "@jupyter-widgets/controls",
            "_view_module_version": "1.5.0",
            "_view_name": "DropdownView",
            "description": "year",
            "description_tooltip": null,
            "disabled": false,
            "index": 0,
            "layout": "IPY_MODEL_fe7e883169384da8859b244f38973486",
            "style": "IPY_MODEL_d7e6eb471ba94513b5302cc729da934e"
          }
        },
        "8c65005cacb44f1199ac9cd0f57e89dd": {
          "model_module": "@jupyter-widgets/output",
          "model_name": "OutputModel",
          "model_module_version": "1.0.0",
          "state": {
            "_dom_classes": [],
            "_model_module": "@jupyter-widgets/output",
            "_model_module_version": "1.0.0",
            "_model_name": "OutputModel",
            "_view_count": null,
            "_view_module": "@jupyter-widgets/output",
            "_view_module_version": "1.0.0",
            "_view_name": "OutputView",
            "layout": "IPY_MODEL_b47db86310034206bf939e3a13b69fdd",
            "msg_id": "",
            "outputs": [
              {
                "output_type": "display_data",
                "data": {
                  "text/plain": "<Figure size 1000x400 with 1 Axes>",
                  "image/png": "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\n"
                },
                "metadata": {}
              }
            ]
          }
        },
        "7b31c8e9552c496cbc3fd15d0ef3d635": {
          "model_module": "@jupyter-widgets/base",
          "model_name": "LayoutModel",
          "model_module_version": "1.2.0",
          "state": {
            "_model_module": "@jupyter-widgets/base",
            "_model_module_version": "1.2.0",
            "_model_name": "LayoutModel",
            "_view_count": null,
            "_view_module": "@jupyter-widgets/base",
            "_view_module_version": "1.2.0",
            "_view_name": "LayoutView",
            "align_content": null,
            "align_items": null,
            "align_self": null,
            "border": null,
            "bottom": null,
            "display": null,
            "flex": null,
            "flex_flow": null,
            "grid_area": null,
            "grid_auto_columns": null,
            "grid_auto_flow": null,
            "grid_auto_rows": null,
            "grid_column": null,
            "grid_gap": null,
            "grid_row": null,
            "grid_template_areas": null,
            "grid_template_columns": null,
            "grid_template_rows": null,
            "height": null,
            "justify_content": null,
            "justify_items": null,
            "left": null,
            "margin": null,
            "max_height": null,
            "max_width": null,
            "min_height": null,
            "min_width": null,
            "object_fit": null,
            "object_position": null,
            "order": null,
            "overflow": null,
            "overflow_x": null,
            "overflow_y": null,
            "padding": null,
            "right": null,
            "top": null,
            "visibility": null,
            "width": null
          }
        },
        "fe7e883169384da8859b244f38973486": {
          "model_module": "@jupyter-widgets/base",
          "model_name": "LayoutModel",
          "model_module_version": "1.2.0",
          "state": {
            "_model_module": "@jupyter-widgets/base",
            "_model_module_version": "1.2.0",
            "_model_name": "LayoutModel",
            "_view_count": null,
            "_view_module": "@jupyter-widgets/base",
            "_view_module_version": "1.2.0",
            "_view_name": "LayoutView",
            "align_content": null,
            "align_items": null,
            "align_self": null,
            "border": null,
            "bottom": null,
            "display": null,
            "flex": null,
            "flex_flow": null,
            "grid_area": null,
            "grid_auto_columns": null,
            "grid_auto_flow": null,
            "grid_auto_rows": null,
            "grid_column": null,
            "grid_gap": null,
            "grid_row": null,
            "grid_template_areas": null,
            "grid_template_columns": null,
            "grid_template_rows": null,
            "height": null,
            "justify_content": null,
            "justify_items": null,
            "left": null,
            "margin": null,
            "max_height": null,
            "max_width": null,
            "min_height": null,
            "min_width": null,
            "object_fit": null,
            "object_position": null,
            "order": null,
            "overflow": null,
            "overflow_x": null,
            "overflow_y": null,
            "padding": null,
            "right": null,
            "top": null,
            "visibility": null,
            "width": null
          }
        },
        "d7e6eb471ba94513b5302cc729da934e": {
          "model_module": "@jupyter-widgets/controls",
          "model_name": "DescriptionStyleModel",
          "model_module_version": "1.5.0",
          "state": {
            "_model_module": "@jupyter-widgets/controls",
            "_model_module_version": "1.5.0",
            "_model_name": "DescriptionStyleModel",
            "_view_count": null,
            "_view_module": "@jupyter-widgets/base",
            "_view_module_version": "1.2.0",
            "_view_name": "StyleView",
            "description_width": ""
          }
        },
        "b47db86310034206bf939e3a13b69fdd": {
          "model_module": "@jupyter-widgets/base",
          "model_name": "LayoutModel",
          "model_module_version": "1.2.0",
          "state": {
            "_model_module": "@jupyter-widgets/base",
            "_model_module_version": "1.2.0",
            "_model_name": "LayoutModel",
            "_view_count": null,
            "_view_module": "@jupyter-widgets/base",
            "_view_module_version": "1.2.0",
            "_view_name": "LayoutView",
            "align_content": null,
            "align_items": null,
            "align_self": null,
            "border": null,
            "bottom": null,
            "display": null,
            "flex": null,
            "flex_flow": null,
            "grid_area": null,
            "grid_auto_columns": null,
            "grid_auto_flow": null,
            "grid_auto_rows": null,
            "grid_column": null,
            "grid_gap": null,
            "grid_row": null,
            "grid_template_areas": null,
            "grid_template_columns": null,
            "grid_template_rows": null,
            "height": null,
            "justify_content": null,
            "justify_items": null,
            "left": null,
            "margin": null,
            "max_height": null,
            "max_width": null,
            "min_height": null,
            "min_width": null,
            "object_fit": null,
            "object_position": null,
            "order": null,
            "overflow": null,
            "overflow_x": null,
            "overflow_y": null,
            "padding": null,
            "right": null,
            "top": null,
            "visibility": null,
            "width": null
          }
        },
        "355c4b96171e40dbb358693156fd41bf": {
          "model_module": "@jupyter-widgets/controls",
          "model_name": "HBoxModel",
          "model_module_version": "1.5.0",
          "state": {
            "_dom_classes": [],
            "_model_module": "@jupyter-widgets/controls",
            "_model_module_version": "1.5.0",
            "_model_name": "HBoxModel",
            "_view_count": null,
            "_view_module": "@jupyter-widgets/controls",
            "_view_module_version": "1.5.0",
            "_view_name": "HBoxView",
            "box_style": "",
            "children": [
              "IPY_MODEL_1c195f2477d944c1aa4ee653f2d52d41",
              "IPY_MODEL_924c45e618ea40d2ab3df73082206a0e",
              "IPY_MODEL_b27f7929716343ce89196dd48b550cba"
            ],
            "layout": "IPY_MODEL_f3c0920e588442898fb9474923196505"
          }
        },
        "1c195f2477d944c1aa4ee653f2d52d41": {
          "model_module": "@jupyter-widgets/controls",
          "model_name": "ButtonModel",
          "model_module_version": "1.5.0",
          "state": {
            "_dom_classes": [],
            "_model_module": "@jupyter-widgets/controls",
            "_model_module_version": "1.5.0",
            "_model_name": "ButtonModel",
            "_view_count": null,
            "_view_module": "@jupyter-widgets/controls",
            "_view_module_version": "1.5.0",
            "_view_name": "ButtonView",
            "button_style": "",
            "description": "All Token",
            "disabled": false,
            "icon": "",
            "layout": "IPY_MODEL_b0f1f08142044e8c905cba7bf2748dd0",
            "style": "IPY_MODEL_62abead9c1394527b25366c922e4a04c",
            "tooltip": ""
          }
        },
        "924c45e618ea40d2ab3df73082206a0e": {
          "model_module": "@jupyter-widgets/controls",
          "model_name": "ButtonModel",
          "model_module_version": "1.5.0",
          "state": {
            "_dom_classes": [],
            "_model_module": "@jupyter-widgets/controls",
            "_model_module_version": "1.5.0",
            "_model_name": "ButtonModel",
            "_view_count": null,
            "_view_module": "@jupyter-widgets/controls",
            "_view_module_version": "1.5.0",
            "_view_name": "ButtonView",
            "button_style": "",
            "description": "Filter for Skills",
            "disabled": false,
            "icon": "",
            "layout": "IPY_MODEL_82aea6b38a2140af99b763b180e4678d",
            "style": "IPY_MODEL_32a57883fa9a40f0a5312295c734ddd2",
            "tooltip": ""
          }
        },
        "b27f7929716343ce89196dd48b550cba": {
          "model_module": "@jupyter-widgets/controls",
          "model_name": "TextModel",
          "model_module_version": "1.5.0",
          "state": {
            "_dom_classes": [],
            "_model_module": "@jupyter-widgets/controls",
            "_model_module_version": "1.5.0",
            "_model_name": "TextModel",
            "_view_count": null,
            "_view_module": "@jupyter-widgets/controls",
            "_view_module_version": "1.5.0",
            "_view_name": "TextView",
            "continuous_update": true,
            "description": "Search:",
            "description_tooltip": null,
            "disabled": false,
            "layout": "IPY_MODEL_f07cf0c7ac6e407aab555bcbd131ef67",
            "placeholder": "Search",
            "style": "IPY_MODEL_65c72aef4cdf4d5f925a157cc3900053",
            "value": "englisch"
          }
        },
        "f3c0920e588442898fb9474923196505": {
          "model_module": "@jupyter-widgets/base",
          "model_name": "LayoutModel",
          "model_module_version": "1.2.0",
          "state": {
            "_model_module": "@jupyter-widgets/base",
            "_model_module_version": "1.2.0",
            "_model_name": "LayoutModel",
            "_view_count": null,
            "_view_module": "@jupyter-widgets/base",
            "_view_module_version": "1.2.0",
            "_view_name": "LayoutView",
            "align_content": null,
            "align_items": null,
            "align_self": null,
            "border": null,
            "bottom": null,
            "display": null,
            "flex": null,
            "flex_flow": null,
            "grid_area": null,
            "grid_auto_columns": null,
            "grid_auto_flow": null,
            "grid_auto_rows": null,
            "grid_column": null,
            "grid_gap": null,
            "grid_row": null,
            "grid_template_areas": null,
            "grid_template_columns": null,
            "grid_template_rows": null,
            "height": null,
            "justify_content": null,
            "justify_items": null,
            "left": null,
            "margin": null,
            "max_height": null,
            "max_width": null,
            "min_height": null,
            "min_width": null,
            "object_fit": null,
            "object_position": null,
            "order": null,
            "overflow": null,
            "overflow_x": null,
            "overflow_y": null,
            "padding": null,
            "right": null,
            "top": null,
            "visibility": null,
            "width": null
          }
        },
        "b0f1f08142044e8c905cba7bf2748dd0": {
          "model_module": "@jupyter-widgets/base",
          "model_name": "LayoutModel",
          "model_module_version": "1.2.0",
          "state": {
            "_model_module": "@jupyter-widgets/base",
            "_model_module_version": "1.2.0",
            "_model_name": "LayoutModel",
            "_view_count": null,
            "_view_module": "@jupyter-widgets/base",
            "_view_module_version": "1.2.0",
            "_view_name": "LayoutView",
            "align_content": null,
            "align_items": null,
            "align_self": null,
            "border": null,
            "bottom": null,
            "display": null,
            "flex": null,
            "flex_flow": null,
            "grid_area": null,
            "grid_auto_columns": null,
            "grid_auto_flow": null,
            "grid_auto_rows": null,
            "grid_column": null,
            "grid_gap": null,
            "grid_row": null,
            "grid_template_areas": null,
            "grid_template_columns": null,
            "grid_template_rows": null,
            "height": null,
            "justify_content": null,
            "justify_items": null,
            "left": null,
            "margin": null,
            "max_height": null,
            "max_width": null,
            "min_height": null,
            "min_width": null,
            "object_fit": null,
            "object_position": null,
            "order": null,
            "overflow": null,
            "overflow_x": null,
            "overflow_y": null,
            "padding": null,
            "right": null,
            "top": null,
            "visibility": null,
            "width": null
          }
        },
        "62abead9c1394527b25366c922e4a04c": {
          "model_module": "@jupyter-widgets/controls",
          "model_name": "ButtonStyleModel",
          "model_module_version": "1.5.0",
          "state": {
            "_model_module": "@jupyter-widgets/controls",
            "_model_module_version": "1.5.0",
            "_model_name": "ButtonStyleModel",
            "_view_count": null,
            "_view_module": "@jupyter-widgets/base",
            "_view_module_version": "1.2.0",
            "_view_name": "StyleView",
            "button_color": null,
            "font_weight": ""
          }
        },
        "82aea6b38a2140af99b763b180e4678d": {
          "model_module": "@jupyter-widgets/base",
          "model_name": "LayoutModel",
          "model_module_version": "1.2.0",
          "state": {
            "_model_module": "@jupyter-widgets/base",
            "_model_module_version": "1.2.0",
            "_model_name": "LayoutModel",
            "_view_count": null,
            "_view_module": "@jupyter-widgets/base",
            "_view_module_version": "1.2.0",
            "_view_name": "LayoutView",
            "align_content": null,
            "align_items": null,
            "align_self": null,
            "border": null,
            "bottom": null,
            "display": null,
            "flex": null,
            "flex_flow": null,
            "grid_area": null,
            "grid_auto_columns": null,
            "grid_auto_flow": null,
            "grid_auto_rows": null,
            "grid_column": null,
            "grid_gap": null,
            "grid_row": null,
            "grid_template_areas": null,
            "grid_template_columns": null,
            "grid_template_rows": null,
            "height": null,
            "justify_content": null,
            "justify_items": null,
            "left": null,
            "margin": null,
            "max_height": null,
            "max_width": null,
            "min_height": null,
            "min_width": null,
            "object_fit": null,
            "object_position": null,
            "order": null,
            "overflow": null,
            "overflow_x": null,
            "overflow_y": null,
            "padding": null,
            "right": null,
            "top": null,
            "visibility": null,
            "width": null
          }
        },
        "32a57883fa9a40f0a5312295c734ddd2": {
          "model_module": "@jupyter-widgets/controls",
          "model_name": "ButtonStyleModel",
          "model_module_version": "1.5.0",
          "state": {
            "_model_module": "@jupyter-widgets/controls",
            "_model_module_version": "1.5.0",
            "_model_name": "ButtonStyleModel",
            "_view_count": null,
            "_view_module": "@jupyter-widgets/base",
            "_view_module_version": "1.2.0",
            "_view_name": "StyleView",
            "button_color": null,
            "font_weight": ""
          }
        },
        "f07cf0c7ac6e407aab555bcbd131ef67": {
          "model_module": "@jupyter-widgets/base",
          "model_name": "LayoutModel",
          "model_module_version": "1.2.0",
          "state": {
            "_model_module": "@jupyter-widgets/base",
            "_model_module_version": "1.2.0",
            "_model_name": "LayoutModel",
            "_view_count": null,
            "_view_module": "@jupyter-widgets/base",
            "_view_module_version": "1.2.0",
            "_view_name": "LayoutView",
            "align_content": null,
            "align_items": null,
            "align_self": null,
            "border": null,
            "bottom": null,
            "display": null,
            "flex": null,
            "flex_flow": null,
            "grid_area": null,
            "grid_auto_columns": null,
            "grid_auto_flow": null,
            "grid_auto_rows": null,
            "grid_column": null,
            "grid_gap": null,
            "grid_row": null,
            "grid_template_areas": null,
            "grid_template_columns": null,
            "grid_template_rows": null,
            "height": null,
            "justify_content": null,
            "justify_items": null,
            "left": null,
            "margin": null,
            "max_height": null,
            "max_width": null,
            "min_height": null,
            "min_width": null,
            "object_fit": null,
            "object_position": null,
            "order": null,
            "overflow": null,
            "overflow_x": null,
            "overflow_y": null,
            "padding": null,
            "right": null,
            "top": null,
            "visibility": null,
            "width": null
          }
        },
        "65c72aef4cdf4d5f925a157cc3900053": {
          "model_module": "@jupyter-widgets/controls",
          "model_name": "DescriptionStyleModel",
          "model_module_version": "1.5.0",
          "state": {
            "_model_module": "@jupyter-widgets/controls",
            "_model_module_version": "1.5.0",
            "_model_name": "DescriptionStyleModel",
            "_view_count": null,
            "_view_module": "@jupyter-widgets/base",
            "_view_module_version": "1.2.0",
            "_view_name": "StyleView",
            "description_width": ""
          }
        },
        "b347598f0e3342899f00f32ac9c6a40d": {
          "model_module": "@jupyter-widgets/controls",
          "model_name": "VBoxModel",
          "model_module_version": "1.5.0",
          "state": {
            "_dom_classes": [
              "widget-interact"
            ],
            "_model_module": "@jupyter-widgets/controls",
            "_model_module_version": "1.5.0",
            "_model_name": "VBoxModel",
            "_view_count": null,
            "_view_module": "@jupyter-widgets/controls",
            "_view_module_version": "1.5.0",
            "_view_name": "VBoxView",
            "box_style": "",
            "children": [
              "IPY_MODEL_3b6d9234c4fc46bfaf47c316011f957d",
              "IPY_MODEL_ad80e99cc96d4dfc9d47d8ce419bdc8c"
            ],
            "layout": "IPY_MODEL_af12a3521d514ce889421f8570af6857"
          }
        },
        "3b6d9234c4fc46bfaf47c316011f957d": {
          "model_module": "@jupyter-widgets/controls",
          "model_name": "SelectMultipleModel",
          "model_module_version": "1.5.0",
          "state": {
            "_dom_classes": [],
            "_model_module": "@jupyter-widgets/controls",
            "_model_module_version": "1.5.0",
            "_model_name": "SelectMultipleModel",
            "_options_labels": [
              "englisch"
            ],
            "_view_count": null,
            "_view_module": "@jupyter-widgets/controls",
            "_view_module_version": "1.5.0",
            "_view_name": "SelectMultipleView",
            "description": "Token:",
            "description_tooltip": null,
            "disabled": false,
            "index": [
              0
            ],
            "layout": "IPY_MODEL_4cd847c044034752baf4a415e69420c9",
            "rows": 6,
            "style": "IPY_MODEL_b1e39dde9e0245da9353e9586107801d"
          }
        },
        "ad80e99cc96d4dfc9d47d8ce419bdc8c": {
          "model_module": "@jupyter-widgets/output",
          "model_name": "OutputModel",
          "model_module_version": "1.0.0",
          "state": {
            "_dom_classes": [],
            "_model_module": "@jupyter-widgets/output",
            "_model_module_version": "1.0.0",
            "_model_name": "OutputModel",
            "_view_count": null,
            "_view_module": "@jupyter-widgets/output",
            "_view_module_version": "1.0.0",
            "_view_name": "OutputView",
            "layout": "IPY_MODEL_2b849256af6b492689e8a7428a50a875",
            "msg_id": "",
            "outputs": [
              {
                "output_type": "display_data",
                "data": {
                  "text/plain": "<Figure size 640x480 with 0 Axes>"
                },
                "metadata": {}
              },
              {
                "output_type": "display_data",
                "data": {
                  "text/plain": "<Figure size 1000x500 with 1 Axes>",
                  "image/png": "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\n"
                },
                "metadata": {}
              }
            ]
          }
        },
        "af12a3521d514ce889421f8570af6857": {
          "model_module": "@jupyter-widgets/base",
          "model_name": "LayoutModel",
          "model_module_version": "1.2.0",
          "state": {
            "_model_module": "@jupyter-widgets/base",
            "_model_module_version": "1.2.0",
            "_model_name": "LayoutModel",
            "_view_count": null,
            "_view_module": "@jupyter-widgets/base",
            "_view_module_version": "1.2.0",
            "_view_name": "LayoutView",
            "align_content": null,
            "align_items": null,
            "align_self": null,
            "border": null,
            "bottom": null,
            "display": null,
            "flex": null,
            "flex_flow": null,
            "grid_area": null,
            "grid_auto_columns": null,
            "grid_auto_flow": null,
            "grid_auto_rows": null,
            "grid_column": null,
            "grid_gap": null,
            "grid_row": null,
            "grid_template_areas": null,
            "grid_template_columns": null,
            "grid_template_rows": null,
            "height": null,
            "justify_content": null,
            "justify_items": null,
            "left": null,
            "margin": null,
            "max_height": null,
            "max_width": null,
            "min_height": null,
            "min_width": null,
            "object_fit": null,
            "object_position": null,
            "order": null,
            "overflow": null,
            "overflow_x": null,
            "overflow_y": null,
            "padding": null,
            "right": null,
            "top": null,
            "visibility": null,
            "width": null
          }
        },
        "4cd847c044034752baf4a415e69420c9": {
          "model_module": "@jupyter-widgets/base",
          "model_name": "LayoutModel",
          "model_module_version": "1.2.0",
          "state": {
            "_model_module": "@jupyter-widgets/base",
            "_model_module_version": "1.2.0",
            "_model_name": "LayoutModel",
            "_view_count": null,
            "_view_module": "@jupyter-widgets/base",
            "_view_module_version": "1.2.0",
            "_view_name": "LayoutView",
            "align_content": null,
            "align_items": null,
            "align_self": null,
            "border": null,
            "bottom": null,
            "display": null,
            "flex": null,
            "flex_flow": null,
            "grid_area": null,
            "grid_auto_columns": null,
            "grid_auto_flow": null,
            "grid_auto_rows": null,
            "grid_column": null,
            "grid_gap": null,
            "grid_row": null,
            "grid_template_areas": null,
            "grid_template_columns": null,
            "grid_template_rows": null,
            "height": "100px",
            "justify_content": null,
            "justify_items": null,
            "left": null,
            "margin": null,
            "max_height": null,
            "max_width": null,
            "min_height": null,
            "min_width": null,
            "object_fit": null,
            "object_position": null,
            "order": null,
            "overflow": null,
            "overflow_x": null,
            "overflow_y": null,
            "padding": null,
            "right": null,
            "top": null,
            "visibility": null,
            "width": null
          }
        },
        "b1e39dde9e0245da9353e9586107801d": {
          "model_module": "@jupyter-widgets/controls",
          "model_name": "DescriptionStyleModel",
          "model_module_version": "1.5.0",
          "state": {
            "_model_module": "@jupyter-widgets/controls",
            "_model_module_version": "1.5.0",
            "_model_name": "DescriptionStyleModel",
            "_view_count": null,
            "_view_module": "@jupyter-widgets/base",
            "_view_module_version": "1.2.0",
            "_view_name": "StyleView",
            "description_width": ""
          }
        },
        "2b849256af6b492689e8a7428a50a875": {
          "model_module": "@jupyter-widgets/base",
          "model_name": "LayoutModel",
          "model_module_version": "1.2.0",
          "state": {
            "_model_module": "@jupyter-widgets/base",
            "_model_module_version": "1.2.0",
            "_model_name": "LayoutModel",
            "_view_count": null,
            "_view_module": "@jupyter-widgets/base",
            "_view_module_version": "1.2.0",
            "_view_name": "LayoutView",
            "align_content": null,
            "align_items": null,
            "align_self": null,
            "border": null,
            "bottom": null,
            "display": null,
            "flex": null,
            "flex_flow": null,
            "grid_area": null,
            "grid_auto_columns": null,
            "grid_auto_flow": null,
            "grid_auto_rows": null,
            "grid_column": null,
            "grid_gap": null,
            "grid_row": null,
            "grid_template_areas": null,
            "grid_template_columns": null,
            "grid_template_rows": null,
            "height": null,
            "justify_content": null,
            "justify_items": null,
            "left": null,
            "margin": null,
            "max_height": null,
            "max_width": null,
            "min_height": null,
            "min_width": null,
            "object_fit": null,
            "object_position": null,
            "order": null,
            "overflow": null,
            "overflow_x": null,
            "overflow_y": null,
            "padding": null,
            "right": null,
            "top": null,
            "visibility": null,
            "width": null
          }
        },
        "537766401f144d89b8fc2d28bd4adb87": {
          "model_module": "@jupyter-widgets/controls",
          "model_name": "DropdownModel",
          "model_module_version": "1.5.0",
          "state": {
            "_dom_classes": [],
            "_model_module": "@jupyter-widgets/controls",
            "_model_module_version": "1.5.0",
            "_model_name": "DropdownModel",
            "_options_labels": [
              "",
              "filtered_by_description_tomotopy_lda_7_topics.bin"
            ],
            "_view_count": null,
            "_view_module": "@jupyter-widgets/controls",
            "_view_module_version": "1.5.0",
            "_view_name": "DropdownView",
            "description": "Select Trained Model:",
            "description_tooltip": null,
            "disabled": false,
            "index": 0,
            "layout": "IPY_MODEL_63f6113cc038486a966d902fe324f7d6",
            "style": "IPY_MODEL_cdf9e0eabf564640b459bdbcc5f163f4"
          }
        },
        "63f6113cc038486a966d902fe324f7d6": {
          "model_module": "@jupyter-widgets/base",
          "model_name": "LayoutModel",
          "model_module_version": "1.2.0",
          "state": {
            "_model_module": "@jupyter-widgets/base",
            "_model_module_version": "1.2.0",
            "_model_name": "LayoutModel",
            "_view_count": null,
            "_view_module": "@jupyter-widgets/base",
            "_view_module_version": "1.2.0",
            "_view_name": "LayoutView",
            "align_content": null,
            "align_items": null,
            "align_self": null,
            "border": null,
            "bottom": null,
            "display": null,
            "flex": null,
            "flex_flow": null,
            "grid_area": null,
            "grid_auto_columns": null,
            "grid_auto_flow": null,
            "grid_auto_rows": null,
            "grid_column": null,
            "grid_gap": null,
            "grid_row": null,
            "grid_template_areas": null,
            "grid_template_columns": null,
            "grid_template_rows": null,
            "height": null,
            "justify_content": null,
            "justify_items": null,
            "left": null,
            "margin": null,
            "max_height": null,
            "max_width": null,
            "min_height": null,
            "min_width": null,
            "object_fit": null,
            "object_position": null,
            "order": null,
            "overflow": null,
            "overflow_x": null,
            "overflow_y": null,
            "padding": null,
            "right": null,
            "top": null,
            "visibility": null,
            "width": "500px"
          }
        },
        "cdf9e0eabf564640b459bdbcc5f163f4": {
          "model_module": "@jupyter-widgets/controls",
          "model_name": "DescriptionStyleModel",
          "model_module_version": "1.5.0",
          "state": {
            "_model_module": "@jupyter-widgets/controls",
            "_model_module_version": "1.5.0",
            "_model_name": "DescriptionStyleModel",
            "_view_count": null,
            "_view_module": "@jupyter-widgets/base",
            "_view_module_version": "1.2.0",
            "_view_name": "StyleView",
            "description_width": "auto"
          }
        },
        "58af13ed97ea421ab10db489e6bc39b9": {
          "model_module": "@jupyter-widgets/controls",
          "model_name": "VBoxModel",
          "model_module_version": "1.5.0",
          "state": {
            "_dom_classes": [
              "widget-interact"
            ],
            "_model_module": "@jupyter-widgets/controls",
            "_model_module_version": "1.5.0",
            "_model_name": "VBoxModel",
            "_view_count": null,
            "_view_module": "@jupyter-widgets/controls",
            "_view_module_version": "1.5.0",
            "_view_name": "VBoxView",
            "box_style": "",
            "children": [
              "IPY_MODEL_e772956379414ce98553ac8b455740ba",
              "IPY_MODEL_57671cb2fc7c4dd8a3e56d809557fb15"
            ],
            "layout": "IPY_MODEL_3c2168a70fd94f51a60a80afe34b5572"
          }
        },
        "e772956379414ce98553ac8b455740ba": {
          "model_module": "@jupyter-widgets/controls",
          "model_name": "SelectMultipleModel",
          "model_module_version": "1.5.0",
          "state": {
            "_dom_classes": [],
            "_model_module": "@jupyter-widgets/controls",
            "_model_module_version": "1.5.0",
            "_model_name": "SelectMultipleModel",
            "_options_labels": [
              "Topic 0",
              "Topic 1",
              "Topic 2",
              "Topic 3",
              "Topic 4",
              "Topic 5",
              "Topic 6",
              "Topic 7",
              "Topic 8",
              "Topic 9",
              "Topic 10"
            ],
            "_view_count": null,
            "_view_module": "@jupyter-widgets/controls",
            "_view_module_version": "1.5.0",
            "_view_name": "SelectMultipleView",
            "description": "Topics:",
            "description_tooltip": null,
            "disabled": false,
            "index": [
              4
            ],
            "layout": "IPY_MODEL_92e5b13a1af141f590ff8fb657b61824",
            "rows": 5,
            "style": "IPY_MODEL_da23d5d5c0144076b0e6ad2aa4cf4c76"
          }
        },
        "57671cb2fc7c4dd8a3e56d809557fb15": {
          "model_module": "@jupyter-widgets/output",
          "model_name": "OutputModel",
          "model_module_version": "1.0.0",
          "state": {
            "_dom_classes": [],
            "_model_module": "@jupyter-widgets/output",
            "_model_module_version": "1.0.0",
            "_model_name": "OutputModel",
            "_view_count": null,
            "_view_module": "@jupyter-widgets/output",
            "_view_module_version": "1.0.0",
            "_view_name": "OutputView",
            "layout": "IPY_MODEL_22fdbdc6813e4d94ad0cfb7e33b83f8d",
            "msg_id": "",
            "outputs": [
              {
                "output_type": "display_data",
                "data": {
                  "text/plain": "<Figure size 1000x500 with 1 Axes>",
                  "image/png": "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\n"
                },
                "metadata": {}
              }
            ]
          }
        },
        "3c2168a70fd94f51a60a80afe34b5572": {
          "model_module": "@jupyter-widgets/base",
          "model_name": "LayoutModel",
          "model_module_version": "1.2.0",
          "state": {
            "_model_module": "@jupyter-widgets/base",
            "_model_module_version": "1.2.0",
            "_model_name": "LayoutModel",
            "_view_count": null,
            "_view_module": "@jupyter-widgets/base",
            "_view_module_version": "1.2.0",
            "_view_name": "LayoutView",
            "align_content": null,
            "align_items": null,
            "align_self": null,
            "border": null,
            "bottom": null,
            "display": null,
            "flex": null,
            "flex_flow": null,
            "grid_area": null,
            "grid_auto_columns": null,
            "grid_auto_flow": null,
            "grid_auto_rows": null,
            "grid_column": null,
            "grid_gap": null,
            "grid_row": null,
            "grid_template_areas": null,
            "grid_template_columns": null,
            "grid_template_rows": null,
            "height": null,
            "justify_content": null,
            "justify_items": null,
            "left": null,
            "margin": null,
            "max_height": null,
            "max_width": null,
            "min_height": null,
            "min_width": null,
            "object_fit": null,
            "object_position": null,
            "order": null,
            "overflow": null,
            "overflow_x": null,
            "overflow_y": null,
            "padding": null,
            "right": null,
            "top": null,
            "visibility": null,
            "width": null
          }
        },
        "92e5b13a1af141f590ff8fb657b61824": {
          "model_module": "@jupyter-widgets/base",
          "model_name": "LayoutModel",
          "model_module_version": "1.2.0",
          "state": {
            "_model_module": "@jupyter-widgets/base",
            "_model_module_version": "1.2.0",
            "_model_name": "LayoutModel",
            "_view_count": null,
            "_view_module": "@jupyter-widgets/base",
            "_view_module_version": "1.2.0",
            "_view_name": "LayoutView",
            "align_content": null,
            "align_items": null,
            "align_self": null,
            "border": null,
            "bottom": null,
            "display": null,
            "flex": null,
            "flex_flow": null,
            "grid_area": null,
            "grid_auto_columns": null,
            "grid_auto_flow": null,
            "grid_auto_rows": null,
            "grid_column": null,
            "grid_gap": null,
            "grid_row": null,
            "grid_template_areas": null,
            "grid_template_columns": null,
            "grid_template_rows": null,
            "height": null,
            "justify_content": null,
            "justify_items": null,
            "left": null,
            "margin": null,
            "max_height": null,
            "max_width": null,
            "min_height": null,
            "min_width": null,
            "object_fit": null,
            "object_position": null,
            "order": null,
            "overflow": null,
            "overflow_x": null,
            "overflow_y": null,
            "padding": null,
            "right": null,
            "top": null,
            "visibility": null,
            "width": null
          }
        },
        "da23d5d5c0144076b0e6ad2aa4cf4c76": {
          "model_module": "@jupyter-widgets/controls",
          "model_name": "DescriptionStyleModel",
          "model_module_version": "1.5.0",
          "state": {
            "_model_module": "@jupyter-widgets/controls",
            "_model_module_version": "1.5.0",
            "_model_name": "DescriptionStyleModel",
            "_view_count": null,
            "_view_module": "@jupyter-widgets/base",
            "_view_module_version": "1.2.0",
            "_view_name": "StyleView",
            "description_width": ""
          }
        },
        "22fdbdc6813e4d94ad0cfb7e33b83f8d": {
          "model_module": "@jupyter-widgets/base",
          "model_name": "LayoutModel",
          "model_module_version": "1.2.0",
          "state": {
            "_model_module": "@jupyter-widgets/base",
            "_model_module_version": "1.2.0",
            "_model_name": "LayoutModel",
            "_view_count": null,
            "_view_module": "@jupyter-widgets/base",
            "_view_module_version": "1.2.0",
            "_view_name": "LayoutView",
            "align_content": null,
            "align_items": null,
            "align_self": null,
            "border": null,
            "bottom": null,
            "display": null,
            "flex": null,
            "flex_flow": null,
            "grid_area": null,
            "grid_auto_columns": null,
            "grid_auto_flow": null,
            "grid_auto_rows": null,
            "grid_column": null,
            "grid_gap": null,
            "grid_row": null,
            "grid_template_areas": null,
            "grid_template_columns": null,
            "grid_template_rows": null,
            "height": null,
            "justify_content": null,
            "justify_items": null,
            "left": null,
            "margin": null,
            "max_height": null,
            "max_width": null,
            "min_height": null,
            "min_width": null,
            "object_fit": null,
            "object_position": null,
            "order": null,
            "overflow": null,
            "overflow_x": null,
            "overflow_y": null,
            "padding": null,
            "right": null,
            "top": null,
            "visibility": null,
            "width": null
          }
        },
        "571587c350b4475e828141e1e114d343": {
          "model_module": "@jupyter-widgets/controls",
          "model_name": "ButtonModel",
          "model_module_version": "1.5.0",
          "state": {
            "_dom_classes": [],
            "_model_module": "@jupyter-widgets/controls",
            "_model_module_version": "1.5.0",
            "_model_name": "ButtonModel",
            "_view_count": null,
            "_view_module": "@jupyter-widgets/controls",
            "_view_module_version": "1.5.0",
            "_view_name": "ButtonView",
            "button_style": "",
            "description": "Download Model",
            "disabled": false,
            "icon": "",
            "layout": "IPY_MODEL_b512737a7c404b78ae4b2a996c497b20",
            "style": "IPY_MODEL_132c516a7a0e43d9b0e9da65afca3241",
            "tooltip": ""
          }
        },
        "b512737a7c404b78ae4b2a996c497b20": {
          "model_module": "@jupyter-widgets/base",
          "model_name": "LayoutModel",
          "model_module_version": "1.2.0",
          "state": {
            "_model_module": "@jupyter-widgets/base",
            "_model_module_version": "1.2.0",
            "_model_name": "LayoutModel",
            "_view_count": null,
            "_view_module": "@jupyter-widgets/base",
            "_view_module_version": "1.2.0",
            "_view_name": "LayoutView",
            "align_content": null,
            "align_items": null,
            "align_self": null,
            "border": null,
            "bottom": null,
            "display": null,
            "flex": null,
            "flex_flow": null,
            "grid_area": null,
            "grid_auto_columns": null,
            "grid_auto_flow": null,
            "grid_auto_rows": null,
            "grid_column": null,
            "grid_gap": null,
            "grid_row": null,
            "grid_template_areas": null,
            "grid_template_columns": null,
            "grid_template_rows": null,
            "height": null,
            "justify_content": null,
            "justify_items": null,
            "left": null,
            "margin": null,
            "max_height": null,
            "max_width": null,
            "min_height": null,
            "min_width": null,
            "object_fit": null,
            "object_position": null,
            "order": null,
            "overflow": null,
            "overflow_x": null,
            "overflow_y": null,
            "padding": null,
            "right": null,
            "top": null,
            "visibility": null,
            "width": null
          }
        },
        "132c516a7a0e43d9b0e9da65afca3241": {
          "model_module": "@jupyter-widgets/controls",
          "model_name": "ButtonStyleModel",
          "model_module_version": "1.5.0",
          "state": {
            "_model_module": "@jupyter-widgets/controls",
            "_model_module_version": "1.5.0",
            "_model_name": "ButtonStyleModel",
            "_view_count": null,
            "_view_module": "@jupyter-widgets/base",
            "_view_module_version": "1.2.0",
            "_view_name": "StyleView",
            "button_color": null,
            "font_weight": ""
          }
        },
        "dfe218898ddb4c119604fcd7d6fadcf7": {
          "model_module": "@jupyter-widgets/controls",
          "model_name": "DropdownModel",
          "model_module_version": "1.5.0",
          "state": {
            "_dom_classes": [],
            "_model_module": "@jupyter-widgets/controls",
            "_model_module_version": "1.5.0",
            "_model_name": "DropdownModel",
            "_options_labels": [
              ""
            ],
            "_view_count": null,
            "_view_module": "@jupyter-widgets/controls",
            "_view_module_version": "1.5.0",
            "_view_name": "DropdownView",
            "description": "Select Trained Model:",
            "description_tooltip": null,
            "disabled": false,
            "index": 0,
            "layout": "IPY_MODEL_8151ba47a67c48f89020c3fcad96dffb",
            "style": "IPY_MODEL_e9eff969af93481a9d8eedb5236eaebd"
          }
        },
        "8151ba47a67c48f89020c3fcad96dffb": {
          "model_module": "@jupyter-widgets/base",
          "model_name": "LayoutModel",
          "model_module_version": "1.2.0",
          "state": {
            "_model_module": "@jupyter-widgets/base",
            "_model_module_version": "1.2.0",
            "_model_name": "LayoutModel",
            "_view_count": null,
            "_view_module": "@jupyter-widgets/base",
            "_view_module_version": "1.2.0",
            "_view_name": "LayoutView",
            "align_content": null,
            "align_items": null,
            "align_self": null,
            "border": null,
            "bottom": null,
            "display": null,
            "flex": null,
            "flex_flow": null,
            "grid_area": null,
            "grid_auto_columns": null,
            "grid_auto_flow": null,
            "grid_auto_rows": null,
            "grid_column": null,
            "grid_gap": null,
            "grid_row": null,
            "grid_template_areas": null,
            "grid_template_columns": null,
            "grid_template_rows": null,
            "height": null,
            "justify_content": null,
            "justify_items": null,
            "left": null,
            "margin": null,
            "max_height": null,
            "max_width": null,
            "min_height": null,
            "min_width": null,
            "object_fit": null,
            "object_position": null,
            "order": null,
            "overflow": null,
            "overflow_x": null,
            "overflow_y": null,
            "padding": null,
            "right": null,
            "top": null,
            "visibility": null,
            "width": "500px"
          }
        },
        "e9eff969af93481a9d8eedb5236eaebd": {
          "model_module": "@jupyter-widgets/controls",
          "model_name": "DescriptionStyleModel",
          "model_module_version": "1.5.0",
          "state": {
            "_model_module": "@jupyter-widgets/controls",
            "_model_module_version": "1.5.0",
            "_model_name": "DescriptionStyleModel",
            "_view_count": null,
            "_view_module": "@jupyter-widgets/base",
            "_view_module_version": "1.2.0",
            "_view_name": "StyleView",
            "description_width": "auto"
          }
        },
        "680a914c5fce42dfa40c41752c91cd5a": {
          "model_module": "@jupyter-widgets/controls",
          "model_name": "VBoxModel",
          "model_module_version": "1.5.0",
          "state": {
            "_dom_classes": [
              "widget-interact"
            ],
            "_model_module": "@jupyter-widgets/controls",
            "_model_module_version": "1.5.0",
            "_model_name": "VBoxModel",
            "_view_count": null,
            "_view_module": "@jupyter-widgets/controls",
            "_view_module_version": "1.5.0",
            "_view_name": "VBoxView",
            "box_style": "",
            "children": [
              "IPY_MODEL_16db4a3a88f4459db18e3e03f2f2445c",
              "IPY_MODEL_28569a24d465470496c63a5ef0735dcf"
            ],
            "layout": "IPY_MODEL_ff20a0638f4c4438a7c2cc1e4d5660f1"
          }
        },
        "16db4a3a88f4459db18e3e03f2f2445c": {
          "model_module": "@jupyter-widgets/controls",
          "model_name": "SelectMultipleModel",
          "model_module_version": "1.5.0",
          "state": {
            "_dom_classes": [],
            "_model_module": "@jupyter-widgets/controls",
            "_model_module_version": "1.5.0",
            "_model_name": "SelectMultipleModel",
            "_options_labels": [
              "Topic 0",
              "Topic 1",
              "Topic 2",
              "Topic 3",
              "Topic 4",
              "Topic 5",
              "Topic 6",
              "Topic 7",
              "Topic 8",
              "Topic 9",
              "Topic 10"
            ],
            "_view_count": null,
            "_view_module": "@jupyter-widgets/controls",
            "_view_module_version": "1.5.0",
            "_view_name": "SelectMultipleView",
            "description": "Topics:",
            "description_tooltip": null,
            "disabled": false,
            "index": [
              0,
              1,
              2,
              3,
              4,
              5,
              6,
              7,
              8,
              9,
              10
            ],
            "layout": "IPY_MODEL_cdfb8c7080c04e33a568b9f71abdc235",
            "rows": 5,
            "style": "IPY_MODEL_4b4026b908eb41fa803a1a41ba9b0224"
          }
        },
        "28569a24d465470496c63a5ef0735dcf": {
          "model_module": "@jupyter-widgets/output",
          "model_name": "OutputModel",
          "model_module_version": "1.0.0",
          "state": {
            "_dom_classes": [],
            "_model_module": "@jupyter-widgets/output",
            "_model_module_version": "1.0.0",
            "_model_name": "OutputModel",
            "_view_count": null,
            "_view_module": "@jupyter-widgets/output",
            "_view_module_version": "1.0.0",
            "_view_name": "OutputView",
            "layout": "IPY_MODEL_ffb003c55d7a46379a2d998e057930fe",
            "msg_id": "",
            "outputs": [
              {
                "output_type": "display_data",
                "data": {
                  "text/plain": "<Figure size 1000x500 with 1 Axes>",
                  "image/png": "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\n"
                },
                "metadata": {}
              }
            ]
          }
        },
        "ff20a0638f4c4438a7c2cc1e4d5660f1": {
          "model_module": "@jupyter-widgets/base",
          "model_name": "LayoutModel",
          "model_module_version": "1.2.0",
          "state": {
            "_model_module": "@jupyter-widgets/base",
            "_model_module_version": "1.2.0",
            "_model_name": "LayoutModel",
            "_view_count": null,
            "_view_module": "@jupyter-widgets/base",
            "_view_module_version": "1.2.0",
            "_view_name": "LayoutView",
            "align_content": null,
            "align_items": null,
            "align_self": null,
            "border": null,
            "bottom": null,
            "display": null,
            "flex": null,
            "flex_flow": null,
            "grid_area": null,
            "grid_auto_columns": null,
            "grid_auto_flow": null,
            "grid_auto_rows": null,
            "grid_column": null,
            "grid_gap": null,
            "grid_row": null,
            "grid_template_areas": null,
            "grid_template_columns": null,
            "grid_template_rows": null,
            "height": null,
            "justify_content": null,
            "justify_items": null,
            "left": null,
            "margin": null,
            "max_height": null,
            "max_width": null,
            "min_height": null,
            "min_width": null,
            "object_fit": null,
            "object_position": null,
            "order": null,
            "overflow": null,
            "overflow_x": null,
            "overflow_y": null,
            "padding": null,
            "right": null,
            "top": null,
            "visibility": null,
            "width": null
          }
        },
        "cdfb8c7080c04e33a568b9f71abdc235": {
          "model_module": "@jupyter-widgets/base",
          "model_name": "LayoutModel",
          "model_module_version": "1.2.0",
          "state": {
            "_model_module": "@jupyter-widgets/base",
            "_model_module_version": "1.2.0",
            "_model_name": "LayoutModel",
            "_view_count": null,
            "_view_module": "@jupyter-widgets/base",
            "_view_module_version": "1.2.0",
            "_view_name": "LayoutView",
            "align_content": null,
            "align_items": null,
            "align_self": null,
            "border": null,
            "bottom": null,
            "display": null,
            "flex": null,
            "flex_flow": null,
            "grid_area": null,
            "grid_auto_columns": null,
            "grid_auto_flow": null,
            "grid_auto_rows": null,
            "grid_column": null,
            "grid_gap": null,
            "grid_row": null,
            "grid_template_areas": null,
            "grid_template_columns": null,
            "grid_template_rows": null,
            "height": null,
            "justify_content": null,
            "justify_items": null,
            "left": null,
            "margin": null,
            "max_height": null,
            "max_width": null,
            "min_height": null,
            "min_width": null,
            "object_fit": null,
            "object_position": null,
            "order": null,
            "overflow": null,
            "overflow_x": null,
            "overflow_y": null,
            "padding": null,
            "right": null,
            "top": null,
            "visibility": null,
            "width": null
          }
        },
        "4b4026b908eb41fa803a1a41ba9b0224": {
          "model_module": "@jupyter-widgets/controls",
          "model_name": "DescriptionStyleModel",
          "model_module_version": "1.5.0",
          "state": {
            "_model_module": "@jupyter-widgets/controls",
            "_model_module_version": "1.5.0",
            "_model_name": "DescriptionStyleModel",
            "_view_count": null,
            "_view_module": "@jupyter-widgets/base",
            "_view_module_version": "1.2.0",
            "_view_name": "StyleView",
            "description_width": ""
          }
        },
        "ffb003c55d7a46379a2d998e057930fe": {
          "model_module": "@jupyter-widgets/base",
          "model_name": "LayoutModel",
          "model_module_version": "1.2.0",
          "state": {
            "_model_module": "@jupyter-widgets/base",
            "_model_module_version": "1.2.0",
            "_model_name": "LayoutModel",
            "_view_count": null,
            "_view_module": "@jupyter-widgets/base",
            "_view_module_version": "1.2.0",
            "_view_name": "LayoutView",
            "align_content": null,
            "align_items": null,
            "align_self": null,
            "border": null,
            "bottom": null,
            "display": null,
            "flex": null,
            "flex_flow": null,
            "grid_area": null,
            "grid_auto_columns": null,
            "grid_auto_flow": null,
            "grid_auto_rows": null,
            "grid_column": null,
            "grid_gap": null,
            "grid_row": null,
            "grid_template_areas": null,
            "grid_template_columns": null,
            "grid_template_rows": null,
            "height": null,
            "justify_content": null,
            "justify_items": null,
            "left": null,
            "margin": null,
            "max_height": null,
            "max_width": null,
            "min_height": null,
            "min_width": null,
            "object_fit": null,
            "object_position": null,
            "order": null,
            "overflow": null,
            "overflow_x": null,
            "overflow_y": null,
            "padding": null,
            "right": null,
            "top": null,
            "visibility": null,
            "width": null
          }
        },
        "b277d4ef3d11452f930247af6c0054a2": {
          "model_module": "@jupyter-widgets/controls",
          "model_name": "ButtonModel",
          "model_module_version": "1.5.0",
          "state": {
            "_dom_classes": [],
            "_model_module": "@jupyter-widgets/controls",
            "_model_module_version": "1.5.0",
            "_model_name": "ButtonModel",
            "_view_count": null,
            "_view_module": "@jupyter-widgets/controls",
            "_view_module_version": "1.5.0",
            "_view_name": "ButtonView",
            "button_style": "",
            "description": "Download Model",
            "disabled": false,
            "icon": "",
            "layout": "IPY_MODEL_6f43816f4631411cbf46c33e83e87deb",
            "style": "IPY_MODEL_02d09c6c8f5941f9a985e5b10ad15d26",
            "tooltip": ""
          }
        },
        "6f43816f4631411cbf46c33e83e87deb": {
          "model_module": "@jupyter-widgets/base",
          "model_name": "LayoutModel",
          "model_module_version": "1.2.0",
          "state": {
            "_model_module": "@jupyter-widgets/base",
            "_model_module_version": "1.2.0",
            "_model_name": "LayoutModel",
            "_view_count": null,
            "_view_module": "@jupyter-widgets/base",
            "_view_module_version": "1.2.0",
            "_view_name": "LayoutView",
            "align_content": null,
            "align_items": null,
            "align_self": null,
            "border": null,
            "bottom": null,
            "display": null,
            "flex": null,
            "flex_flow": null,
            "grid_area": null,
            "grid_auto_columns": null,
            "grid_auto_flow": null,
            "grid_auto_rows": null,
            "grid_column": null,
            "grid_gap": null,
            "grid_row": null,
            "grid_template_areas": null,
            "grid_template_columns": null,
            "grid_template_rows": null,
            "height": null,
            "justify_content": null,
            "justify_items": null,
            "left": null,
            "margin": null,
            "max_height": null,
            "max_width": null,
            "min_height": null,
            "min_width": null,
            "object_fit": null,
            "object_position": null,
            "order": null,
            "overflow": null,
            "overflow_x": null,
            "overflow_y": null,
            "padding": null,
            "right": null,
            "top": null,
            "visibility": null,
            "width": null
          }
        },
        "02d09c6c8f5941f9a985e5b10ad15d26": {
          "model_module": "@jupyter-widgets/controls",
          "model_name": "ButtonStyleModel",
          "model_module_version": "1.5.0",
          "state": {
            "_model_module": "@jupyter-widgets/controls",
            "_model_module_version": "1.5.0",
            "_model_name": "ButtonStyleModel",
            "_view_count": null,
            "_view_module": "@jupyter-widgets/base",
            "_view_module_version": "1.2.0",
            "_view_name": "StyleView",
            "button_color": null,
            "font_weight": ""
          }
        }
      }
    }
  },
  "nbformat": 4,
  "nbformat_minor": 0
}