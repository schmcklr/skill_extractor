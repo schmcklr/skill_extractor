{
  "nbformat": 4,
  "nbformat_minor": 0,
  "metadata": {
    "colab": {
      "provenance": [],
      "authorship_tag": "ABX9TyMWjcGiUkCgm0nIvVR7HAq+",
      "include_colab_link": true
    },
    "kernelspec": {
      "name": "python3",
      "display_name": "Python 3"
    },
    "language_info": {
      "name": "python"
    }
  },
  "cells": [
    {
      "cell_type": "markdown",
      "metadata": {
        "id": "view-in-github",
        "colab_type": "text"
      },
      "source": [
        "<a href=\"https://colab.research.google.com/github/schmcklr/skill_extractor/blob/main/skill_extractor_preprocessing_1.ipynb\" target=\"_parent\"><img src=\"https://colab.research.google.com/assets/colab-badge.svg\" alt=\"Open In Colab\"/></a>"
      ]
    },
    {
      "cell_type": "markdown",
      "source": [
        "# **Part 1:** General Preprocessing and Translation"
      ],
      "metadata": {
        "id": "UmqKGadCs1bK"
      }
    },
    {
      "cell_type": "markdown",
      "source": [
        "# 1. Load raw data\n",
        "*   Import of job advertisements\n"
      ],
      "metadata": {
        "id": "bo9dPUkx7szX"
      }
    },
    {
      "cell_type": "code",
      "source": [
        "import pandas as pd\n",
        "# Fetching raw data\n",
        "workbook = 'https://github.com/schmcklr/skill_extractor/blob/main/job_data/job_advertisements.xlsx?raw=true'\n",
        "\n",
        "# Import of tabs\n",
        "job_data = pd.read_excel(workbook, sheet_name=\"data\")\n",
        "\n",
        "# Copying unformatted job description\n",
        "job_data['rawDescription'] = job_data['description']"
      ],
      "metadata": {
        "id": "Q_x_Pq4B4kz6"
      },
      "execution_count": 22,
      "outputs": []
    },
    {
      "cell_type": "markdown",
      "source": [
        "# 2. Preprocessing (1/2)\n",
        "\n",
        "*   Convert to lower case\n",
        "*   Elimination of duplicates\n",
        "*   Convert dates to datetime\n",
        "*   Removing HTML-tags\n",
        "*   Removing most of the punctuation (+, # will not be removed)\n"
      ],
      "metadata": {
        "id": "BdtP2AgC0Trm"
      }
    },
    {
      "cell_type": "code",
      "execution_count": 23,
      "metadata": {
        "id": "nsoMnCSUzfqA"
      },
      "outputs": [],
      "source": [
        "# Import and preprocessing of job advertisements\n",
        "import re\n",
        "import nltk\n",
        "import pandas as pd\n",
        "from bs4 import BeautifulSoup\n",
        "from nltk.corpus import stopwords\n",
        "\n",
        "# Convert text to lower case\n",
        "job_data = job_data.apply(lambda x: x.astype(str).str.lower())\n",
        "\n",
        "# Elimination of duplicates\n",
        "job_data = job_data.drop_duplicates(subset=[\"title\"])\n",
        "job_data = job_data.drop_duplicates(subset=[\"description\"])\n",
        "\n",
        "# Convert 'created_at' to datetime\n",
        "job_data['created_at'] = pd.to_datetime(job_data['created_at'])\n",
        "\n",
        "# Removing html tags\n",
        "job_data['description'] = job_data['description'].apply(lambda x: BeautifulSoup(x.replace('\\n', ' ').replace('\\t', ' '), 'html.parser').get_text(separator=' '))\n",
        "job_data['description_without_html_tags'] = job_data['description']\n",
        "job_data = job_data.dropna(subset=[\"description\"], axis=0)\n",
        "\n",
        "# Removing punctuation (+, # will not be removed)\n",
        "job_data['description'] = job_data['description'].str.replace('[^\\w\\s+#]', ' ', regex=True)"
      ]
    },
    {
      "cell_type": "markdown",
      "source": [
        "#3. Translation"
      ],
      "metadata": {
        "id": "3SbUgFvF6NFc"
      }
    },
    {
      "cell_type": "markdown",
      "source": [
        "3.1 Define function for data translation (any language supported by google translator to english)"
      ],
      "metadata": {
        "id": "zLAqtBtMz7tQ"
      }
    },
    {
      "cell_type": "code",
      "source": [
        "!pip install --upgrade googletrans --quiet\n",
        "!pip install --upgrade translatepy --quiet\n",
        "!pip install langdetect --quiet\n",
        "\n",
        "from translatepy import Translator\n",
        "from langdetect import detect\n",
        "import langdetect\n",
        "\n",
        "# Function for language detection\n",
        "def detect_language(text):\n",
        "    try:\n",
        "        return detect(text)\n",
        "    except langdetect.lang_detect_exception.LangDetectException:\n",
        "        return 'unknown'\n",
        "\n",
        "# Initialization of global variables\n",
        "translated_job_ads = 0\n",
        "all_job_adds = 0\n",
        "\n",
        "# Initialization of translator\n",
        "translator = Translator()\n",
        "\n",
        "# Function for translation of job description\n",
        "def translate_job_description(text, count):\n",
        "    # Global keyword to access variables global\n",
        "    global all_job_adds\n",
        "    global translated_job_des\n",
        "\n",
        "    if count == 'y':\n",
        "        all_job_adds += 1\n",
        "    # Translate if text not in English\n",
        "    if detect_language(text) != 'en':\n",
        "        # Global keyword to access global variables\n",
        "        global translated_job_ads\n",
        "        # Variable to count number of translated job ads\n",
        "        if count == 'y':\n",
        "            translated_job_ads += 1\n",
        "        try:\n",
        "          translation = translator.translate(text, \"English\")\n",
        "          translated = translation.result\n",
        "        except Exception as e:\n",
        "          translated = text\n",
        "\n",
        "        # Store translated job description (for development purposes only)\n",
        "        if count == 'n':\n",
        "          translated_job_des.append([text, translated])\n",
        "    else:\n",
        "        translated = text\n",
        "    return translated"
      ],
      "metadata": {
        "id": "HUcTVvuo3m7L"
      },
      "execution_count": 24,
      "outputs": []
    },
    {
      "cell_type": "markdown",
      "source": [
        "3.2 Define a function to translate the content within HTML tags when there are no spaces between the tags and the enclosed text"
      ],
      "metadata": {
        "id": "5z0vUNKVyDPz"
      }
    },
    {
      "cell_type": "code",
      "source": [
        "from bs4 import BeautifulSoup\n",
        "import pandas as pd\n",
        "\n",
        "def process_html(html_text):\n",
        "    soup = BeautifulSoup(html_text, 'html.parser')\n",
        "\n",
        "    # Iterate over the relevant tags and apply the function to the element string\n",
        "    for element in soup.find_all():\n",
        "        if element.string is not None:\n",
        "            modified_text = translate_job_description(element.string, 'n')\n",
        "            element.string.replace_with(modified_text)\n",
        "\n",
        "    # Format the HTML text to improve readability and structure\n",
        "    formatted_html_text = soup.prettify()\n",
        "    return formatted_html_text"
      ],
      "metadata": {
        "id": "YVJNNLKUniQP"
      },
      "execution_count": 25,
      "outputs": []
    },
    {
      "cell_type": "markdown",
      "source": [
        "3.3 Translation of job advertisements"
      ],
      "metadata": {
        "id": "VwoLYXSo0c2g"
      }
    },
    {
      "cell_type": "code",
      "source": [
        "# Initialize list to store translated job descriptions\n",
        "translated_job_des = []\n",
        "\n",
        "# Translation of job ads (columns: title, description, describtion with html tags)\n",
        "job_data['title'] = job_data['title'].apply(lambda x: translate_job_description(x, 'y'))\n",
        "job_data['description'] = job_data['description'].apply(lambda x: translate_job_description(x, 'n'))\n",
        "job_data['rawDescriptionTranslated'] = job_data['rawDescription'].apply(lambda x: translate_job_description(x, 'n'))\n",
        "\n",
        "# Needed to also translate the headlines and tags without spaces\n",
        "job_data['rawDescriptionTranslatedWithTags'] = job_data['rawDescriptionTranslated'].apply(lambda x: process_html(x))\n",
        "\n",
        "# User info (number of ads that have been translated )\n",
        "print('Translation successful! ' + str(translated_job_ads) + '/' + str(all_job_adds) + ' job advertisements were translated.')\n",
        "\n",
        "# create a DataFrame with two columns using the translated_job_des list and export (for development purposes only)\n",
        "#translated_descriptions = pd.DataFrame(translated_job_des, columns=['Original Text', 'Translated Text'])\n",
        "#translated_descriptions.to_excel('translated_job_adx.xlsx', index=False)\n",
        "\n",
        "# Export translated text (for development purposes only)\n",
        "#translated_descriptions.to_excel('translated_job_adx.xlsx', index=False)"
      ],
      "metadata": {
        "id": "PkgtBFtM0ZVl",
        "colab": {
          "base_uri": "https://localhost:8080/"
        },
        "outputId": "b3a4db10-9101-4127-ca84-f74d7cfd22ed"
      },
      "execution_count": 26,
      "outputs": [
        {
          "output_type": "stream",
          "name": "stdout",
          "text": [
            "Translation successful! 841/2694 job advertisements were translated\n"
          ]
        }
      ]
    },
    {
      "cell_type": "markdown",
      "source": [
        "# 4. Preprocessing (2/2)\n",
        "\n",
        "*   Removing stopwords\n",
        "*   Tokenization\n",
        "*   Remove tokens that only contain numbers\n",
        "*   Export dataframe to excel"
      ],
      "metadata": {
        "id": "g9dS2lUf5t0T"
      }
    },
    {
      "cell_type": "code",
      "source": [
        "import nltk\n",
        "from nltk.corpus import stopwords\n",
        "nltk.download('stopwords')\n",
        "nltk.download('punkt')\n",
        "\n",
        "# Function for removing tokens that only contain numbers\n",
        "def remove_numeric_tokens(tokens):\n",
        "    return [token for token in tokens if not bool(re.match(r'^[0-9]+$', token))]\n",
        "\n",
        "# Define stopwords\n",
        "stopwords = stopwords.words('english')\n",
        "\n",
        "# Removing stopwords\n",
        "job_data['description'] = job_data['description'].apply(lambda x: \" \".join(x for x in x.split() if x not in stopwords))\n",
        "\n",
        "# Tokenize job description\n",
        "job_data[\"descriptionTokenized\"] = job_data[\"description\"].apply(nltk.word_tokenize)\n",
        "\n",
        "# Remove tokens that only contain numbers\n",
        "job_data[\"descriptionTokenized\"] = job_data[\"descriptionTokenized\"].apply(lambda x: remove_numeric_tokens(x))\n",
        "job_data[\"descriptionTokenized\"] = job_data[\"descriptionTokenized\"].apply(lambda x: \" \".join(x))\n",
        "\n",
        "# Export dataframe to excel\n",
        "job_data.to_excel('job_data_preprocessed_description_filtered.xlsx', index=False)"
      ],
      "metadata": {
        "id": "1qwXDcfoCAvZ",
        "colab": {
          "base_uri": "https://localhost:8080/"
        },
        "outputId": "97c0f3fb-a7c3-4975-9201-1b0f4970e312"
      },
      "execution_count": 27,
      "outputs": [
        {
          "output_type": "stream",
          "name": "stderr",
          "text": [
            "[nltk_data] Downloading package stopwords to /root/nltk_data...\n",
            "[nltk_data]   Unzipping corpora/stopwords.zip.\n",
            "[nltk_data] Downloading package punkt to /root/nltk_data...\n",
            "[nltk_data]   Unzipping tokenizers/punkt.zip.\n"
          ]
        }
      ]
    }
  ]
}