{
  "nbformat": 4,
  "nbformat_minor": 0,
  "metadata": {
    "colab": {
      "provenance": [],
      "authorship_tag": "ABX9TyM7Om1OA1skRyBMzCqJfdS6",
      "include_colab_link": true
    },
    "kernelspec": {
      "name": "python3",
      "display_name": "Python 3"
    },
    "language_info": {
      "name": "python"
    }
  },
  "cells": [
    {
      "cell_type": "markdown",
      "metadata": {
        "id": "view-in-github",
        "colab_type": "text"
      },
      "source": [
        "<a href=\"https://colab.research.google.com/github/schmcklr/skill_extractor/blob/main/skill_extractor_preprocessing_1.ipynb\" target=\"_parent\"><img src=\"https://colab.research.google.com/assets/colab-badge.svg\" alt=\"Open In Colab\"/></a>"
      ]
    },
    {
      "cell_type": "markdown",
      "source": [
        "# 1. Load raw data\n",
        "*   Import of job advertisements\n"
      ],
      "metadata": {
        "id": "bo9dPUkx7szX"
      }
    },
    {
      "cell_type": "code",
      "source": [
        "# Fetching raw data\n",
        "workbook = 'https://github.com/schmcklr/skill_analyser/blob/main/job_data/jobAdvertisements.xlsx?raw=true'\n",
        "\n",
        "# Import of tabs\n",
        "job_data = pd.read_excel(workbook, sheet_name=\"data\")\n",
        "\n",
        "# Copying unformatted job description\n",
        "job_data['rawDescription'] = job_data['description']"
      ],
      "metadata": {
        "id": "Q_x_Pq4B4kz6"
      },
      "execution_count": null,
      "outputs": []
    },
    {
      "cell_type": "markdown",
      "source": [
        "# 2. Preprocessing (1/2)\n",
        "\n",
        "*   Convert to lower case\n",
        "*   Elimination of duplicates\n",
        "*   Convert dates to datetime\n",
        "*   Removing HTML-tags\n",
        "*   Removing most of the punctuation (+, # will not be removed)\n"
      ],
      "metadata": {
        "id": "BdtP2AgC0Trm"
      }
    },
    {
      "cell_type": "code",
      "execution_count": 35,
      "metadata": {
        "colab": {
          "base_uri": "https://localhost:8080/"
        },
        "id": "nsoMnCSUzfqA",
        "outputId": "90591f66-142a-422a-c02e-68f3ef6a8f0d"
      },
      "outputs": [
        {
          "output_type": "stream",
          "name": "stdout",
          "text": [
            "Loading job advertisement data...\n",
            "Translation of job advertisements...\n",
            "Translation successful! 833/2694 job advertisements were translated\n"
          ]
        }
      ],
      "source": [
        "# Import and preprocessing of job advertisements\n",
        "import re\n",
        "import nltk\n",
        "import pandas as pd\n",
        "from bs4 import BeautifulSoup\n",
        "from nltk.corpus import stopwords\n",
        "\n",
        "# Convert text to lower case\n",
        "job_data = job_data.apply(lambda x: x.astype(str).str.lower())\n",
        "\n",
        "# Elimination of duplicates\n",
        "job_data = job_data.drop_duplicates(subset=[\"title\"])\n",
        "job_data = job_data.drop_duplicates(subset=[\"description\"])\n",
        "\n",
        "# Convert 'created_at' to datetime\n",
        "job_data['created_at'] = pd.to_datetime(job_data['created_at'])\n",
        "\n",
        "# Removing html tags\n",
        "job_data['description'] = job_data['description'].apply(lambda x: BeautifulSoup(x.replace('\\n', ' ').replace('\\t', ' '), 'html.parser').get_text(separator=' '))\n",
        "job_data['description_without_html_tags'] = job_data['description']\n",
        "job_data = job_data.dropna(subset=[\"description\"], axis=0)\n",
        "\n",
        "# Removing punctuation (+, # will not be removed)\n",
        "job_data['description'] = job_data['description'].str.replace('[^\\w\\s+#]', ' ', regex=True)"
      ]
    },
    {
      "cell_type": "markdown",
      "source": [
        "#3. Translation"
      ],
      "metadata": {
        "id": "3SbUgFvF6NFc"
      }
    },
    {
      "cell_type": "markdown",
      "source": [
        "3.1 Define function for data translation"
      ],
      "metadata": {
        "id": "zLAqtBtMz7tQ"
      }
    },
    {
      "cell_type": "code",
      "source": [
        "!pip install --upgrade googletrans\n",
        "!pip install --upgrade translatepy\n",
        "!pip install langdetect\n",
        "\n",
        "# Function for data translation\n",
        "from translatepy import Translator\n",
        "from langdetect import detect\n",
        "\n",
        "# Initialization of global variables\n",
        "translated_job_ads = 0\n",
        "all_job_adds = 0\n",
        "\n",
        "# Initialization of translator\n",
        "translator = Translator()\n",
        "\n",
        "\n",
        "# Function for translation of job description\n",
        "def translate_job_description(text, count):\n",
        "    # Global keyword to access global variables\n",
        "    global all_job_adds\n",
        "    if count == 'y':\n",
        "        all_job_adds += 1\n",
        "    if detect(text) != 'en':\n",
        "        # Global keyword to access global variables\n",
        "        global translated_job_ads\n",
        "        if count == 'y':\n",
        "            translated_job_ads += 1\n",
        "        translation = translator.translate(text, \"English\")\n",
        "        translated = translation.result\n",
        "    else:\n",
        "        translated = text\n",
        "    return translated"
      ],
      "metadata": {
        "id": "HUcTVvuo3m7L"
      },
      "execution_count": 34,
      "outputs": []
    },
    {
      "cell_type": "markdown",
      "source": [
        "3.2 Translation of job advertisements"
      ],
      "metadata": {
        "id": "VwoLYXSo0c2g"
      }
    },
    {
      "cell_type": "code",
      "source": [
        "# Translation of job description\n",
        "job_data['title'] = job_data['title'].apply(lambda x: translate_job_description(x, 'y'))\n",
        "job_data['description'] = job_data['description'].apply(lambda x: translate_job_description(x, 'n'))\n",
        "\n",
        "# User info (number of ads that have been translated )\n",
        "print('Translation successful! ' + str(translated_job_ads) + '/' + str(all_job_adds) + ' job advertisements were translated')"
      ],
      "metadata": {
        "id": "PkgtBFtM0ZVl"
      },
      "execution_count": null,
      "outputs": []
    },
    {
      "cell_type": "markdown",
      "source": [
        "# 4. Extract skill section from job description\n",
        "* keep only text after the first occurence of a skill section keyword"
      ],
      "metadata": {
        "id": "fTheQ9Yt6WcY"
      }
    },
    {
      "cell_type": "code",
      "source": [
        "# Identifying skill section of job description (keep only text after the first occurence of a skill section keyword)\n",
        "\n",
        "# Specifies skill section keywords\n",
        "skill_section_keywords = [\"qualification\", \"qualifications\", \"competence\", \"competencies\",\n",
        "                          \"skill\", \"skills\", \"requirement\", \"required\", \"requirements\", \"knowledge\", \n",
        "                          \"expected\", \"expectations\", \"we are looking for\", \"profile\", \"what you'll need\", \"responsibilities\", \"responsibility\"]\n",
        "\n",
        "# Function for filtering dataframe by keywords in column 'description' (ignores case)\n",
        "def extract_text(text, keywords):\n",
        "    text_words = text.split()\n",
        "    for i, word in enumerate(text_words):\n",
        "        for keyword in keywords:\n",
        "            if keyword in ' '.join(text_words[i:i+4]):\n",
        "                text = text.replace(keyword, '')\n",
        "                return ' '.join(text_words[i:]) # here you can adjust the number of words which will be kept after the keyphrase\n",
        "    return text\n",
        "\n",
        "\n",
        "# Extract skill section\n",
        "job_data['description'] = job_data['description'].apply(lambda x: extract_text(x, skill_section_keywords))"
      ],
      "metadata": {
        "id": "Tx25nnxERSps"
      },
      "execution_count": 37,
      "outputs": []
    },
    {
      "cell_type": "markdown",
      "source": [
        "# 5. Preprocessing (2/2)\n",
        "\n",
        "*   Removing stopwords\n",
        "*   Tokenization\n",
        "*   Remove tokens that only contain numbers\n",
        "*   Export dataframe to excel"
      ],
      "metadata": {
        "id": "g9dS2lUf5t0T"
      }
    },
    {
      "cell_type": "code",
      "source": [
        "import nltk\n",
        "from nltk.corpus import stopwords\n",
        "nltk.download('stopwords')\n",
        "nltk.download('punkt')\n",
        "\n",
        "# Define stopwords\n",
        "stopwords = stopwords.words('english')\n",
        "\n",
        "# Removing stopwords\n",
        "job_data['description'] = job_data['description'].apply(lambda x: \" \".join(x for x in x.split() if x not in stopwords))\n",
        "\n",
        "# Tokenize job description\n",
        "job_data[\"descriptionTokenized\"] = job_data[\"description\"].apply(nltk.word_tokenize)\n",
        "\n",
        "# Function for removing tokens that only contain numbers\n",
        "def remove_numeric_tokens(tokens):\n",
        "    return [token for token in tokens if not bool(re.match(r'^[0-9]+$', token))]\n",
        "\n",
        "# Remove tokens that only contain numbers\n",
        "job_data[\"descriptionTokenized\"] = job_data[\"descriptionTokenized\"].apply(lambda x: remove_numeric_tokens(x))\n",
        "job_data[\"descriptionTokenized\"] = job_data[\"descriptionTokenized\"].apply(lambda x: \" \".join(x))\n",
        "\n",
        "# Export dataframe to excel\n",
        "job_data.to_excel('job_data_preprocessed_description_filtered.xlsx', index=False)"
      ],
      "metadata": {
        "id": "1qwXDcfoCAvZ",
        "colab": {
          "base_uri": "https://localhost:8080/"
        },
        "outputId": "eab4755c-1f78-47ad-976a-563909c9b523"
      },
      "execution_count": 38,
      "outputs": [
        {
          "output_type": "stream",
          "name": "stderr",
          "text": [
            "[nltk_data] Downloading package stopwords to /root/nltk_data...\n",
            "[nltk_data]   Package stopwords is already up-to-date!\n"
          ]
        }
      ]
    }
  ]
}