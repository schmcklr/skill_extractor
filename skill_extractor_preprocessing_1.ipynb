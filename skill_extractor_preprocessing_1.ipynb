{
  "nbformat": 4,
  "nbformat_minor": 0,
  "metadata": {
    "colab": {
      "provenance": [],
      "authorship_tag": "ABX9TyP1s5TQWcaWOZLDgzFJThVB",
      "include_colab_link": true
    },
    "kernelspec": {
      "name": "python3",
      "display_name": "Python 3"
    },
    "language_info": {
      "name": "python"
    }
  },
  "cells": [
    {
      "cell_type": "markdown",
      "metadata": {
        "id": "view-in-github",
        "colab_type": "text"
      },
      "source": [
        "<a href=\"https://colab.research.google.com/github/schmcklr/skill_extractor/blob/main/skill_extractor_preprocessing_1.ipynb\" target=\"_parent\"><img src=\"https://colab.research.google.com/assets/colab-badge.svg\" alt=\"Open In Colab\"/></a>"
      ]
    },
    {
      "cell_type": "markdown",
      "source": [
        "# 1. Load raw data\n",
        "*   Import of job advertisements\n"
      ],
      "metadata": {
        "id": "bo9dPUkx7szX"
      }
    },
    {
      "cell_type": "code",
      "source": [
        "import pandas as pd\n",
        "# Fetching raw data\n",
        "workbook = 'https://github.com/schmcklr/skill_extractor/blob/main/job_data/job_advertisements.xlsx?raw=true'\n",
        "\n",
        "# Import of tabs\n",
        "job_data = pd.read_excel(workbook, sheet_name=\"data\")\n",
        "\n",
        "# Copying unformatted job description\n",
        "job_data['rawDescription'] = job_data['description']"
      ],
      "metadata": {
        "id": "Q_x_Pq4B4kz6"
      },
      "execution_count": 4,
      "outputs": []
    },
    {
      "cell_type": "markdown",
      "source": [
        "# 2. Preprocessing (1/2)\n",
        "\n",
        "*   Convert to lower case\n",
        "*   Elimination of duplicates\n",
        "*   Convert dates to datetime\n",
        "*   Removing HTML-tags\n",
        "*   Removing most of the punctuation (+, # will not be removed)\n"
      ],
      "metadata": {
        "id": "BdtP2AgC0Trm"
      }
    },
    {
      "cell_type": "code",
      "execution_count": 5,
      "metadata": {
        "id": "nsoMnCSUzfqA"
      },
      "outputs": [],
      "source": [
        "# Import and preprocessing of job advertisements\n",
        "import re\n",
        "import nltk\n",
        "import pandas as pd\n",
        "from bs4 import BeautifulSoup\n",
        "from nltk.corpus import stopwords\n",
        "\n",
        "# Convert text to lower case\n",
        "job_data = job_data.apply(lambda x: x.astype(str).str.lower())\n",
        "\n",
        "# Elimination of duplicates\n",
        "job_data = job_data.drop_duplicates(subset=[\"title\"])\n",
        "job_data = job_data.drop_duplicates(subset=[\"description\"])\n",
        "\n",
        "# Convert 'created_at' to datetime\n",
        "job_data['created_at'] = pd.to_datetime(job_data['created_at'])\n",
        "\n",
        "# Removing html tags\n",
        "job_data['description'] = job_data['description'].apply(lambda x: BeautifulSoup(x.replace('\\n', ' ').replace('\\t', ' '), 'html.parser').get_text(separator=' '))\n",
        "job_data['description_without_html_tags'] = job_data['description']\n",
        "job_data = job_data.dropna(subset=[\"description\"], axis=0)\n",
        "\n",
        "# Removing punctuation (+, # will not be removed)\n",
        "job_data['description'] = job_data['description'].str.replace('[^\\w\\s+#]', ' ', regex=True)"
      ]
    },
    {
      "cell_type": "markdown",
      "source": [
        "#3. Translation"
      ],
      "metadata": {
        "id": "3SbUgFvF6NFc"
      }
    },
    {
      "cell_type": "markdown",
      "source": [
        "3.1 Define function for data translation"
      ],
      "metadata": {
        "id": "zLAqtBtMz7tQ"
      }
    },
    {
      "cell_type": "code",
      "source": [
        "!pip install --upgrade googletrans\n",
        "!pip install --upgrade translatepy\n",
        "!pip install langdetect\n",
        "\n",
        "# Function for data translation\n",
        "from translatepy import Translator\n",
        "from langdetect import detect\n",
        "\n",
        "# Initialization of global variables\n",
        "translated_job_ads = 0\n",
        "all_job_adds = 0\n",
        "\n",
        "# Initialization of translator\n",
        "translator = Translator()\n",
        "\n",
        "\n",
        "# Function for translation of job description\n",
        "def translate_job_description(text, count):\n",
        "    # Global keyword to access global variables\n",
        "    global all_job_adds\n",
        "    if count == 'y':\n",
        "        all_job_adds += 1\n",
        "    if detect(text) != 'en':\n",
        "        # Global keyword to access global variables\n",
        "        global translated_job_ads\n",
        "        if count == 'y':\n",
        "            translated_job_ads += 1\n",
        "        translation = translator.translate(text, \"English\")\n",
        "        translated = translation.result\n",
        "    else:\n",
        "        translated = text\n",
        "    return translated"
      ],
      "metadata": {
        "id": "HUcTVvuo3m7L",
        "colab": {
          "base_uri": "https://localhost:8080/",
          "height": 1000
        },
        "outputId": "18164c9c-763d-47b5-bfd4-4d1bb9c123aa"
      },
      "execution_count": 6,
      "outputs": [
        {
          "output_type": "stream",
          "name": "stdout",
          "text": [
            "Looking in indexes: https://pypi.org/simple, https://us-python.pkg.dev/colab-wheels/public/simple/\n",
            "Collecting googletrans\n",
            "  Downloading googletrans-3.0.0.tar.gz (17 kB)\n",
            "  Preparing metadata (setup.py) ... \u001b[?25l\u001b[?25hdone\n",
            "Collecting httpx==0.13.3\n",
            "  Downloading httpx-0.13.3-py3-none-any.whl (55 kB)\n",
            "\u001b[2K     \u001b[90m━━━━━━━━━━━━━━━━━━━━━━━━━━━━━━━━━━━━━━━━\u001b[0m \u001b[32m55.1/55.1 KB\u001b[0m \u001b[31m3.3 MB/s\u001b[0m eta \u001b[36m0:00:00\u001b[0m\n",
            "\u001b[?25hCollecting sniffio\n",
            "  Downloading sniffio-1.3.0-py3-none-any.whl (10 kB)\n",
            "Collecting hstspreload\n",
            "  Downloading hstspreload-2023.1.1-py3-none-any.whl (1.5 MB)\n",
            "\u001b[2K     \u001b[90m━━━━━━━━━━━━━━━━━━━━━━━━━━━━━━━━━━━━━━━━\u001b[0m \u001b[32m1.5/1.5 MB\u001b[0m \u001b[31m26.9 MB/s\u001b[0m eta \u001b[36m0:00:00\u001b[0m\n",
            "\u001b[?25hRequirement already satisfied: certifi in /usr/local/lib/python3.9/dist-packages (from httpx==0.13.3->googletrans) (2022.12.7)\n",
            "Collecting chardet==3.*\n",
            "  Downloading chardet-3.0.4-py2.py3-none-any.whl (133 kB)\n",
            "\u001b[2K     \u001b[90m━━━━━━━━━━━━━━━━━━━━━━━━━━━━━━━━━━━━━━\u001b[0m \u001b[32m133.4/133.4 KB\u001b[0m \u001b[31m16.4 MB/s\u001b[0m eta \u001b[36m0:00:00\u001b[0m\n",
            "\u001b[?25hCollecting idna==2.*\n",
            "  Downloading idna-2.10-py2.py3-none-any.whl (58 kB)\n",
            "\u001b[2K     \u001b[90m━━━━━━━━━━━━━━━━━━━━━━━━━━━━━━━━━━━━━━━━\u001b[0m \u001b[32m58.8/58.8 KB\u001b[0m \u001b[31m7.6 MB/s\u001b[0m eta \u001b[36m0:00:00\u001b[0m\n",
            "\u001b[?25hCollecting rfc3986<2,>=1.3\n",
            "  Downloading rfc3986-1.5.0-py2.py3-none-any.whl (31 kB)\n",
            "Collecting httpcore==0.9.*\n",
            "  Downloading httpcore-0.9.1-py3-none-any.whl (42 kB)\n",
            "\u001b[2K     \u001b[90m━━━━━━━━━━━━━━━━━━━━━━━━━━━━━━━━━━━━━━━━\u001b[0m \u001b[32m42.6/42.6 KB\u001b[0m \u001b[31m4.5 MB/s\u001b[0m eta \u001b[36m0:00:00\u001b[0m\n",
            "\u001b[?25hCollecting h2==3.*\n",
            "  Downloading h2-3.2.0-py2.py3-none-any.whl (65 kB)\n",
            "\u001b[2K     \u001b[90m━━━━━━━━━━━━━━━━━━━━━━━━━━━━━━━━━━━━━━━━\u001b[0m \u001b[32m65.0/65.0 KB\u001b[0m \u001b[31m6.8 MB/s\u001b[0m eta \u001b[36m0:00:00\u001b[0m\n",
            "\u001b[?25hCollecting h11<0.10,>=0.8\n",
            "  Downloading h11-0.9.0-py2.py3-none-any.whl (53 kB)\n",
            "\u001b[2K     \u001b[90m━━━━━━━━━━━━━━━━━━━━━━━━━━━━━━━━━━━━━━━━\u001b[0m \u001b[32m53.6/53.6 KB\u001b[0m \u001b[31m5.6 MB/s\u001b[0m eta \u001b[36m0:00:00\u001b[0m\n",
            "\u001b[?25hCollecting hpack<4,>=3.0\n",
            "  Downloading hpack-3.0.0-py2.py3-none-any.whl (38 kB)\n",
            "Collecting hyperframe<6,>=5.2.0\n",
            "  Downloading hyperframe-5.2.0-py2.py3-none-any.whl (12 kB)\n",
            "Building wheels for collected packages: googletrans\n",
            "  Building wheel for googletrans (setup.py) ... \u001b[?25l\u001b[?25hdone\n",
            "  Created wheel for googletrans: filename=googletrans-3.0.0-py3-none-any.whl size=15735 sha256=0c5ab2e5ed32001a407ac4109230ddc1d54a137c158c910ed9a958ccfebe5e51\n",
            "  Stored in directory: /root/.cache/pip/wheels/27/f3/32/d4859d40071f07a5df0ab6fdc0076e78a8a786625dde2b4b2f\n",
            "Successfully built googletrans\n",
            "Installing collected packages: rfc3986, hyperframe, hpack, h11, chardet, sniffio, idna, hstspreload, h2, httpcore, httpx, googletrans\n",
            "  Attempting uninstall: chardet\n",
            "    Found existing installation: chardet 4.0.0\n",
            "    Uninstalling chardet-4.0.0:\n",
            "      Successfully uninstalled chardet-4.0.0\n",
            "  Attempting uninstall: idna\n",
            "    Found existing installation: idna 3.4\n",
            "    Uninstalling idna-3.4:\n",
            "      Successfully uninstalled idna-3.4\n",
            "Successfully installed chardet-3.0.4 googletrans-3.0.0 h11-0.9.0 h2-3.2.0 hpack-3.0.0 hstspreload-2023.1.1 httpcore-0.9.1 httpx-0.13.3 hyperframe-5.2.0 idna-2.10 rfc3986-1.5.0 sniffio-1.3.0\n"
          ]
        },
        {
          "output_type": "display_data",
          "data": {
            "application/vnd.colab-display-data+json": {
              "pip_warning": {
                "packages": [
                  "chardet"
                ]
              }
            }
          },
          "metadata": {}
        },
        {
          "output_type": "stream",
          "name": "stdout",
          "text": [
            "Looking in indexes: https://pypi.org/simple, https://us-python.pkg.dev/colab-wheels/public/simple/\n",
            "Collecting translatepy\n",
            "  Downloading translatepy-2.3-py3-none-any.whl (814 kB)\n",
            "\u001b[?25l     \u001b[90m━━━━━━━━━━━━━━━━━━━━━━━━━━━━━━━━━━━━━━━━\u001b[0m \u001b[32m0.0/814.4 KB\u001b[0m \u001b[31m?\u001b[0m eta \u001b[36m-:--:--\u001b[0m\r\u001b[2K     \u001b[91m━━━━━━━━━━━━━━━━\u001b[0m\u001b[90m╺\u001b[0m\u001b[90m━━━━━━━━━━━━━━━━━━━━━━\u001b[0m \u001b[32m337.9/814.4 KB\u001b[0m \u001b[31m9.9 MB/s\u001b[0m eta \u001b[36m0:00:01\u001b[0m\r\u001b[2K     \u001b[90m━━━━━━━━━━━━━━━━━━━━━━━━━━━━━━━━━━━━━━\u001b[0m \u001b[32m814.4/814.4 KB\u001b[0m \u001b[31m14.3 MB/s\u001b[0m eta \u001b[36m0:00:00\u001b[0m\n",
            "\u001b[?25hCollecting safeIO>=1.2\n",
            "  Downloading safeIO-1.2.tar.gz (8.0 kB)\n",
            "  Preparing metadata (setup.py) ... \u001b[?25l\u001b[?25hdone\n",
            "Collecting pyuseragents\n",
            "  Downloading pyuseragents-1.0.5-py3-none-any.whl (79 kB)\n",
            "\u001b[2K     \u001b[90m━━━━━━━━━━━━━━━━━━━━━━━━━━━━━━━━━━━━━━━━\u001b[0m \u001b[32m79.8/79.8 KB\u001b[0m \u001b[31m10.3 MB/s\u001b[0m eta \u001b[36m0:00:00\u001b[0m\n",
            "\u001b[?25hCollecting inquirer>=2.8.0\n",
            "  Downloading inquirer-3.1.3-py3-none-any.whl (18 kB)\n",
            "Requirement already satisfied: beautifulsoup4 in /usr/local/lib/python3.9/dist-packages (from translatepy) (4.11.2)\n",
            "Requirement already satisfied: requests in /usr/local/lib/python3.9/dist-packages (from translatepy) (2.27.1)\n",
            "Collecting blessed>=1.19.0\n",
            "  Downloading blessed-1.20.0-py2.py3-none-any.whl (58 kB)\n",
            "\u001b[2K     \u001b[90m━━━━━━━━━━━━━━━━━━━━━━━━━━━━━━━━━━━━━━━━\u001b[0m \u001b[32m58.4/58.4 KB\u001b[0m \u001b[31m6.4 MB/s\u001b[0m eta \u001b[36m0:00:00\u001b[0m\n",
            "\u001b[?25hCollecting python-editor>=1.0.4\n",
            "  Downloading python_editor-1.0.4-py3-none-any.whl (4.9 kB)\n",
            "Collecting readchar>=3.0.6\n",
            "  Downloading readchar-4.0.5-py3-none-any.whl (8.5 kB)\n",
            "Requirement already satisfied: soupsieve>1.2 in /usr/local/lib/python3.9/dist-packages (from beautifulsoup4->translatepy) (2.4)\n",
            "Requirement already satisfied: charset-normalizer~=2.0.0 in /usr/local/lib/python3.9/dist-packages (from requests->translatepy) (2.0.12)\n",
            "Requirement already satisfied: certifi>=2017.4.17 in /usr/local/lib/python3.9/dist-packages (from requests->translatepy) (2022.12.7)\n",
            "Requirement already satisfied: urllib3<1.27,>=1.21.1 in /usr/local/lib/python3.9/dist-packages (from requests->translatepy) (1.26.15)\n",
            "Requirement already satisfied: idna<4,>=2.5 in /usr/local/lib/python3.9/dist-packages (from requests->translatepy) (2.10)\n",
            "Requirement already satisfied: wcwidth>=0.1.4 in /usr/local/lib/python3.9/dist-packages (from blessed>=1.19.0->inquirer>=2.8.0->translatepy) (0.2.6)\n",
            "Requirement already satisfied: six>=1.9.0 in /usr/local/lib/python3.9/dist-packages (from blessed>=1.19.0->inquirer>=2.8.0->translatepy) (1.16.0)\n",
            "Requirement already satisfied: setuptools>=41.0 in /usr/local/lib/python3.9/dist-packages (from readchar>=3.0.6->inquirer>=2.8.0->translatepy) (67.6.1)\n",
            "Building wheels for collected packages: safeIO\n",
            "  Building wheel for safeIO (setup.py) ... \u001b[?25l\u001b[?25hdone\n",
            "  Created wheel for safeIO: filename=safeIO-1.2-py3-none-any.whl size=6749 sha256=1028e8519741f3c0d17156e895840ede416e32cd8329b407a5cda1f1252f682b\n",
            "  Stored in directory: /root/.cache/pip/wheels/52/24/50/3043f0924b68887fb36f98b936af7c2b38fa3025b4f4418947\n",
            "Successfully built safeIO\n",
            "Installing collected packages: safeIO, pyuseragents, python-editor, readchar, blessed, inquirer, translatepy\n",
            "Successfully installed blessed-1.20.0 inquirer-3.1.3 python-editor-1.0.4 pyuseragents-1.0.5 readchar-4.0.5 safeIO-1.2 translatepy-2.3\n",
            "Looking in indexes: https://pypi.org/simple, https://us-python.pkg.dev/colab-wheels/public/simple/\n",
            "Collecting langdetect\n",
            "  Downloading langdetect-1.0.9.tar.gz (981 kB)\n",
            "\u001b[2K     \u001b[90m━━━━━━━━━━━━━━━━━━━━━━━━━━━━━━━━━━━━━━\u001b[0m \u001b[32m981.5/981.5 KB\u001b[0m \u001b[31m16.9 MB/s\u001b[0m eta \u001b[36m0:00:00\u001b[0m\n",
            "\u001b[?25h  Preparing metadata (setup.py) ... \u001b[?25l\u001b[?25hdone\n",
            "Requirement already satisfied: six in /usr/local/lib/python3.9/dist-packages (from langdetect) (1.16.0)\n",
            "Building wheels for collected packages: langdetect\n",
            "  Building wheel for langdetect (setup.py) ... \u001b[?25l\u001b[?25hdone\n",
            "  Created wheel for langdetect: filename=langdetect-1.0.9-py3-none-any.whl size=993243 sha256=054b957d14353d052a263abfd052078bb98613e691aad9c64c03f85c9600e09b\n",
            "  Stored in directory: /root/.cache/pip/wheels/d1/c1/d9/7e068de779d863bc8f8fc9467d85e25cfe47fa5051fff1a1bb\n",
            "Successfully built langdetect\n",
            "Installing collected packages: langdetect\n",
            "Successfully installed langdetect-1.0.9\n"
          ]
        }
      ]
    },
    {
      "cell_type": "markdown",
      "source": [
        "3.2 Translation of job advertisements"
      ],
      "metadata": {
        "id": "VwoLYXSo0c2g"
      }
    },
    {
      "cell_type": "code",
      "source": [
        "# Translation of job description\n",
        "job_data['title'] = job_data['title'].apply(lambda x: translate_job_description(x, 'y'))\n",
        "job_data['description'] = job_data['description'].apply(lambda x: translate_job_description(x, 'n'))\n",
        "\n",
        "# User info (number of ads that have been translated )\n",
        "print('Translation successful! ' + str(translated_job_ads) + '/' + str(all_job_adds) + ' job advertisements were translated')"
      ],
      "metadata": {
        "colab": {
          "base_uri": "https://localhost:8080/"
        },
        "id": "PkgtBFtM0ZVl",
        "outputId": "c2233e47-9ba3-44d0-c200-da80d446fe44"
      },
      "execution_count": 7,
      "outputs": [
        {
          "output_type": "stream",
          "name": "stdout",
          "text": [
            "Translation successful! 849/2694 job advertisements were translated\n"
          ]
        }
      ]
    },
    {
      "cell_type": "markdown",
      "source": [
        "# 4. Extract skill section from job description\n",
        "* keep only text after the first occurence of a skill section keyword"
      ],
      "metadata": {
        "id": "fTheQ9Yt6WcY"
      }
    },
    {
      "cell_type": "code",
      "source": [
        "# Identifying skill section of job description (keep only text after the first occurence of a skill section keyword)\n",
        "\n",
        "# Specifies skill section keywords\n",
        "skill_section_keywords = [\"qualification\", \"qualifications\", \"competence\", \"competencies\",\n",
        "                          \"skill\", \"skills\", \"requirement\", \"required\", \"requirements\", \"knowledge\", \n",
        "                          \"expected\", \"expectations\", \"we are looking for\", \"profile\", \"what you'll need\", \"responsibilities\", \"responsibility\"]\n",
        "\n",
        "# Function for filtering dataframe by keywords in column 'description' (ignores case)\n",
        "def extract_text(text, keywords):\n",
        "    text_words = text.split()\n",
        "    for i, word in enumerate(text_words):\n",
        "        for keyword in keywords:\n",
        "            if keyword in ' '.join(text_words[i:i+4]):\n",
        "                text = text.replace(keyword, '')\n",
        "                return ' '.join(text_words[i:]) # here you can adjust the number of words which will be kept after the keyphrase\n",
        "    return text\n",
        "\n",
        "\n",
        "# Extract skill section\n",
        "job_data['description'] = job_data['description'].apply(lambda x: extract_text(x, skill_section_keywords))"
      ],
      "metadata": {
        "id": "Tx25nnxERSps"
      },
      "execution_count": 8,
      "outputs": []
    },
    {
      "cell_type": "markdown",
      "source": [
        "# 5. Preprocessing (2/2)\n",
        "\n",
        "*   Removing stopwords\n",
        "*   Tokenization\n",
        "*   Remove tokens that only contain numbers\n",
        "*   Export dataframe to excel"
      ],
      "metadata": {
        "id": "g9dS2lUf5t0T"
      }
    },
    {
      "cell_type": "code",
      "source": [
        "import nltk\n",
        "from nltk.corpus import stopwords\n",
        "nltk.download('stopwords')\n",
        "nltk.download('punkt')\n",
        "\n",
        "# Define stopwords\n",
        "stopwords = stopwords.words('english')\n",
        "\n",
        "# Removing stopwords\n",
        "job_data['description'] = job_data['description'].apply(lambda x: \" \".join(x for x in x.split() if x not in stopwords))\n",
        "\n",
        "# Tokenize job description\n",
        "job_data[\"descriptionTokenized\"] = job_data[\"description\"].apply(nltk.word_tokenize)\n",
        "\n",
        "# Function for removing tokens that only contain numbers\n",
        "def remove_numeric_tokens(tokens):\n",
        "    return [token for token in tokens if not bool(re.match(r'^[0-9]+$', token))]\n",
        "\n",
        "# Remove tokens that only contain numbers\n",
        "job_data[\"descriptionTokenized\"] = job_data[\"descriptionTokenized\"].apply(lambda x: remove_numeric_tokens(x))\n",
        "job_data[\"descriptionTokenized\"] = job_data[\"descriptionTokenized\"].apply(lambda x: \" \".join(x))\n",
        "\n",
        "# Export dataframe to excel\n",
        "job_data.to_excel('job_data_preprocessed_description_filtered.xlsx', index=False)"
      ],
      "metadata": {
        "id": "1qwXDcfoCAvZ",
        "colab": {
          "base_uri": "https://localhost:8080/"
        },
        "outputId": "1d1bdeb1-5d1b-41d4-b60d-767d6cf9b516"
      },
      "execution_count": 9,
      "outputs": [
        {
          "output_type": "stream",
          "name": "stderr",
          "text": [
            "[nltk_data] Downloading package stopwords to /root/nltk_data...\n",
            "[nltk_data]   Unzipping corpora/stopwords.zip.\n",
            "[nltk_data] Downloading package punkt to /root/nltk_data...\n",
            "[nltk_data]   Unzipping tokenizers/punkt.zip.\n"
          ]
        }
      ]
    }
  ]
}