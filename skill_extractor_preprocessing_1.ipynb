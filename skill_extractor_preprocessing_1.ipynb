{
  "nbformat": 4,
  "nbformat_minor": 0,
  "metadata": {
    "colab": {
      "provenance": [],
      "authorship_tag": "ABX9TyP5BKnIHqioUtiRn37M910M",
      "include_colab_link": true
    },
    "kernelspec": {
      "name": "python3",
      "display_name": "Python 3"
    },
    "language_info": {
      "name": "python"
    }
  },
  "cells": [
    {
      "cell_type": "markdown",
      "metadata": {
        "id": "view-in-github",
        "colab_type": "text"
      },
      "source": [
        "<a href=\"https://colab.research.google.com/github/schmcklr/skill_extractor/blob/main/skill_extractor_preprocessing_1.ipynb\" target=\"_parent\"><img src=\"https://colab.research.google.com/assets/colab-badge.svg\" alt=\"Open In Colab\"/></a>"
      ]
    },
    {
      "cell_type": "markdown",
      "source": [
        "# 1. Install dependencies, load packages & define functions\n",
        "*   nltk (for visualization)\n",
        "*   gensim (for topic modeling)\n",
        "*   spacy language model \"de_core_news_sm\" (for \n",
        "tokenization)"
      ],
      "metadata": {
        "id": "bo9dPUkx7szX"
      }
    },
    {
      "cell_type": "code",
      "source": [
        "# install and import needed dependencies\n",
        "!pip install --upgrade googletrans\n",
        "!pip install --upgrade translatepy\n",
        "!pip install langdetect\n",
        "import nltk\n",
        "import pandas as pd\n",
        "from bs4 import BeautifulSoup\n",
        "from nltk.corpus import stopwords\n",
        "import re\n",
        "# download of needed packages\n",
        "nltk.download('punkt')\n",
        "nltk.download('stopwords')"
      ],
      "metadata": {
        "colab": {
          "base_uri": "https://localhost:8080/"
        },
        "id": "-5lgs1YVzx8v",
        "outputId": "856505e3-851e-4d06-a58f-2d797689b7e9"
      },
      "execution_count": 33,
      "outputs": [
        {
          "output_type": "stream",
          "name": "stdout",
          "text": [
            "Looking in indexes: https://pypi.org/simple, https://us-python.pkg.dev/colab-wheels/public/simple/\n",
            "Requirement already satisfied: googletrans in /usr/local/lib/python3.9/dist-packages (3.0.0)\n",
            "Requirement already satisfied: httpx==0.13.3 in /usr/local/lib/python3.9/dist-packages (from googletrans) (0.13.3)\n",
            "Requirement already satisfied: idna==2.* in /usr/local/lib/python3.9/dist-packages (from httpx==0.13.3->googletrans) (2.10)\n",
            "Requirement already satisfied: sniffio in /usr/local/lib/python3.9/dist-packages (from httpx==0.13.3->googletrans) (1.3.0)\n",
            "Requirement already satisfied: certifi in /usr/local/lib/python3.9/dist-packages (from httpx==0.13.3->googletrans) (2022.12.7)\n",
            "Requirement already satisfied: rfc3986<2,>=1.3 in /usr/local/lib/python3.9/dist-packages (from httpx==0.13.3->googletrans) (1.5.0)\n",
            "Requirement already satisfied: hstspreload in /usr/local/lib/python3.9/dist-packages (from httpx==0.13.3->googletrans) (2023.1.1)\n",
            "Requirement already satisfied: chardet==3.* in /usr/local/lib/python3.9/dist-packages (from httpx==0.13.3->googletrans) (3.0.4)\n",
            "Requirement already satisfied: httpcore==0.9.* in /usr/local/lib/python3.9/dist-packages (from httpx==0.13.3->googletrans) (0.9.1)\n",
            "Requirement already satisfied: h11<0.10,>=0.8 in /usr/local/lib/python3.9/dist-packages (from httpcore==0.9.*->httpx==0.13.3->googletrans) (0.9.0)\n",
            "Requirement already satisfied: h2==3.* in /usr/local/lib/python3.9/dist-packages (from httpcore==0.9.*->httpx==0.13.3->googletrans) (3.2.0)\n",
            "Requirement already satisfied: hpack<4,>=3.0 in /usr/local/lib/python3.9/dist-packages (from h2==3.*->httpcore==0.9.*->httpx==0.13.3->googletrans) (3.0.0)\n",
            "Requirement already satisfied: hyperframe<6,>=5.2.0 in /usr/local/lib/python3.9/dist-packages (from h2==3.*->httpcore==0.9.*->httpx==0.13.3->googletrans) (5.2.0)\n",
            "Looking in indexes: https://pypi.org/simple, https://us-python.pkg.dev/colab-wheels/public/simple/\n",
            "Requirement already satisfied: translatepy in /usr/local/lib/python3.9/dist-packages (2.3)\n",
            "Requirement already satisfied: pyuseragents in /usr/local/lib/python3.9/dist-packages (from translatepy) (1.0.5)\n",
            "Requirement already satisfied: requests in /usr/local/lib/python3.9/dist-packages (from translatepy) (2.27.1)\n",
            "Requirement already satisfied: safeIO>=1.2 in /usr/local/lib/python3.9/dist-packages (from translatepy) (1.2)\n",
            "Requirement already satisfied: beautifulsoup4 in /usr/local/lib/python3.9/dist-packages (from translatepy) (4.11.2)\n",
            "Requirement already satisfied: inquirer>=2.8.0 in /usr/local/lib/python3.9/dist-packages (from translatepy) (3.1.3)\n",
            "Requirement already satisfied: blessed>=1.19.0 in /usr/local/lib/python3.9/dist-packages (from inquirer>=2.8.0->translatepy) (1.20.0)\n",
            "Requirement already satisfied: python-editor>=1.0.4 in /usr/local/lib/python3.9/dist-packages (from inquirer>=2.8.0->translatepy) (1.0.4)\n",
            "Requirement already satisfied: readchar>=3.0.6 in /usr/local/lib/python3.9/dist-packages (from inquirer>=2.8.0->translatepy) (4.0.5)\n",
            "Requirement already satisfied: soupsieve>1.2 in /usr/local/lib/python3.9/dist-packages (from beautifulsoup4->translatepy) (2.4)\n",
            "Requirement already satisfied: charset-normalizer~=2.0.0 in /usr/local/lib/python3.9/dist-packages (from requests->translatepy) (2.0.12)\n",
            "Requirement already satisfied: certifi>=2017.4.17 in /usr/local/lib/python3.9/dist-packages (from requests->translatepy) (2022.12.7)\n",
            "Requirement already satisfied: idna<4,>=2.5 in /usr/local/lib/python3.9/dist-packages (from requests->translatepy) (2.10)\n",
            "Requirement already satisfied: urllib3<1.27,>=1.21.1 in /usr/local/lib/python3.9/dist-packages (from requests->translatepy) (1.26.15)\n",
            "Requirement already satisfied: six>=1.9.0 in /usr/local/lib/python3.9/dist-packages (from blessed>=1.19.0->inquirer>=2.8.0->translatepy) (1.16.0)\n",
            "Requirement already satisfied: wcwidth>=0.1.4 in /usr/local/lib/python3.9/dist-packages (from blessed>=1.19.0->inquirer>=2.8.0->translatepy) (0.2.6)\n",
            "Requirement already satisfied: setuptools>=41.0 in /usr/local/lib/python3.9/dist-packages (from readchar>=3.0.6->inquirer>=2.8.0->translatepy) (67.6.1)\n",
            "Looking in indexes: https://pypi.org/simple, https://us-python.pkg.dev/colab-wheels/public/simple/\n",
            "Requirement already satisfied: langdetect in /usr/local/lib/python3.9/dist-packages (1.0.9)\n",
            "Requirement already satisfied: six in /usr/local/lib/python3.9/dist-packages (from langdetect) (1.16.0)\n"
          ]
        },
        {
          "output_type": "stream",
          "name": "stderr",
          "text": [
            "[nltk_data] Downloading package punkt to /root/nltk_data...\n",
            "[nltk_data]   Package punkt is already up-to-date!\n",
            "[nltk_data] Downloading package stopwords to /root/nltk_data...\n",
            "[nltk_data]   Package stopwords is already up-to-date!\n"
          ]
        },
        {
          "output_type": "execute_result",
          "data": {
            "text/plain": [
              "True"
            ]
          },
          "metadata": {},
          "execution_count": 33
        }
      ]
    },
    {
      "cell_type": "code",
      "source": [
        "# function for data translation\n",
        "from translatepy import Translator\n",
        "from langdetect import detect\n",
        "\n",
        "# initialization of global variables\n",
        "translated_job_ads = 0\n",
        "all_job_adds = 0\n",
        "\n",
        "# initialization of translator\n",
        "translator = Translator()\n",
        "\n",
        "\n",
        "# function for translation of job description\n",
        "def translate_job_description(text, count):\n",
        "    # global keyword to access global variables\n",
        "    global all_job_adds\n",
        "    if count == 'y':\n",
        "        all_job_adds += 1\n",
        "    if detect(text) != 'en':\n",
        "        # global keyword to access global variables\n",
        "        global translated_job_ads\n",
        "        if count == 'y':\n",
        "            translated_job_ads += 1\n",
        "        translation = translator.translate(text, \"English\")\n",
        "        translated = translation.result\n",
        "\n",
        "    else:\n",
        "        translated = text\n",
        "    return translated"
      ],
      "metadata": {
        "id": "HUcTVvuo3m7L"
      },
      "execution_count": 34,
      "outputs": []
    },
    {
      "cell_type": "code",
      "execution_count": 35,
      "metadata": {
        "colab": {
          "base_uri": "https://localhost:8080/"
        },
        "id": "nsoMnCSUzfqA",
        "outputId": "90591f66-142a-422a-c02e-68f3ef6a8f0d"
      },
      "outputs": [
        {
          "output_type": "stream",
          "name": "stdout",
          "text": [
            "Loading job advertisement data...\n",
            "Translation of job advertisements...\n",
            "Translation successful! 833/2694 job advertisements were translated\n"
          ]
        }
      ],
      "source": [
        "# import and preprocessing of job advertisements\n",
        "import nltk\n",
        "import pandas as pd\n",
        "from bs4 import BeautifulSoup\n",
        "from nltk.corpus import stopwords\n",
        "import re\n",
        "\n",
        "# user info\n",
        "\n",
        "print('Loading job advertisement data...')\n",
        "\n",
        "# TODO: just for developing context, remove afterwards\n",
        "# pd.set_option('display.max_rows', None)\n",
        "pd.set_option('display.max_columns', None)\n",
        "pd.set_option('display.width', None)\n",
        "\n",
        "# fetching raw data\n",
        "workbook = 'https://github.com/schmcklr/skill_analyser/blob/main/job_data/jobAdvertisements.xlsx?raw=true'\n",
        "\n",
        "# import of tabs\n",
        "job_data = pd.read_excel(workbook, sheet_name=\"data\")\n",
        "\n",
        "# copying unformatted job description\n",
        "job_data['rawDescription'] = job_data['description']\n",
        "\n",
        "# convert text to lower case\n",
        "job_data = job_data.apply(lambda x: x.astype(str).str.lower())\n",
        "\n",
        "# elimination of duplicates\n",
        "job_data = job_data.drop_duplicates(subset=[\"title\"])\n",
        "job_data = job_data.drop_duplicates(subset=[\"description\"])\n",
        "\n",
        "# covert 'created_at' to datetime\n",
        "job_data['created_at'] = pd.to_datetime(job_data['created_at'])\n",
        "\n",
        "# removing html tags\n",
        "job_data['description'] = job_data['description'].apply(lambda x: BeautifulSoup(x.replace('\\n', ' ').replace('\\t', ' '), 'html.parser').get_text(separator=' '))\n",
        "job_data['description_without_html_tags'] = job_data['description']\n",
        "job_data = job_data.dropna(subset=[\"description\"], axis=0)\n",
        "\n",
        "# removing punctuation\n",
        "job_data['description'] = job_data['description'].str.replace('[^\\w\\s+#]', ' ', regex=True)\n",
        "\n",
        "# user info\n",
        "print('Translation of job advertisements...')\n",
        "\n",
        "\n",
        "# translation of job description\n",
        "job_data['title'] = job_data['title'].apply(lambda x: translate_job_description(x, 'y'))\n",
        "job_data['description'] = job_data['description'].apply(lambda x: translate_job_description(x, 'n'))\n",
        "print('Translation successful! ' + str(translated_job_ads) + '/' + str(all_job_adds) + ' job advertisements were translated')"
      ]
    },
    {
      "cell_type": "markdown",
      "source": [
        "Filtering Job description"
      ],
      "metadata": {
        "id": "4gUkaNV_2QNB"
      }
    },
    {
      "cell_type": "code",
      "source": [
        "# filtering job description to only keep text after the first occurence of a skill section keyword\n",
        "\n",
        "# specifies skill section keywords\n",
        "skill_section_keywords = [\"qualification\", \"qualifications\", \"competence\", \"competencies\",\n",
        "                          \"skill\", \"skills\", \"requirement\", \"required\", \"requirements\", \"knowledge\", \n",
        "                          \"expected\", \"expectations\", \"we are looking for\", \"profile\", \"what you'll need\", \"responsibilities\", \"responsibility\"]\n",
        "\n",
        "# function for filtering dataframe by keywords in column 'description' (ignores case)\n",
        "def extract_text(text, keywords):\n",
        "    text_words = text.split()\n",
        "    for i, word in enumerate(text_words):\n",
        "        for keyword in keywords:\n",
        "            if keyword in ' '.join(text_words[i:i+4]):\n",
        "                text = text.replace(keyword, '')\n",
        "                return ' '.join(text_words[i:]) # here you can adjust the number of words which will be kept after the keyphrase\n",
        "    return text\n",
        "\n",
        "\n",
        "# use of extract_text function\n",
        "job_data['description'] = job_data['description'].apply(lambda x: extract_text(x, skill_section_keywords))"
      ],
      "metadata": {
        "id": "Tx25nnxERSps"
      },
      "execution_count": 37,
      "outputs": []
    },
    {
      "cell_type": "code",
      "source": [
        "import nltk\n",
        "nltk.download('stopwords')\n",
        "from nltk.corpus import stopwords\n",
        "stopwords = stopwords.words('english')\n",
        "\n",
        "# removing stopwords\n",
        "job_data['description'] = job_data['description'].apply(lambda x: \" \".join(x for x in x.split() if x not in stopwords))\n",
        "\n",
        "# removing more stop words\n",
        "other_stop_words = ['good', 'drive', 'part', 'time', 'develop', 'one', 'well', 'help', 'opportunities', 'execution', 'requirements', 'service',\n",
        "                    'people', 'within', 'ability',  'projects', 'us', 'strong', 'environment', 'product', 'customer', 'project',  'company',\n",
        "                    'services', 'solutions', 'knowledge', 'celonis', 'customers', 'new', 'working', 'support', 'skills', 'experience', 'work']\n",
        "\n",
        "\n",
        "job_data['description'] = job_data['description'].apply(lambda x: \" \".join(x for x in x.split() if x not in other_stop_words))\n",
        "\n",
        "\n",
        "# tokenize\n",
        "job_data[\"descriptionTokenized\"] = job_data[\"description\"].apply(nltk.word_tokenize)\n",
        "\n",
        "# function for removing tokens that only contain numbers\n",
        "def remove_numeric_tokens(tokens):\n",
        "    return [token for token in tokens if not bool(re.match(r'^[0-9]+$', token))]\n",
        "\n",
        "# remove tokens that only contain numbers\n",
        "job_data[\"descriptionTokenized\"] = job_data[\"descriptionTokenized\"].apply(lambda x: remove_numeric_tokens(x))\n",
        "job_data[\"descriptionTokenized\"] = job_data[\"descriptionTokenized\"].apply(lambda x: \" \".join(x))\n",
        "\n",
        "# export dataframe to excel\n",
        "job_data.to_excel('job_data_preprocessed_description_filtered.xlsx', index=False)"
      ],
      "metadata": {
        "id": "1qwXDcfoCAvZ",
        "colab": {
          "base_uri": "https://localhost:8080/"
        },
        "outputId": "eab4755c-1f78-47ad-976a-563909c9b523"
      },
      "execution_count": 38,
      "outputs": [
        {
          "output_type": "stream",
          "name": "stderr",
          "text": [
            "[nltk_data] Downloading package stopwords to /root/nltk_data...\n",
            "[nltk_data]   Package stopwords is already up-to-date!\n"
          ]
        }
      ]
    }
  ]
}